{
 "cells": [
  {
   "cell_type": "code",
   "execution_count": 2,
   "metadata": {},
   "outputs": [
    {
     "name": "stdout",
     "output_type": "stream",
     "text": [
      "chance of winning if not switch:  0.3362\n",
      "chance of winning if switch:  0.6664\n"
     ]
    }
   ],
   "source": [
    "# simulate the Monty-Hall Problem using numpy random function!!\n",
    "from numpy import random\n",
    "\n",
    "def monty_hall(num_doors, switch):\n",
    "    \n",
    "    winner_door = random.randint(0, num_doors)#; print \"Prize: \", winner_door\n",
    "\n",
    "    closed_doors = range(num_doors) \n",
    "\n",
    "    choice = random.choice(closed_doors)#; print \"choice: \", choice\n",
    "\n",
    "    while len(closed_doors) > 2:\n",
    "\n",
    "        remove_door = random.randint(0, num_doors)\n",
    "        if remove_door == winner_door or remove_door == choice:\n",
    "            continue\n",
    "\n",
    "        #print \"Door opend\", remove_door\n",
    "        closed_doors.remove(remove_door)\n",
    "        available_doors = closed_doors\n",
    "\n",
    "    if switch:\n",
    "        available_doors.remove(choice)\n",
    "        choice = available_doors.pop()\n",
    "        #print available_doors\n",
    "    else:\n",
    "        choice = choice\n",
    "        \n",
    "    won = (choice == winner_door)\n",
    "    \n",
    "    return won\n",
    "#-------------------\n",
    "num_doors = 3; trials = 10000\n",
    "\n",
    "winner_non_swtich = 0\n",
    "winner_switch = 0\n",
    "\n",
    "for i in range(trials):\n",
    "    won = monty_hall(num_doors, switch = False)\n",
    "    if won:\n",
    "        winner_non_swtich += 1\n",
    "        \n",
    "    won = monty_hall(num_doors, switch=True)\n",
    "    if won:\n",
    "        winner_switch += 1\n",
    "    \n",
    "print \"chance of winning if not switch: \", float(winner_non_swtich)/float(trials)\n",
    "print \"chance of winning if switch: \", float(winner_switch)/float(trials)\n"
   ]
  },
  {
   "cell_type": "code",
   "execution_count": 81,
   "metadata": {},
   "outputs": [],
   "source": [
    "closed_doors = list"
   ]
  },
  {
   "cell_type": "code",
   "execution_count": null,
   "metadata": {},
   "outputs": [],
   "source": [
    "winner_door = random.randint"
   ]
  },
  {
   "cell_type": "code",
   "execution_count": null,
   "metadata": {},
   "outputs": [],
   "source": []
  },
  {
   "cell_type": "code",
   "execution_count": null,
   "metadata": {},
   "outputs": [],
   "source": []
  }
 ],
 "metadata": {
  "kernelspec": {
   "display_name": "Python 2",
   "language": "python",
   "name": "python2"
  },
  "language_info": {
   "codemirror_mode": {
    "name": "ipython",
    "version": 2
   },
   "file_extension": ".py",
   "mimetype": "text/x-python",
   "name": "python",
   "nbconvert_exporter": "python",
   "pygments_lexer": "ipython2",
   "version": "2.7.13"
  }
 },
 "nbformat": 4,
 "nbformat_minor": 2
}
