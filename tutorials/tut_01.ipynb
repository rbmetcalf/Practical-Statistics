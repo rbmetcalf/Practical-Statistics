{
 "cells": [
  {
   "cell_type": "code",
   "execution_count": null,
   "metadata": {},
   "outputs": [],
   "source": [
    "#Tutorial number 1:-\n",
    "#-- Create a scatter plot of a gaussian data (hint: see numpy funtion random.normal) of size 1000,\n",
    "#-- located at 0.0 and with scale 5.0.\n",
    "#-- Enhance the plot with axis labels  (x-position , y-position) and don't forget the units in Mpc/h, \n",
    "#-- plot title (\"2d galaxy distribution\") and x&y-axis ticks [-5, -3, .., 3, 5] and set dimond as point marker, \n",
    "#-- blue as point color and  1.5 for  point size. \n",
    "\n",
    "#-- Create a histogram of the previous x&y data with 20 equispaced linear bins and plot it. \n",
    "#-- Creat a combined plot that shows the scatter data in the middel with x&y historgrams beside each axis. \n",
    "#-- Look at the follwoing example for help (https://matplotlib.org/examples/pylab_examples/scatter_hist.html)\n",
    "\n"
   ]
  }
 ],
 "metadata": {
  "kernelspec": {
   "display_name": "Python 2",
   "language": "python",
   "name": "python2"
  },
  "language_info": {
   "codemirror_mode": {
    "name": "ipython",
    "version": 2
   },
   "file_extension": ".py",
   "mimetype": "text/x-python",
   "name": "python",
   "nbconvert_exporter": "python",
   "pygments_lexer": "ipython2",
   "version": "2.7.13"
  }
 },
 "nbformat": 4,
 "nbformat_minor": 2
}
