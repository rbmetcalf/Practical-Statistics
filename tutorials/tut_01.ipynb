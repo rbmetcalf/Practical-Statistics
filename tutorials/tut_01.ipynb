{
 "cells": [
  {
   "cell_type": "markdown",
   "metadata": {},
   "source": [
    "# Tutorial 01 - Experimental Central Limit Theorem #\n",
    "\n",
    "In this tutorial we will do some experiments, get familiar with some of the \n",
    "statistical distribution functions and displaying the output.\n",
    "\n",
    "The central limit theorem states that the sum of an infinite number of \n",
    "identically distributed random numbers will be normally (or Gaussian) \n",
    "distributed.  We will go over this in lecture, but here we will verify \n",
    "it in a numerical experiment by adding together random \n",
    "numbers.\n",
    "\n",
    " In this tutorial you will use the following library functions :\n",
    " \n",
    " np.random.uniform(), np.sort(), np.arange(), np.mean(), np.std()\n",
    " plt.hist(), plt.show(), plt.plot(), plt.legend()\n",
    " stats.norm.cdf()\n",
    "\n",
    " You can find documentation for them by googling."
   ]
  },
  {
   "cell_type": "code",
   "execution_count": 2,
   "metadata": {},
   "outputs": [],
   "source": [
    "## import numpy, matplotlib.pyplot and scipy.stats\n",
    "import numpy as np\n",
    "import matplotlib.pyplot as plt\n",
    "import scipy.stats as stats"
   ]
  },
  {
   "cell_type": "code",
   "execution_count": 3,
   "metadata": {},
   "outputs": [
    {
     "data": {
      "image/png": "[encoded data removed]",
      "text/plain": [
       "<Figure size 640x480 with 1 Axes>"
      ]
     },
     "metadata": {},
     "output_type": "display_data"
    }
   ],
   "source": [
    "# 1) make a sample of 1000 random points uniformly distributed between -1 and 1\n",
    "# put it in a numpy array x\n",
    "\n",
    "x = ...\n",
    "\n",
    "# make a histogram of the points using plt.hist()\n",
    "# the number of bins should be Nbins = 25\n",
    "\n",
    "plt.hist(...)\n",
    "plt.show()"
   ]
  },
  {
   "cell_type": "markdown",
   "metadata": {},
   "source": [
    " 2) make the empirical cumulative distribution (ECD) of these points\n",
    " by sorting x and then plot it against rank , i.e. location in the order.\n",
    " If x is sorted then ECD has y value equal to i/(n-1) and x value equal to x[i].\n",
    " (remember len() ) It is a plot of the fraction of the random values in the sample that are less \n",
    " than some value.  The ECD is a much better way of comparing the distribution than \n",
    " a histogram is.\n"
   ]
  },
  {
   "cell_type": "code",
   "execution_count": null,
   "metadata": {},
   "outputs": [],
   "source": []
  },
  {
   "cell_type": "markdown",
   "metadata": {},
   "source": [
    " 3) Now we want to make 1000 random numbers that are the \n",
    " sum of two uniformly distributed random numbers."
   ]
  },
  {
   "cell_type": "code",
   "execution_count": 63,
   "metadata": {},
   "outputs": [],
   "source": [
    "\n",
    "# make two arrays, 1000 long, of uniform random numbers and add them together\n",
    "\n",
    "# make a histogram of the result with 25 bins\n",
    "\n",
    "# make the ECD of the sample and plot it\n",
    "\n",
    "# You should see that the distribution is different from 2), but not normal."
   ]
  },
  {
   "cell_type": "markdown",
   "metadata": {},
   "source": [
    " 4) That was for two random numbers added together.  Now we \n",
    " want to add more random numbers together and see how the \n",
    " distribution changes."
   ]
  },
  {
   "cell_type": "code",
   "execution_count": 5,
   "metadata": {},
   "outputs": [],
   "source": [
    "# make a loop that goes over the number of numbers that will be added together\n",
    "#  make the number n = 1,2 and 3\n",
    " y = (np.arange(1000) + 1.)/1000.\n",
    "for n in range(1,4,1) :\n",
    "    # Add n arrays of 1000 random deviates together.  Use a loop for this.\n",
    "    # Keep it ina an array called x.\n",
    "    x = np.zeros(1000)\n",
    "    for i in range(n) :\n",
    "        x = x + np.random.uniform(...)\n",
    "        \n",
    "    # make the ECD curve by sorting\n",
    "\n",
    "    # add a ECD curve to the plot\n",
    "    plt.plot(x,y,label='n='+str(n))\n",
    "    \n",
    "plt.legend()\n",
    "plt.show()\n",
    "\n",
    "# You can see that the ECD gets wider as n increases and the curve changes"
   ]
  },
  {
   "cell_type": "markdown",
   "metadata": {},
   "source": [
    " 5) Now we want to compare the distribution of x to a normal \n",
    " distribution.  To do this we must use a normal distribution \n",
    " with the same variance (or standard deviation) as the sample \n",
    " x."
   ]
  },
  {
   "cell_type": "code",
   "execution_count": 1,
   "metadata": {},
   "outputs": [],
   "source": [
    "# Find the standard deviation of the sample x found in 4).  There \n",
    "# is a numpy function for this.  Put it in a variable sd and print it. \n",
    "\n",
    "# Use stats.norm to find the cumulative distribution function \n",
    "# for a normal distribution with the same standard deviation \n",
    "# evaluated at the same points x\n",
    "\n",
    "# plot CDF of the normal distribution and the ECD of the sample \n",
    "# together.  \n",
    "\n",
    "# Is the sum of 3 uniformly distributed numbers normally distributed?\n",
    "# You can experiment with more or fewer by changing the range of n in 4)\n",
    "# and running it over again.\n",
    "\n",
    "# We will look at some ways of testing for normality more rigorously in lecture. "
   ]
  },
  {
   "cell_type": "markdown",
   "metadata": {},
   "source": [
    " 6) A normal distribution has no maximum or minimum.  What is the \n",
    " theoretical maximum value that the variable above could have?\n",
    "How many sigma (standard deviations) is it way from the mean?\n"
   ]
  },
  {
   "cell_type": "code",
   "execution_count": null,
   "metadata": {},
   "outputs": [],
   "source": []
  },
  {
   "cell_type": "markdown",
   "metadata": {},
   "source": [
    " 7) Do the same as 4) and 5) but use a Poisson distribution with mean 1 \n",
    " (np.random.poisson) instead of a uniform distribution.  Also subtract the\n",
    " number of random variables from the sum so that its average remains \n",
    " the same as the numbers added together gets larger, \n",
    " i.e. $y = \\left[ \\sum_{i=1}^n x_i \\right]- n$ should be your random variable.\n",
    "\n",
    " Does this approach a normal distribution?  You can increase n to \n",
    " experiment.\n"
   ]
  },
  {
   "cell_type": "code",
   "execution_count": null,
   "metadata": {},
   "outputs": [],
   "source": []
  }
 ],
 "metadata": {
  "kernelspec": {
   "display_name": "Python 3 (ipykernel)",
   "language": "python",
   "name": "python3"
  },
  "language_info": {
   "codemirror_mode": {
    "name": "ipython",
    "version": 3
   },
   "file_extension": ".py",
   "mimetype": "text/x-python",
   "name": "python",
   "nbconvert_exporter": "python",
   "pygments_lexer": "ipython3",
   "version": "3.9.5"
  }
 },
 "nbformat": 4,
 "nbformat_minor": 2
}
