{
 "cells": [
  {
   "cell_type": "markdown",
   "metadata": {},
   "source": [
    "# Tutorial 2 - Covariance and Principle Components\n",
    "\n",
    "In this tutorial we will get some experience with estimating the covariance matrix and finding principle components of some data. \n",
    "\n",
    "An estimator for the covariance matrix between variables $x$ and $y$ is\n",
    "\\begin{align}\n",
    "\\hat{C}_{xy} = \\frac{1}{N-1} \\sum_{i=1}^N \\left( x_i - \\bar{x} \\right) \\left( y_i - \\bar{y} \\right)\n",
    "\\end{align}\n",
    "where\n",
    "\\begin{align}\n",
    "\\bar{x} = \\frac{1}{N} \\sum_{i=1}^N x_i\n",
    "\\end{align}\n",
    "\n"
   ]
  },
  {
   "cell_type": "code",
   "execution_count": 30,
   "metadata": {},
   "outputs": [
    {
     "data": {
      "image/png": "[encoded data removed]",
      "text/plain": [
       "<Figure size 432x288 with 1 Axes>"
      ]
     },
     "metadata": {
      "needs_background": "light"
     },
     "output_type": "display_data"
    }
   ],
   "source": [
    "## You will need to import numpy, matplotlib.pyplot and pandas\n",
    "\n",
    "import numpy as np\n",
    "import matplotlib.pyplot as plt\n",
    "import pandas as pa\n",
    "\n",
    "\n",
    "# 1) Read file homework_01_2d-datafile.csv into a dataframe using pandas\n",
    "\n",
    "    \n",
    "df = pa.read_csv('/Users/bmetcalf/Papers/StatsCourse/CoursePage/tutorials/homework_01_2d-datafile.csv')\n",
    "\n",
    "   # make a scatter plot of X vs Y\n",
    " \n",
    "plt.scatter(df['X'],df['Y'])\n",
    "plt.xlabel('X')\n",
    "plt.ylabel('Y')           \n",
    "plt.show()\n",
    "\n"
   ]
  },
  {
   "cell_type": "code",
   "execution_count": 14,
   "metadata": {},
   "outputs": [
    {
     "name": "stdout",
     "output_type": "stream",
     "text": [
      "[[ 1.04991622  3.14373697]\n",
      " [ 3.14373697 10.44232481]]\n"
     ]
    }
   ],
   "source": [
    "# 2) Find the covariance matrix for the two variables.  Use the function numpy.cov() or \n",
    "# write your own function.   Print the covariace matrix for X and Y.\n",
    "\n",
    "C = np.cov(df['X'],df['Y'])\n",
    "\n",
    "print C\n",
    "\n",
    "# Do X and Y appear to be correlated?"
   ]
  },
  {
   "cell_type": "code",
   "execution_count": 28,
   "metadata": {},
   "outputs": [
    {
     "name": "stdout",
     "output_type": "stream",
     "text": [
      "[[-0.95681567 -0.29069531]\n",
      " [ 0.29069531 -0.95681567]]\n",
      "[ 0.09480059 11.39744044]\n",
      "(2, 1000)\n"
     ]
    }
   ],
   "source": [
    "\n",
    "# 3) Decompose the covariance matrix using an eigenvalue decompositions.\n",
    "#  Use w,v = numpy.linalg.eig() to find the decomposition.\n",
    "\n",
    "w,v = np.linalg.eig(C)\n",
    "\n",
    "    # What are the principle components (eigenvectors) of the data? \n",
    "\n",
    "print v\n",
    "\n",
    "    # What are the variances of each principle component?\n",
    "\n",
    "print w\n",
    "\n",
    "\n",
    "X = df['X']\n",
    "Y = df['Y']\n",
    "\n",
    "print np.shape(np.array([X,Y]))\n",
    "\n",
    "\n",
    "data = np.array([X,Y])\n"
   ]
  },
  {
   "cell_type": "code",
   "execution_count": 29,
   "metadata": {},
   "outputs": [
    {
     "data": {
      "image/png": "[encoded data removed]",
      "text/plain": [
       "<Figure size 432x288 with 1 Axes>"
      ]
     },
     "metadata": {
      "needs_background": "light"
     },
     "output_type": "display_data"
    },
    {
     "name": "stdout",
     "output_type": "stream",
     "text": [
      "[[ 9.48005856e-02 -1.33982470e-15]\n",
      " [-1.33982470e-15  1.13974404e+01]]\n"
     ]
    }
   ],
   "source": [
    "# 4) Transform the data into the basis of the principle components (or eigenvectors) that \n",
    "#  were found in 3).\n",
    "#  The columns of v above are the eigenvectors.  You can collect the data into a \n",
    "#  structure data = np.array([X,Y]) and then matrix multiply it by a matrix with np.dot(,)\n",
    "#  (You might need to transpose something...).  numpy.shape() is useful to make sure your \n",
    "#  doing matrix multiplications correctly.\n",
    "\n",
    "data = np.dot(np.transpose(v),data) \n",
    "\n",
    "# make a scatter plot of the data in this basis\n",
    "\n",
    "plt.scatter( data[0,:], data[1,:])\n",
    "plt.show()\n",
    "\n",
    "# print the covariance matrix of the data in this basis\n",
    "\n",
    "print np.cov(data)\n",
    "\n",
    "# The new X and Y should not be correlated."
   ]
  },
  {
   "cell_type": "code",
   "execution_count": null,
   "metadata": {},
   "outputs": [],
   "source": [
    "# 4) Do 1) through 4), but using the data file homework_01_5d-datafile.csv this time.\n",
    "#    In this case the data is 5 dimensional.  Don't put the scatter plots in.\n",
    "\n",
    "    # Which variables seem to be correlated with each other and which ones not?"
   ]
  },
  {
   "cell_type": "markdown",
   "metadata": {},
   "source": [
    "In the homework you should have found the correlation coefficients for some data.  \n",
    "The Pearson Correlation Coefficient is\n",
    "\\begin{align}\n",
    "r_{xy} = \\frac{1}{N}\\frac{ \\sum_i (x_i - \\bar{x} ) (y_i - \\bar{y}) }{ \\sqrt{ S^2_x S^2_y} }\n",
    "\\end{align}\n",
    "where\n",
    "\\begin{align}\n",
    "\\bar{x} = \\frac{1}{N}\\sum_i x_i ~~~~ S^2_x = \\frac{1}{(N-1)} \\sum_i ( x_i - \\bar{x} )\n",
    "\\end{align}\n",
    "\n",
    "A non-zero $r_{xy}$ should indicate that there is a correlation between $x$ and $y$.\n",
    "$r_{xy}$ is an estimator of the populations true correlation coefficient\n",
    "\\begin{align}\n",
    "\\rho_{xy} = \\frac{C_{XY}}{\\sqrt{\\sigma^2_x \\sigma_y^2} }\n",
    "\\end{align}\n",
    "\n",
    "But $r_{xy}$ is a function of random variables so we would not expect it to be exactly 0 \n",
    "even if there were no correlations.  We could try to calculate the probability distribution of \n",
    "$r_{xy}$ analytically, but this might be difficult (more on this in lecture).\n",
    "\n"
   ]
  },
  {
   "cell_type": "markdown",
   "metadata": {},
   "source": [
    "\n",
    "\n",
    "\n",
    "\n",
    "\n",
    "\n",
    "##  Monte Carlo\n",
    "\n",
    "Instead lets find the significance of your measured $r_{xy}$ by Monte Carlo given the hypothesis that \n",
    "$x$ and $y$ are not correlated.\n",
    "\n",
    "\n",
    "1. Create two vectors (X and Y) of random normally distributed numbers with variance 1 and mean zero.  Each vector should be 1000 elements long as was the data in the homework.  Calculate $r_{xy}$ for these.  X and Y \n",
    "are uncorrelated since they where generated independently.\n",
    "\n",
    "2. Repeat step 1 a thousand times to get a distribution of $r_{xy}$.  You should to this in a loop.  There is no reason to save all the X's and Y's.\n",
    "\n",
    "3. Plot a histogram of your  $r_{xy}$ values.  Does it look Gaussian?\n",
    "\n",
    "4. What is the fraction of times $|r_{xy}|$ is larger than 0.025, 0.05, 0.08?  Would you expect to get this value if there were no correlation? Calculate the rxy for the homework set homework_01_2d-datafile.csv?  Would you expect to get this value if there were no correlation?\n",
    "\n",
    "5. Do the exercise above over but this time use the measured $S^2_x$, $S^2_y$, $\\bar{x}$ and $\\bar{y}$ from homework\\_01\\_2d-datafile.csv  to generate the  X and Y variables.   Plot the new histogram of $r_{xy}$ over the old one.   Is there a difference or is the distribution of $r_{xy}$ independent of the averages and variances of the distributions?\n",
    "\n",
    "6. Order your sample of $r_{xy}$'s from smallest to largest.  Take the $i$th value to be an estimate of the $r_{xy}$ where $(N-i)/N$ of the probability distribution is larger than it.  For example the 95\\% upper bound would be at $i/N = 0.95$.  What is the 95\\% upper bound on $r_{xy}$ if there is no correlation between $X$ and $Y$?  We will call this $r_{0.95}$.\n",
    "In lecture we will find that the variance in this estimator is\n",
    "\\begin{align}\n",
    "Var[r_p] = \\frac{2 p (1-p) }{N f(r_p)^2 }\n",
    "\\end{align}\n",
    "for large $N$ where $f(r)$ is the pdf of $r_{xy}$. \n",
    "Assuming that $r_{xy}$ is Gaussian distributed and its variance is the one you measure, what is the variance in your estimate of $r_{0.95}$?\n",
    "\n",
    "7. Extra Credit: If you have time, do 1 through 3 for the Spearman and/or Kendall correlation coefficients.  There are Python functions for calculating them efficiently.  These are \"rank statistics\" that do not rely on any  assumption about the distribution of $X$ and $Y$ (in this case Gaussian) and are thus more widely applicable.  Do they indicate that the data in the home work is correlated?\n",
    "\n"
   ]
  },
  {
   "cell_type": "code",
   "execution_count": null,
   "metadata": {},
   "outputs": [],
   "source": []
  }
 ],
 "metadata": {
  "kernelspec": {
   "display_name": "Python 2",
   "language": "python",
   "name": "python2"
  },
  "language_info": {
   "codemirror_mode": {
    "name": "ipython",
    "version": 2
   },
   "file_extension": ".py",
   "mimetype": "text/x-python",
   "name": "python",
   "nbconvert_exporter": "python",
   "pygments_lexer": "ipython2",
   "version": "2.7.15"
  }
 },
 "nbformat": 4,
 "nbformat_minor": 2
}
