{
 "cells": [
  {
   "cell_type": "markdown",
   "metadata": {},
   "source": [
    "# Tutorial 2 - Covariance and Principle Components\n",
    "\n",
    "In this tutorial we will get some experience with estimating the covariance matrix and finding principle components of some data. \n",
    "\n",
    "An estimator for the covariance matrix between variables $x$ and $y$ is\n",
    "\\begin{align}\n",
    "{\\hat{C}}_{xy} = \\frac{1}{N-1} \\sum_{i=1}^N \\left( x_i - \\bar{x} \\right) \\left( y_i - \\bar{y} \\right)\n",
    "\\end{align}\n",
    "where\n",
    "\\begin{align}\n",
    "\\bar{x} = \\frac{1}{N} \\sum_{i=1}^N x_i\n",
    "\\end{align}\n",
    "\n"
   ]
  },
  {
   "cell_type": "code",
   "execution_count": 57,
   "metadata": {},
   "outputs": [],
   "source": [
    "## You will need to import numpy, matplotlib.pyplot and pandas\n",
    "\n",
    "\n",
    "# 1) Read file homework_01_2d-datafile.csv into a dataframe using pandas\n",
    "\n",
    "   # make a scatter plot of X vs Y\n",
    " "
   ]
  },
  {
   "cell_type": "code",
   "execution_count": 58,
   "metadata": {},
   "outputs": [],
   "source": [
    "# 2) Find the covariance matrix for the two variables.  Use the function numpy.cov() or \n",
    "# write your own function.   Print the covariance matrix for X and Y.\n",
    "\n",
    "# Do X and Y appear to be correlated?\n",
    "\n",
    "# What is the variance of X?\n",
    "\n",
    "# What is the variance of Y?\n"
   ]
  },
  {
   "cell_type": "markdown",
   "metadata": {},
   "source": [
    "The normalized covariance coefficients are\n",
    "\\begin{align}\n",
    "\\rho_{ij} = \\frac{\\hat{C}_{ij} }{\\sqrt{\\hat{C}_{ii} \\hat{C}_{jj} }}\n",
    "\\end{align}\n",
    "\n",
    "If the off-diagonal components of this matrix are measures of correlations."
   ]
  },
  {
   "cell_type": "code",
   "execution_count": 59,
   "metadata": {},
   "outputs": [],
   "source": [
    "# 3) Consider the following code:\n",
    "#    D = np.diag(C)\n",
    "#    print D\n",
    "#    M =  np.outer(D,D)\n",
    "#    print M\n",
    "\n",
    "# Use it to find the normalized covariance matrix and print it.\n"
   ]
  },
  {
   "cell_type": "code",
   "execution_count": 60,
   "metadata": {},
   "outputs": [],
   "source": [
    "# 4) Decompose the covariance (not normalized) matrix using \n",
    "#    an eigenvalue decompositions.\n",
    "#    Use w,v = numpy.linalg.eig() to find the decomposition.\n",
    "\n",
    "    # What are the principle components (eigenvectors) of the data? \n",
    "\n",
    "\n",
    "    # What are the eigenvalues?\n"
   ]
  },
  {
   "cell_type": "code",
   "execution_count": 61,
   "metadata": {},
   "outputs": [],
   "source": [
    "# 5) Transform the data into the basis of the principle components (or eigenvectors) that \n",
    "#  were found in 3).\n",
    "#  The columns of v above are the eigenvectors.  You can collect the data into a \n",
    "#  structure data = np.array([X,Y]) and then matrix multiply it by a matrix with np.dot(,)\n",
    "#  (You might need to transpose something...).  numpy.shape() is useful to make sure your \n",
    "#  doing matrix multiplications correctly.\n",
    "\n",
    "\n",
    "# make a scatter plot of the data in this basis\n",
    "\n",
    "# print the covariance matrix of the data in this basis\n",
    "\n",
    "# The new X and Y should not be correlated.\n",
    "# Compare the diagonal elements (variances) of the covariance matrix to the eigenvalues you \n",
    "# got in part 4)."
   ]
  },
  {
   "cell_type": "code",
   "execution_count": 62,
   "metadata": {},
   "outputs": [],
   "source": [
    "# 6) Do 1) through 5), but using the data file homework_01_5d-datafile.csv this time.\n",
    "#    In this case the data is 5 dimensional.  You can't plot all those dimensions so \n",
    "#    you don't have to do them, but feel free to plot some dimensions to make sure \n",
    "#    you are getting what you expect.\n",
    "\n",
    "# The best way to find the covariance matrix is to is to make a 5 by 2000 array out \n",
    "# of the columns of the dataframe using numpy.array([...])\n",
    "\n",
    "    # Which variables seem to be correlated with each other and which ones not?\n",
    " \n",
    "\n",
    "    # What are the principle components (eigenvectors) of the data? \n",
    "\n",
    "\n",
    "    # What are the variances of each principle component?\n",
    "\n"
   ]
  }
 ],
 "metadata": {
  "kernelspec": {
   "display_name": "Python 2",
   "language": "python",
   "name": "python2"
  },
  "language_info": {
   "codemirror_mode": {
    "name": "ipython",
    "version": 2
   },
   "file_extension": ".py",
   "mimetype": "text/x-python",
   "name": "python",
   "nbconvert_exporter": "python",
   "pygments_lexer": "ipython2",
   "version": "2.7.15"
  }
 },
 "nbformat": 4,
 "nbformat_minor": 2
}
