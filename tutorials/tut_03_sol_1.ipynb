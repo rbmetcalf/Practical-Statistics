{
 "cells": [
  {
   "cell_type": "code",
   "execution_count": 57,
   "metadata": {},
   "outputs": [
    {
     "data": {
      "image/png": "[encoded data removed]",
      "text/plain": [
       "<matplotlib.figure.Figure at 0x10824ca10>"
      ]
     },
     "metadata": {},
     "output_type": "display_data"
    },
    {
     "data": {
      "image/png": "[encoded data removed]",
      "text/plain": [
       "<matplotlib.figure.Figure at 0x1087126d0>"
      ]
     },
     "metadata": {},
     "output_type": "display_data"
    },
    {
     "name": "stdout",
     "output_type": "stream",
     "text": [
      "1.05943718737\n",
      "1.03333018786\n"
     ]
    }
   ],
   "source": [
    "#Tutorial # 03\n",
    "\n",
    "## The central limit theorem holds that the sum of a large number of identically \n",
    "## distributed random numbers will be normally distributed no matter how the \n",
    "## individual numbers are distributed.\n",
    "##\n",
    "## In lecture we proved this and saw how the pdf for the sum of variables \n",
    "## can be found numerically from the pdf of the individuals using the Fourier \n",
    "## transform.\n",
    "##\n",
    "## Now we will verify the central limit theorem by numerically experiment :\n",
    "\n",
    "# 1) Create 1000 uniform random numbers between -1 and 1 using numpy.rand\n",
    "import numpy as np\n",
    "import matplotlib.pyplot as plt\n",
    "from scipy.stats import norm\n",
    "\n",
    "x_0 = np.random.uniform(-1.,1.,1000)\n",
    "# make histogram of numbers\n",
    "plt.hist(x_0, bins = 10)\n",
    "plt.show()\n",
    "\n",
    "# 2) Make 1000 sums of 3 uniform random numbers between -1 and 1\n",
    "x_1 = np.random.uniform(-1., 1., 1000)\n",
    "x_2 = np.random.uniform(-1., 1., 1000)\n",
    "\n",
    "# make histogram of numbers\n",
    "x_sum = x_0 + x_1 + x_2\n",
    "\n",
    "\n",
    "plt.hist(x_sum, bins = 50, alpha = 0.2)\n",
    "\n",
    "# draw normal distribution with the same man and variance over histogram \n",
    "x_norm = np.random.normal(loc = 0, scale = 1, size = 1000)\n",
    "plt.hist(x_norm, bins = 50)\n",
    "plt.show()\n",
    "\n",
    "# (What should the variance be?)\n",
    "print np.var(x_sum)\n",
    "print np.var(x_norm)\n",
    "\n",
    "# 3) Make 1000 sums of 10 uniform random numbers between -1 and 1\n",
    "\n",
    "       # make histogram of numbers\n",
    "\n",
    "       # draw normal distribution with the same variance over histogram\n",
    "\n",
    "# 4) Do 1 through 3 for a lognormal distribution instead of uniform.  The \n",
    "#    lognormal distribution can be found in the scipy.stats package. \n"
   ]
  },
  {
   "cell_type": "code",
   "execution_count": null,
   "metadata": {},
   "outputs": [],
   "source": [
    "pdf = norm.pdf"
   ]
  },
  {
   "cell_type": "code",
   "execution_count": null,
   "metadata": {},
   "outputs": [],
   "source": [
    "x_norm = np.random.normal"
   ]
  },
  {
   "cell_type": "code",
   "execution_count": 18,
   "metadata": {},
   "outputs": [],
   "source": [
    "np.sum?"
   ]
  },
  {
   "cell_type": "code",
   "execution_count": null,
   "metadata": {},
   "outputs": [],
   "source": []
  }
 ],
 "metadata": {
  "kernelspec": {
   "display_name": "Python 2",
   "language": "python",
   "name": "python2"
  },
  "language_info": {
   "codemirror_mode": {
    "name": "ipython",
    "version": 2
   },
   "file_extension": ".py",
   "mimetype": "text/x-python",
   "name": "python",
   "nbconvert_exporter": "python",
   "pygments_lexer": "ipython2",
   "version": "2.7.13"
  }
 },
 "nbformat": 4,
 "nbformat_minor": 2
}
