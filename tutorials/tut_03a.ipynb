{
 "cells": [
  {
   "cell_type": "markdown",
   "id": "3083eadd",
   "metadata": {},
   "source": [
    "**Tutorial 3a - Measuring the Properties of an Eclipsing Extrasolar Planet**\n",
    "\n",
    "In this tutorial you will measure the parameters of the light curve of an eclipse of a star by a planet.  We will do this using Bayesian statistical inference.\n",
    "\n",
    "The data consists of measured fluxes of a star at different times.  As the planet passes in front of the star there is a dip in the flux.  The important quantities to measure are : 1) What is the baseline flux before and after the eclipse ; 2) How deep this dip which is related to how large the planet is compared to the star ; 3) How long the eclipse is which is related to the orbital speed and sizes of the star and planet ; 4) How steep are the transition into and out of the eclipse which is related to the limb darkening of the star combined with the size and speed of the planes.  These will be parameters that will be found from the light curve and later interpreted in terms of physical quantities.\n"
   ]
  },
  {
   "cell_type": "markdown",
   "id": "49dfdbed",
   "metadata": {},
   "source": [
    "1) First you must import `numpy`, `pandas`, `matplotlib.pyplot` and `scipy.optimize`."
   ]
  },
  {
   "cell_type": "code",
   "execution_count": null,
   "id": "efb3bd54",
   "metadata": {},
   "outputs": [],
   "source": []
  },
  {
   "cell_type": "markdown",
   "id": "71d1896a",
   "metadata": {},
   "source": [
    "2) Now import the data file \"eclipsing_planet_data.csv\" into a dataframe.  This file has the measured fluxes, the time of each observation and the estimated errors in each observation.  Put these into separate vector `t`, `f` and `sigma`."
   ]
  },
  {
   "cell_type": "code",
   "execution_count": null,
   "id": "38372452",
   "metadata": {},
   "outputs": [],
   "source": []
  },
  {
   "cell_type": "markdown",
   "id": "ae254721",
   "metadata": {},
   "source": [
    "3) Plot time vs flux.  The units are in minutes and arbitrary relative flux units."
   ]
  },
  {
   "cell_type": "code",
   "execution_count": null,
   "id": "6a210350",
   "metadata": {},
   "outputs": [],
   "source": []
  },
  {
   "cell_type": "markdown",
   "id": "af21783f",
   "metadata": {},
   "source": [
    "4) We must build a model for this light curve.  We will use the model :\n",
    "    \n",
    "$ f(t) = f_o - \\delta \\exp[ \\frac{|t - to|^n}{(\\Delta t)^n}  ] ) $ \n",
    "\n",
    "The parameters are the baseline flux ($f_o$), the depth of the dip ($\\delta$), the time of the eclipse ($t_o$), the width of the eclipse ($\\Delta t$) and the parameter $n$ which controls the speed of the drop into the eclipse.\n",
    "\n",
    "Write a function that takes first the time, $t$ and then the other parameters and returns the predicted flux."
   ]
  },
  {
   "cell_type": "code",
   "execution_count": null,
   "id": "6e3493be",
   "metadata": {},
   "outputs": [],
   "source": [
    "def light_curve(t,Fo,dF,dt,to,n) :\n",
    "  "
   ]
  },
  {
   "cell_type": "markdown",
   "id": "550333c1",
   "metadata": {},
   "source": [
    "5) Now we need to make a $\\chi^2$ function that we will minimize to find the best fit parameters.\n",
    "\n",
    "$\\chi^2(p) = \\sum_i \\frac{(f_i - L(t_i,p) )^2}{\\sigma_i^2}$\n",
    "\n",
    "Where $L(t_i,p)$ is the model for the lightcurve.  Make a function that returns the $\\chi^2$ and takes the parameters as a vector $p$.  Since `t` and `f` are in global memmory they can be used inside this function and don't need to be arguments.\n",
    "\n",
    "Write this $\\chi^2(p)$ function."
   ]
  },
  {
   "cell_type": "code",
   "execution_count": null,
   "id": "aeea6e6f",
   "metadata": {},
   "outputs": [],
   "source": [
    "def chi2(p):\n",
    "    ..."
   ]
  },
  {
   "cell_type": "markdown",
   "id": "2fefe27a",
   "metadata": {},
   "source": [
    "6) Now we can find the set of parameters that minimises $\\chi^2(p)$.  To do this we will use `scipy.optimize`.  In this function use `method = 'Nelder-Mead'`.  You will need to make an initial guess as to what these parameters are.  Look at the light curve and estimate them.  Check the output of the optimizer.  If has not converged properly your guess was not good and you should try again.  Save the results in `best_fit`. \n",
    "\n",
    "Print out the best fit parameters with labels."
   ]
  },
  {
   "cell_type": "code",
   "execution_count": null,
   "id": "440e1a04",
   "metadata": {},
   "outputs": [],
   "source": [
    "guess = \n",
    "best_fit = \n",
    "\n",
    "print('best fit model :')\n",
    "print('    Fo = ',...)\n",
    ".\n",
    ".\n",
    "."
   ]
  },
  {
   "cell_type": "markdown",
   "id": "42841697",
   "metadata": {},
   "source": [
    "7) Make a new vector of times only evenly spaced.  Use `light_curve()` to make a model lightcurve with the best-fit parameters.  Plot this and the data together.  Make sure it looks like a reasonable fit."
   ]
  },
  {
   "cell_type": "code",
   "execution_count": null,
   "id": "67e41f4c",
   "metadata": {},
   "outputs": [],
   "source": []
  },
  {
   "cell_type": "code",
   "execution_count": null,
   "id": "0faf6032",
   "metadata": {},
   "outputs": [],
   "source": []
  }
 ],
 "metadata": {
  "kernelspec": {
   "display_name": "Python 3 (ipykernel)",
   "language": "python",
   "name": "python3"
  },
  "language_info": {
   "codemirror_mode": {
    "name": "ipython",
    "version": 3
   },
   "file_extension": ".py",
   "mimetype": "text/x-python",
   "name": "python",
   "nbconvert_exporter": "python",
   "pygments_lexer": "ipython3",
   "version": "3.9.5"
  }
 },
 "nbformat": 4,
 "nbformat_minor": 5
}
