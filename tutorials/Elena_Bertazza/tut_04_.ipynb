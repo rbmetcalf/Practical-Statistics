{
 "cells": [
  {
   "cell_type": "markdown",
   "metadata": {},
   "source": [
    "\n",
    "# Tutorial 4 - Calculating Significance by Monte Carlo\n",
    "\n",
    "In the homework you should have found the correlation coefficients for some data.  \n",
    "The Pearson Correlation Coefficient is\n",
    "\\begin{align}\n",
    "r_{xy} = \\frac{1}{N}\\frac{ \\sum_i (x_i - \\bar{x} ) (y_i - \\bar{y}) }{ \\sqrt{ S^2_x S^2_y} }\n",
    "\\end{align}\n",
    "where\n",
    "\\begin{align}\n",
    "\\bar{x} = \\frac{1}{N}\\sum_i x_i ~~~~ S^2_x = \\frac{1}{(N-1)} \\sum_i ( x_i - \\bar{x} )\n",
    "\\end{align}\n",
    "\n",
    "A non-zero $r_{xy}$ should indicate that there is a correlation between $x$ and $y$.\n",
    "$r_{xy}$ is an estimator of the populations true correlation coefficient\n",
    "\\begin{align}\n",
    "\\rho_{xy} = \\frac{C_{XY}}{\\sqrt{\\sigma^2_x \\sigma_y^2} }\n",
    "\\end{align}\n",
    "\n",
    "But $r_{xy}$ is a function of random variables so we would not expect it to be exactly 0 \n",
    "even if there were no correlations.  We could try to calculate the probability distribution of \n",
    "$r_{xy}$ analytically, but this might be difficult (more on this in lecture).\n",
    "\n",
    "##  Monte Carlo\n",
    "\n",
    "Instead lets find the significance of your measured $r_{xy}$ by Monte Carlo given the hypothesis that \n",
    "$x$ and $y$ are not correlated.\n",
    "\n",
    "\n",
    "1. Create two vectors (X and Y) of random normally distributed numbers with variance 1 and mean zero.  Each vector should be 1000 elements long as was the data in the homework.  Calculate $r_{xy}$ for these.  X and Y \n",
    "are uncorrelated since they where generated independently.\n",
    "\n",
    "2. Repeat step 1 a thousand times to get a distribution of $r_{xy}$.  You should to this in a loop.  There is no reason to save all the X's and Y's.\n",
    "\n",
    "3. Plot a histogram of your  $r_{xy}$ values.  Does it look Gaussian?\n",
    "\n",
    "4. What is the fraction of times $|r_{xy}|$ is larger than 0.025, 0.05, 0.08?  Would you expect to get this value if there were no correlation? Calculate the rxy for the homework set homework_01_2d-datafile.csv?  Would you expect to get this value if there were no correlation?\n",
    "\n",
    "5. Do the exercise above over but this time use the measured $S^2_x$, $S^2_y$, $\\bar{x}$ and $\\bar{y}$ from homework\\_01\\_2d-datafile.csv  to generate the  X and Y variables.   Plot the new histogram of $r_{xy}$ over the old one.   Is there a difference or is the distribution of $r_{xy}$ independent of the averages and variances of the distributions?\n",
    "\n",
    "6. Order your sample of $r_{xy}$'s from smallest to largest.  Take the $i$th value to be an estimate of the $r_{xy}$ where $(N-i)/N$ of the probability distribution is larger than it.  For example the 95\\% upper bound would be at $i/N = 0.95$.  What is the 95\\% upper bound on $r_{xy}$ if there is no correlation between $X$ and $Y$?  We will call this $r_{0.95}$.\n",
    "In lecture we will find that the variance in this estimator is\n",
    "\\begin{align}\n",
    "Var[r_p] = \\frac{2 p (1-p) }{N f(r_p)^2 }\n",
    "\\end{align}\n",
    "for large $N$ where $f(r)$ is the pdf of $r_{xy}$. \n",
    "Assuming that $r_{xy}$ is Gaussian distributed and its variance is the one you measure, what is the variance in your estimate of $r_{0.95}$?\n",
    "\n",
    "7. Extra Credit: If you have time, do 1 through 3 for the Spearman and/or Kendall correlation coefficients.  There are Python functions for calculating them efficiently.  These are \"rank statistics\" that do not rely on any  assumption about the distribution of $X$ and $Y$ (in this case Gaussian) and are thus more widely applicable.  Do they indicate that the data in the home work is correlated?\n"
   ]
  },
  {
   "cell_type": "code",
   "execution_count": 54,
   "metadata": {},
   "outputs": [
    {
     "name": "stdout",
     "output_type": "stream",
     "text": [
      "rxy=-0.02470824160174236\n"
     ]
    }
   ],
   "source": [
    "#Tutorial # 04\n",
    "## Calculating Significance by Monte Carlo\n",
    "##\n",
    "## More complete directions for this tutorial are in tut4.pdf\n",
    "##\n",
    "\n",
    "#1) Calculate two vectors (X and Y) of random normally distributed numbers \n",
    "#   with variance 1 and mean zero.  Each vector should be 1000 elements long \n",
    "#   as was the data in the homework.  Calculate $r_{xy}$ for these.\n",
    "import numpy as np\n",
    "import math\n",
    "import matplotlib.pyplot as plt\n",
    "x=np.random.normal(0,1,size=1000)\n",
    "y=np.random.normal(0,1,size=1000)\n",
    "def pearson(x,y):\n",
    "    xs=x- np.mean(x)\n",
    "    ys= y - np.mean(y)\n",
    "    varx=sum(xs**2)/(len(x)-1)\n",
    "    vary=sum(ys**2)/(len(x)-1)\n",
    "    r=0\n",
    "    for i in range(len(x)):\n",
    "        r=r+xs[i]*ys[i]\n",
    "    r=r/math.sqrt(varx*vary)/len(x)\n",
    "    return r\n",
    "\n",
    "print('rxy='+str(pearson(x,y)))"
   ]
  },
  {
   "cell_type": "code",
   "execution_count": 61,
   "metadata": {},
   "outputs": [],
   "source": [
    "#2) Repeat step 1 a thousand times to get a distribution of $r_{xy}$ for a sample \n",
    "#   size equal to that of the homework.\n",
    "rxy=np.empty(1000)\n",
    "for i in range(1000):\n",
    "    x=np.random.normal(0,1,size=1000)\n",
    "    y=np.random.normal(0,1,size=1000)\n",
    "    r=pearson(x,y)\n",
    "    rxy[i]=r\n"
   ]
  },
  {
   "cell_type": "code",
   "execution_count": 62,
   "metadata": {},
   "outputs": [
    {
     "name": "stderr",
     "output_type": "stream",
     "text": [
      "c:\\users\\_pomfctopus_\\appdata\\local\\programs\\python\\python36\\lib\\site-packages\\matplotlib\\axes\\_axes.py:6448: UserWarning: The 'normed' kwarg is deprecated, and has been replaced by the 'density' kwarg.\n",
      "  warnings.warn(\"The 'normed' kwarg is deprecated, and has been \"\n"
     ]
    },
    {
     "data": {
      "image/png": "[encoded data removed]",
      "text/plain": [
       "<Figure size 432x288 with 1 Axes>"
      ]
     },
     "metadata": {},
     "output_type": "display_data"
    },
    {
     "name": "stdout",
     "output_type": "stream",
     "text": [
      "the distribution of rxy looks like a gaussian\n"
     ]
    }
   ],
   "source": [
    "#3) Plot a histogram of your  $r_{xy}$ values.\n",
    "import matplotlib.pyplot as plt\n",
    "from scipy.stats import norm\n",
    "plt.hist(rxy,bins=15,normed=True,alpha=0.4,label='rxy distribution')\n",
    "meanr=np.mean(rxy)\n",
    "rs=rxy-meanr\n",
    "sigmar=math.sqrt(sum(rs**2)/(len(rxy)-1))\n",
    "x1 = np.linspace(meanr-3*sigmar,meanr+3*sigmar, 100)\n",
    "plt.plot(x1,norm.pdf(x1, loc=meanr,scale=sigmar),color='blue',label='Gaussian with mean and \\nvariance of the data')\n",
    "plt.legend(loc='upper left',fontsize='small')\n",
    "plt.show()\n",
    "print('the distribution of rxy looks like a gaussian')"
   ]
  },
  {
   "cell_type": "code",
   "execution_count": 67,
   "metadata": {},
   "outputs": [
    {
     "name": "stdout",
     "output_type": "stream",
     "text": [
      "==== SAMPLE WITH MEAN=0 AND VARIANCE=1 ====\n",
      "prob |rxy|> 0.025 = 0.405 if x and y are not correlated i have 40.5% probability to get |rxy|>0.025\n",
      "prob |rxy|> 0.05 = 0.11 if x and y are not correlated i have 11.0% probability to get |rxy|>0.05\n",
      "prob |rxy|> 0.08 = 0.012 if x and y are not correlated i have 1.2% probability to get |rxy|>0.08\n",
      " \n",
      "rxy for homework data= 0.9484965806973131 if data were not correleted i would not expect \n",
      "to get this high value for rxy so data is correlated\n"
     ]
    }
   ],
   "source": [
    "#4) What is the fraction of times $|r_{xy}|$ is larger than your measured value \n",
    "#   for homework\\_01\\_2d-datafile.csv ?  Would you expect to find this if there \n",
    "#   were no correlation?\n",
    "print('==== SAMPLE WITH MEAN=0 AND VARIANCE=1 ====')\n",
    "p1=(float(np.sum(1*(abs(rxy))> 0.025)))/len(rxy)\n",
    "print('prob |rxy|> 0.025 = '+str(p1)+str(' if x and y are not correlated i have ' +str(p1*100)+ '% probability to get |rxy|>0.025'))\n",
    "p2=(float(np.sum(1*(abs(rxy))> 0.05)))/len(rxy)\n",
    "print('prob |rxy|> 0.05 = '+str(p2)+str(' if x and y are not correlated i have ' +str(p2*100)+ '% probability to get |rxy|>0.05'))\n",
    "p3=(float(np.sum(1*(abs(rxy))> 0.08)))/len(rxy)\n",
    "print('prob |rxy|> 0.08 = '+str(p3)+str(' if x and y are not correlated i have ' +str(p3*100)+ '% probability to get |rxy|>0.08'))\n",
    "import pandas as pd\n",
    "file='homework_01_2d-datafile.csv'\n",
    "data=pd.read_csv(file,header=0,index_col=0)\n",
    "data_array=data.values\n",
    "xhome=data_array[:,0]\n",
    "yhome=data_array[:,1]\n",
    "rhomew=pearson(xhome,yhome)\n",
    "print(' ')\n",
    "print('rxy for homework data= '+str(rhomew) +str(' if data were not correleted i would not expect \\nto get this high value for rxy so data is correlated'))"
   ]
  },
  {
   "cell_type": "code",
   "execution_count": 71,
   "metadata": {},
   "outputs": [
    {
     "name": "stdout",
     "output_type": "stream",
     "text": [
      "==== SAMPLE WITH MEAN AND VARAINCE FROM DATA ====\n",
      "prob |rxy|> 0.025 = 0.443 if x and y are not correlated i have 44.3% probability to get |rxy|>0.025\n",
      "prob |rxy|> 0.05 = 0.129 if x and y are not correlated i have 12.9% probability to get |rxy|>0.05\n",
      "prob |rxy|> 0.08 = 0.006 if x and y are not correlated i have 0.6% probability to get |rxy|>0.08\n",
      "probabilities are simliar to the ones obtained with the previous sample\n"
     ]
    },
    {
     "name": "stderr",
     "output_type": "stream",
     "text": [
      "c:\\users\\_pomfctopus_\\appdata\\local\\programs\\python\\python36\\lib\\site-packages\\matplotlib\\axes\\_axes.py:6448: UserWarning: The 'normed' kwarg is deprecated, and has been replaced by the 'density' kwarg.\n",
      "  warnings.warn(\"The 'normed' kwarg is deprecated, and has been \"\n"
     ]
    },
    {
     "data": {
      "image/png": "[encoded data removed]",
      "text/plain": [
       "<Figure size 432x288 with 1 Axes>"
      ]
     },
     "metadata": {},
     "output_type": "display_data"
    },
    {
     "name": "stdout",
     "output_type": "stream",
     "text": [
      "there is not much difference between the two distributions\n"
     ]
    }
   ],
   "source": [
    "#5) Do the exersize over but this time use the measured $S^2_x$, $S^2_y$, $\\bar{x}$ \n",
    "#   and $\\bar{y}$ from homework\\_01\\_2d-datafile.csv  to generate the  X and Y \n",
    "#   variables.  Does this make any difference?\n",
    "xshome=xhome- np.mean(xhome)\n",
    "yshome= yhome - np.mean(yhome)\n",
    "varxhome=sum(xshome**2)/(len(x)-1)\n",
    "varyhome=sum(yshome**2)/(len(x)-1)\n",
    "rxynew=np.empty(1000)\n",
    "for i in range(1000):\n",
    "    x=np.random.normal(np.mean(xhome),varxhome,size=1000)\n",
    "    y=np.random.normal(np.mean(yhome),varyhome,size=1000)\n",
    "    r=pearson(x,y)\n",
    "    rxynew[i]=r\n",
    "print('==== SAMPLE WITH MEAN AND VARAINCE FROM DATA ====')\n",
    "p1=(float(np.sum(1*(abs(rxynew))> 0.025)))/len(rxynew)\n",
    "print('prob |rxy|> 0.025 = '+str(p1)+str(' if x and y are not correlated i have ' +str(p1*100)+ '% probability to get |rxy|>0.025'))\n",
    "p2=(float(np.sum(1*(abs(rxynew))> 0.05)))/len(rxynew)\n",
    "print('prob |rxy|> 0.05 = '+str(p2)+str(' if x and y are not correlated i have ' +str(p2*100)+ '% probability to get |rxy|>0.05'))\n",
    "p3=(float(np.sum(1*(abs(rxynew))> 0.08)))/len(rxynew)\n",
    "print('prob |rxy|> 0.08 = '+str(p3)+str(' if x and y are not correlated i have ' +str(p3*100)+ '% probability to get |rxy|>0.08'))\n",
    "print('probabilities are simliar to the ones obtained with the previous sample')\n",
    "plt.hist(rxynew,normed=True,alpha=0.4,label='Sample with mean \\nand variance from data')\n",
    "plt.hist(rxy,normed=True,alpha=0.4,label='Sample with mean=0 \\nand variance=1')\n",
    "plt.legend(loc='upper left',fontsize='small')\n",
    "plt.show()\n",
    "print('there is not much difference between the two distributions')"
   ]
  },
  {
   "cell_type": "code",
   "execution_count": 30,
   "metadata": {},
   "outputs": [
    {
     "name": "stdout",
     "output_type": "stream",
     "text": [
      "if x and y are not correlated i have 5% probability to obtain |r|>0.04997142850158952\n",
      "the variance in this estimator is 7.261261314087944e-06\n"
     ]
    }
   ],
   "source": [
    "#6) Order your sample of $r_{xy}$'s from smallest to largest.  Take the $i$th \n",
    "#   value to be an estimate of the $r_{xy}$ where $(N-i)/N$ of the probability \n",
    "#   distribution is larger than it.  For example the 95\\% upper bound would be \n",
    "#   at i/N = 0.95.  What is the 95% upper bound on $r_{xy}$ if there is not \n",
    "#   correlation between $X$ and $Y$?  We will call this $r_{0.95}$.\n",
    "#   In lecture we will find that the variance in this estimator is\n",
    "#\n",
    "#   Var[r_p] = \\frac{ 2 p (1-p) }{N f(r_p)^2 }\n",
    "#\n",
    "#   for large $N$ where $f(r)$ is the pdf of $r_{xy}$. \n",
    "#   Assuming that $r_{xy}$ is Gaussian distributed and its variance is the one \n",
    "#   you measure, what is the variance in your estimate of $r_{0.95}$?\n",
    "rxysort=np.sort(rxy)\n",
    "rup=rxysort[int(0.95*len(rxy))]\n",
    "print('if x and y are not correlated i have 5% probability to obtain |r|>'+str(rup))\n",
    "frp=norm.pdf(rup, loc=meanr,scale=sigmar)\n",
    "var=2*0.95*(1-0.95)/(len(rxy)*frp**2)\n",
    "print('the variance in this estimator is ' +str(var))\n"
   ]
  },
  {
   "cell_type": "code",
   "execution_count": 72,
   "metadata": {},
   "outputs": [
    {
     "name": "stdout",
     "output_type": "stream",
     "text": [
      "==== ONE SAMPLE ====\n",
      "Spearman correlation coefficient= -0.002185742185742186\n",
      "Kendall correlation coefficient= -0.0009809809809809811\n",
      "==== 1000 SAMPLES====\n"
     ]
    },
    {
     "name": "stderr",
     "output_type": "stream",
     "text": [
      "c:\\users\\_pomfctopus_\\appdata\\local\\programs\\python\\python36\\lib\\site-packages\\matplotlib\\axes\\_axes.py:6448: UserWarning: The 'normed' kwarg is deprecated, and has been replaced by the 'density' kwarg.\n",
      "  warnings.warn(\"The 'normed' kwarg is deprecated, and has been \"\n"
     ]
    },
    {
     "data": {
      "image/png": "[encoded data removed]",
      "text/plain": [
       "<Figure size 432x288 with 1 Axes>"
      ]
     },
     "metadata": {},
     "output_type": "display_data"
    },
    {
     "name": "stdout",
     "output_type": "stream",
     "text": [
      "Spearman and Kendall correlation coefficients seem to be gaussian distributed too\n",
      " \n",
      "Spearman correlation coefficient for homework data= 0.9404303804303806\n",
      "Kendall correlation coefficient for homework data= 0.7919839839839841\n",
      "homework data is correlated according to these coefficients too\n"
     ]
    }
   ],
   "source": [
    "#7) Extra Credit: If you have time, do 1 through 3 for the Spearman and/or Kendall correlation coefficients.  \n",
    "#   There are Python functions for calculating them efficiently.  \n",
    "#   These are \"rank statistics\" that do not rely on any  assumption about the distribution of $X$ and $Y$ \n",
    "#   (in this case Gaussian) and are thus more widely applicable.  \n",
    "#   Do they indicate that the data in the home work is correlated?\n",
    "from scipy.stats import spearmanr\n",
    "from scipy.stats import kendalltau\n",
    "print('==== ONE SAMPLE ====')\n",
    "x=np.random.normal(0,1,size=1000)\n",
    "y=np.random.normal(0,1,size=1000)\n",
    "s=spearmanr(x,y)[0]\n",
    "k=kendalltau(x,y)[0]\n",
    "print('Spearman correlation coefficient= '+str(s))\n",
    "print('Kendall correlation coefficient= '+str(k))\n",
    "print('==== 1000 SAMPLES====')\n",
    "sa=np.empty(1000)\n",
    "ka=np.empty(1000)\n",
    "for i in range(1000):\n",
    "    x=np.random.normal(0,1,size=1000)\n",
    "    y=np.random.normal(0,1,size=1000)\n",
    "    sa[i]=spearmanr(x,y)[0]\n",
    "    ka[i]=k=kendalltau(x,y)[0]\n",
    "plt.hist(sa,normed=True,alpha=0.4,color='red',label='Spearman correlation \\ncoefficient distribution')\n",
    "plt.hist(ka,normed=True,alpha=0.4,color='blue',label='Kendall correlation \\ncoefficient distribution')\n",
    "samean=np.mean(sa)\n",
    "sastd=np.std(sa,ddof=1)\n",
    "kamean=np.mean(ka)\n",
    "kastd=np.std(ka,ddof=1)\n",
    "x1 = np.linspace(samean-3*sastd,samean+3*sastd, 100)\n",
    "plt.plot(x1,norm.pdf(x1, loc=samean,scale=sastd),color='red')\n",
    "plt.plot(x1,norm.pdf(x1, loc=kamean,scale=kastd),color='blue')\n",
    "plt.legend(loc='upper left',fontsize='small')\n",
    "plt.show()\n",
    "print('Spearman and Kendall correlation coefficients seem to be gaussian distributed too')\n",
    "print(' ')\n",
    "print('Spearman correlation coefficient for homework data= '+str(spearmanr(xhome,yhome)[0]))\n",
    "print('Kendall correlation coefficient for homework data= '+str(kendalltau(xhome,yhome)[0]))\n",
    "print('homework data is correlated according to these coefficients too')"
   ]
  },
  {
   "cell_type": "code",
   "execution_count": null,
   "metadata": {},
   "outputs": [],
   "source": []
  }
 ],
 "metadata": {
  "kernelspec": {
   "display_name": "Python 3",
   "language": "python",
   "name": "python3"
  },
  "language_info": {
   "codemirror_mode": {
    "name": "ipython",
    "version": 3
   },
   "file_extension": ".py",
   "mimetype": "text/x-python",
   "name": "python",
   "nbconvert_exporter": "python",
   "pygments_lexer": "ipython3",
   "version": "3.6.4"
  }
 },
 "nbformat": 4,
 "nbformat_minor": 2
}
