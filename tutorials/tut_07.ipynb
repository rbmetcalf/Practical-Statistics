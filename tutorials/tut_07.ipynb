{
 "cells": [
  {
   "cell_type": "markdown",
   "metadata": {},
   "source": [
    "**Tutorial 7 - Monte Carlo Calculation $\\pi$**\n",
    "\n",
    "Here we will do a little warm up exercise in Monte Carlo calculations.\n"
   ]
  },
  {
   "cell_type": "markdown",
   "metadata": {},
   "source": [
    "1) Imagine a circle circumscribed by a square.  The probability of a random point within the square being inside the circle is equal to the ratio of the area of the circle to the area of the square.  Use a uniform random number generator to calculate the value of $\\pi$.  Use 1,000 and 10,000 points."
   ]
  },
  {
   "cell_type": "code",
   "execution_count": null,
   "metadata": {
    "collapsed": true
   },
   "outputs": [],
   "source": []
  },
  {
   "cell_type": "markdown",
   "metadata": {},
   "source": [
    "2) Repeat the calculations above in a loop and record the values of $\\pi$.  Make a histogram of your calculated $\\pi$ values.  What is the variance of your estimate of $\\pi$ using 1,000 and 10,000?  How does it scale with the number of points?"
   ]
  },
  {
   "cell_type": "code",
   "execution_count": null,
   "metadata": {
    "collapsed": true
   },
   "outputs": [],
   "source": []
  },
  {
   "cell_type": "markdown",
   "metadata": {},
   "source": [
    "3) What was done above in two dimensions can be done in more dimensions.  Calculate the volume of a 5 dimensional ball of unit radius in the same way.  Calculate its variance of your estimate in the same way.  Use enough points to get three significant figures."
   ]
  },
  {
   "cell_type": "code",
   "execution_count": null,
   "metadata": {
    "collapsed": true
   },
   "outputs": [],
   "source": []
  }
 ],
 "metadata": {
  "kernelspec": {
   "display_name": "Python 2",
   "language": "python",
   "name": "python2"
  },
  "language_info": {
   "codemirror_mode": {
    "name": "ipython",
    "version": 2
   },
   "file_extension": ".py",
   "mimetype": "text/x-python",
   "name": "python",
   "nbconvert_exporter": "python",
   "pygments_lexer": "ipython2",
   "version": "2.7.14"
  }
 },
 "nbformat": 4,
 "nbformat_minor": 2
}
