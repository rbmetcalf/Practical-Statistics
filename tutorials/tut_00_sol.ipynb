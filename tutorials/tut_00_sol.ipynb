{
 "cells": [
  {
   "cell_type": "code",
   "execution_count": 33,
   "metadata": {},
   "outputs": [
    {
     "name": "stdout",
     "output_type": "stream",
     "text": [
      "3.14159265359\n",
      "[1, 4, 1, 5, 9, 2, 6, 5, 3, 5]\n",
      "((10,), <type 'numpy.ndarray'>)\n",
      "(1, 5, 5)\n",
      "('Mean: ', 4.0999999999999996, 'Median: ', 4.5)\n"
     ]
    }
   ],
   "source": [
    "#Tutorial number 0:-\n",
    "\n",
    "#import packadge numpy\n",
    "import numpy as np\n",
    "\n",
    "#print the PI and assign it to string varaible PI_str\n",
    "PI_str = str(np.pi); print(PI_str)\n",
    "\n",
    "int(PI_str[2])\n",
    "\n",
    "#create a list called PI_digits of the first 10 decimal digits of PI using string methods.\n",
    "PI_digits = [int(PI_str[i+2]) for i in range(10)]\n",
    "\n",
    "print(PI_digits)\n",
    "\n",
    "#print the shape, type and  elements number (0, 3, 7) of the array PI_digits\n",
    "PI_digits = np.array(PI_digits)\n",
    "\n",
    "print(PI_digits.shape, type(PI_digits))\n",
    "\n",
    "print(PI_digits[0], PI_digits[3], PI_digits[7])\n",
    "\n",
    "#append to PI_digits the 11th digit \n",
    "np.append(PI_digits, int(PI_str[12]))\n",
    "\n",
    "#print the mean and the median of PI_digits \n",
    "print(\"Mean: \", np.mean(PI_digits), \"Median: \", np.median(PI_digits))\n",
    "\n"
   ]
  },
  {
   "cell_type": "code",
   "execution_count": null,
   "metadata": {},
   "outputs": [],
   "source": []
  }
 ],
 "metadata": {
  "kernelspec": {
   "display_name": "Python 2",
   "language": "python",
   "name": "python2"
  },
  "language_info": {
   "codemirror_mode": {
    "name": "ipython",
    "version": 2
   },
   "file_extension": ".py",
   "mimetype": "text/x-python",
   "name": "python",
   "nbconvert_exporter": "python",
   "pygments_lexer": "ipython2",
   "version": "2.7.13"
  }
 },
 "nbformat": 4,
 "nbformat_minor": 2
}
