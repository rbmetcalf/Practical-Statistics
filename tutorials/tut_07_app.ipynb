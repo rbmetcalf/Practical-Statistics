{
 "cells": [
  {
   "cell_type": "code",
   "execution_count": null,
   "metadata": {},
   "outputs": [],
   "source": [
    "http://docs.astropy.org/en/stable/cosmology/#module-astropy.cosmology"
   ]
  },
  {
   "cell_type": "code",
   "execution_count": null,
   "metadata": {},
   "outputs": [],
   "source": [
    "mag_u = np.array(radio_loud['u_mag'])\n",
    "mag_g = np.array(radio_loud['g_mag'])\n",
    "mag_r = np.array(radio_loud['r_mag'])\n",
    "mag_i = np.array(radio_loud['i_mag'])\n",
    "mag_z = np.array(radio_loud['z_mag'])\n",
    "radio = np.array(radio_loud['FIRST'])\n",
    "\n",
    "ug = mag_u - mag_g\n",
    "ur = mag_u - mag_r\n",
    "ui = mag_u - mag_i\n",
    "uz = mag_u - mag_z\n",
    "gr = mag_g - mag_r\n",
    "gi = mag_g - mag_i\n",
    "gz = mag_g - mag_z\n",
    "ri = mag_r - mag_i\n",
    "rz = mag_r - mag_z\n",
    "iz = mag_i - mag_z\n",
    "\n",
    "color_block = np.array( [ug,ur,ui,uz,gr,gi,gz,ri,rz,iz] )\n",
    "\n",
    "from astropy.cosmology import WMAP9 as cosmo\n",
    "\n",
    "redshift = np.array(radio_loud['z'])\n",
    "dist_mod = 5*np.log10(cosmo.luminosity_distance(redshift).value)\n",
    "\n",
    "radio = radio - dist_mod\n",
    "\n",
    "print dmod\n",
    "\n",
    "plt.scatter(redshift,radio)\n",
    "plt.ylabel(r\"$2.5  \\log_{10}( radio )$\")\n",
    "plt.xlabel(\"Z\")\n",
    "plt.show()\n",
    "\n",
    "\n",
    "#print \"number of QSOs : \",data.count\n",
    "print \"number of x-ray detections :\",np.sum( data['ROSAT'] != -9.0  )\n",
    "print \"number of radio detections :\",np.sum( data['FIRST'] > 0 )\n",
    "\n",
    "radio_loud = data.query('(FIRST > -1) & (FIRST > 0)')\n",
    "radio_quiet = data.query('(FIRST > -1) & (FIRST <= 0)')\n",
    "\n",
    "print len(radio_loud)\n",
    "\n",
    "plt.hist(radio_loud['FIRST'])\n",
    "#plt.hist(radio_quiet['FIRST'])\n",
    "\n",
    "#plt.hist(data['FIRST'])\n",
    "#plt.hist(data['ROSAT'])\n",
    "plt.show()"
   ]
  }
 ],
 "metadata": {
  "kernelspec": {
   "display_name": "Python 3 (ipykernel)",
   "language": "python",
   "name": "python3"
  },
  "language_info": {
   "codemirror_mode": {
    "name": "ipython",
    "version": 3
   },
   "file_extension": ".py",
   "mimetype": "text/x-python",
   "name": "python",
   "nbconvert_exporter": "python",
   "pygments_lexer": "ipython3",
   "version": "3.9.5"
  }
 },
 "nbformat": 4,
 "nbformat_minor": 2
}
