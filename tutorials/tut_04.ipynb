{
 "cells": [
  {
   "cell_type": "markdown",
   "metadata": {},
   "source": [
    "\n",
    "# Tutorial 4 - Calculating Significance by Monte Carlo\n",
    "\n",
    "In the homework you should have found the correlation coefficients for some data.  \n",
    "The Pearson Correlation Coefficient is\n",
    "\\begin{align}\n",
    "r_{xy} = \\frac{ \\sum_i (x_i - \\bar{x} ) (y_i - \\bar{y}) }{ \\sqrt{ S^2_x S^2_y} }\n",
    "\\end{align}\n",
    "where\n",
    "\\begin{align}\n",
    "\\bar{x} = \\frac{1}{N}\\sum_i x_i ~~~~ S^2_x = \\frac{1}{(N-1)} \\sum_i ( x_i - \\bar{x} )\n",
    "\\end{align}\n",
    "\n",
    "A non-zero $r_{xy}$ should indicate that there is a correlation between $x$ and $y$.\n",
    "$r_{xy}$ is an estimator of the populations true correlation coefficient\n",
    "\\begin{align}\n",
    "\\rho_{xy} = \\frac{C_{XY}}{\\sqrt{\\sigma^2_x \\sigma_y^2} }\n",
    "\\end{align}\n",
    "\n",
    "But $r_{xy}$ is a function of random variables so we would not expect it to be exactly 0 \n",
    "even if there were no correlations.  We could try to calculate the probability distribution of \n",
    "$r_{xy}$ analytically, but this might be difficult (more on this in lecture).\n",
    "\n",
    "##  Monte Carlo\n",
    "\n",
    "Instead lets find the significance of your measured $r_{xy}$ by Monte Carlo given the hypothesis that \n",
    "$x$ and $y$ are not correlated.\n",
    "\n",
    "\n",
    "1. Create two vectors (X and Y) of random normally distributed numbers with variance 1 and mean zero.  Each vector should be 1000 elements long as was the data in the homework.  Calculate $r_{xy}$ for these.  X and Y \n",
    "are uncorrelated since they where generated independently.\n",
    "\n",
    "2. Repeat step 1 a thousand times to get a distribution of $r_{xy}$.  You should to this in a loop.  There is no reason to save all the X's and Y's.\n",
    "\n",
    "3. Plot a histogram of your  $r_{xy}$ values.  Does it look Gaussian?\n",
    "\n",
    "4. What is the fraction of times $|r_{xy}|$ is larger than your measured value for the data in file homework\\_01\\_2d-datafile.csv ?  Would you expect to get this value if there were no correlation?\n",
    "\n",
    "5. Do the exercise above over but this time use the measured $S^2_x$, $S^2_y$, $\\bar{x}$ and $\\bar{y}$ from homework\\_01\\_2d-datafile.csv  to generate the  X and Y variables.   Plot the new histogram of $r_{xy}$ over the old one.   Is there a difference or is the distribution of $r_{xy}$ independent of the averages and variances of the distributions?\n",
    "\n",
    "6. Order your sample of $r_{xy}$'s from smallest to largest.  Take the $i$th value to be an estimate of the $r_{xy}$ where $(N-i)/N$ of the probability distribution is larger than it.  For example the 95\\% upper bound would be at $i/N = 0.95$.  What is the 95\\% upper bound on $r_{xy}$ if there is no correlation between $X$ and $Y$?  We will call this $r_{0.95}$.\n",
    "In lecture we will find that the variance in this estimator is\n",
    "\\begin{align}\n",
    "Var[r_p] = \\frac{2 p (1-p) }{N f(r_p)^2 }\n",
    "\\end{align}\n",
    "for large $N$ where $f(r)$ is the pdf of $r_{xy}$. \n",
    "Assuming that $r_{xy}$ is Gaussian distributed and its variance is the one you measure, what is the variance in your estimate of $r_{0.95}$?\n",
    "\n",
    "7. Extra Credit: If you have time, do 1 through 3 for the Spearman and/or Kendall correlation coefficients.  There are Python functions for calculating them efficiently.  These are \"rank statistics\" that do not rely on any  assumption about the distribution of $X$ and $Y$ (in this case Gaussian) and are thus more widely applicable.  Do they indicate that the data in the home work is correlated?\n"
   ]
  },
  {
   "cell_type": "code",
   "execution_count": null,
   "metadata": {},
   "outputs": [],
   "source": [
    "#Tutorial # 04\n",
    "## Calculating Significance by Monte Carlo\n",
    "##\n",
    "## More complete directions for this tutorial are in tut4.pdf\n",
    "##\n",
    "\n",
    "#1) Calculate two vectors (X and Y) of random normally distributed numbers \n",
    "#   with variance 1 and mean zero.  Each vector should be 1000 elements long \n",
    "#   as was the data in the homework.  Calculate $r_{xy}$ for these."
   ]
  },
  {
   "cell_type": "code",
   "execution_count": null,
   "metadata": {},
   "outputs": [],
   "source": [
    "#2) Repeat step 1 a thousand times to get a distribution of $r_{xy}$ for a sample \n",
    "#   size equal to that of the homework."
   ]
  },
  {
   "cell_type": "code",
   "execution_count": null,
   "metadata": {},
   "outputs": [],
   "source": [
    "#3) Plot a histogram of your  $r_{xy}$ values."
   ]
  },
  {
   "cell_type": "code",
   "execution_count": null,
   "metadata": {},
   "outputs": [],
   "source": [
    "#4) What is the fraction of times $|r_{xy}|$ is larger than your measured value \n",
    "#   for homework\\_01\\_2d-datafile.csv ?  Would you expect to find this if there \n",
    "#   were no correlation?"
   ]
  },
  {
   "cell_type": "code",
   "execution_count": null,
   "metadata": {},
   "outputs": [],
   "source": [
    "#5) Do the exersize over but this time use the measured $S^2_x$, $S^2_y$, $\\bar{x}$ \n",
    "#   and $\\bar{y}$ from homework\\_01\\_2d-datafile.csv  to generate the  X and Y \n",
    "#   variables.  Does this make any difference?"
   ]
  },
  {
   "cell_type": "code",
   "execution_count": null,
   "metadata": {},
   "outputs": [],
   "source": [
    "#6) Order your sample of $r_{xy}$'s from smallest to largest.  Take the $i$th \n",
    "#   value to be an estimate of the $r_{xy}$ where $(N-i)/N$ of the probability \n",
    "#   distribution is larger than it.  For example the 95\\% upper bound would be \n",
    "#   at i/N = 0.95.  What is the 95% upper bound on $r_{xy}$ if there is not \n",
    "#   correlation between $X$ and $Y$?  We will call this $r_{0.95}$.\n",
    "#   In lecture we will find that the variance in this estimator is\n",
    "#\n",
    "#   Var[r_p] = \\frac{ 2 p (1-p) }{N f(r_p)^2 }\n",
    "#\n",
    "#   for large $N$ where $f(r)$ is the pdf of $r_{xy}$. \n",
    "#   Assuming that $r_{xy}$ is Gaussian distributed and its variance is the one \n",
    "#   you measure, what is the variance in your estimate of $r_{0.95}$?"
   ]
  },
  {
   "cell_type": "code",
   "execution_count": 1,
   "metadata": {},
   "outputs": [],
   "source": [
    "#7) Extra Credit: If you have time, do 1 through 3 for the Spearman and/or Kendall correlation coefficients.  \n",
    "#   There are Python functions for calculating them efficiently.  \n",
    "#   These are \"rank statistics\" that do not rely on any  assumption about the distribution of $X$ and $Y$ \n",
    "#   (in this case Gaussian) and are thus more widely applicable.  \n",
    "#   Do they indicate that the data in the home work is correlated?"
   ]
  }
 ],
 "metadata": {
  "kernelspec": {
   "display_name": "Python 2",
   "language": "python",
   "name": "python2"
  },
  "language_info": {
   "codemirror_mode": {
    "name": "ipython",
    "version": 2
   },
   "file_extension": ".py",
   "mimetype": "text/x-python",
   "name": "python",
   "nbconvert_exporter": "python",
   "pygments_lexer": "ipython2",
   "version": "2.7.13"
  }
 },
 "nbformat": 4,
 "nbformat_minor": 2
}
