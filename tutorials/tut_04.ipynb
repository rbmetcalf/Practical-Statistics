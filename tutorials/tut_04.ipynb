{
 "cells": [
  {
   "cell_type": "code",
   "execution_count": null,
   "metadata": {
    "collapsed": true
   },
   "outputs": [],
   "source": [
    "#Tutorial # 04\n",
    "## Calculating Significance by Monte Carlo\n",
    "##\n",
    "## More complete directions for this tutorial are in tut4.pdf\n",
    "##\n",
    "\n",
    "#1) Calculate two vectors (X and Y) of random normally distributed numbers \n",
    "#   with variance 1 and mean zero.  Each vector should be 1000 elements long \n",
    "#   as was the data in the homework.  Calculate $r_{xy}$ for these.\n",
    "\n",
    "#2) Repeat step 1 a thousand times to get a distribution of $r_{xy}$ for a sample \n",
    "#   size equal to that of the homework.\n",
    "\n",
    "#3) Plot a histogram of your  $r_{xy}$ values.\n",
    "\n",
    "#4) What is the fraction of times $|r_{xy}|$ is larger than your measured value \n",
    "#   for homework\\_01\\_2d-datafile.csv ?  Would you expect to find this if there \n",
    "#   were no correlation?\n",
    "\n",
    "#5) Do the exersize over but this time use the measured $S^2_x$, $S^2_y$, $\\bar{x}$ \n",
    "#   and $\\bar{y}$ from homework\\_01\\_2d-datafile.csv  to generate the  X and Y \n",
    "#   variables.  Does this make any difference?\n",
    "\n",
    "#6) Order your sample of $r_{xy}$'s from smallest to largest.  Take the $i$th \n",
    "#   value to be an estimate of the $r_{xy}$ where $(N-i)/N$ of the probability \n",
    "#   distribution is larger than it.  For example the 95\\% upper bound would be \n",
    "#   at i/N = 0.95.  What is the 95% upper bound on $r_{xy}$ if there is not \n",
    "#   correlation between $X$ and $Y$?  We will call this $r_{0.95}$.\n",
    "#   In lecture we will find that the variance in this estimator is\n",
    "#\n",
    "#   Var[r_p] = \\frac{p (1-p) }{N f(r_p)^2 }\n",
    "#\n",
    "#   for large $N$ where $f(r)$ is the pdf of $r_{xy}$. \n",
    "#   Assuming that $r_{xy}$ is Gaussian distributed and its variance is the one \n",
    "#   you measure, what is the variance in your estimate of $r_{0.95}$?\n"
   ]
  }
 ],
 "metadata": {
  "kernelspec": {
   "display_name": "Python 2",
   "language": "python",
   "name": "python2"
  },
  "language_info": {
   "codemirror_mode": {
    "name": "ipython",
    "version": 2
   },
   "file_extension": ".py",
   "mimetype": "text/x-python",
   "name": "python",
   "nbconvert_exporter": "python",
   "pygments_lexer": "ipython2",
   "version": "2.7.14"
  }
 },
 "nbformat": 4,
 "nbformat_minor": 2
}
