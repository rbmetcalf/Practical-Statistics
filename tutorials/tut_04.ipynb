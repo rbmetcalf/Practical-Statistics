{
 "cells": [
  {
   "cell_type": "markdown",
   "metadata": {},
   "source": [
    "**Tutorial 4 - Linear Regession on Galaxy Spectra with Templates**\n",
    "\n",
    "In this tutorial we will learn how to read data from a fits file, fit a spectrum to a series of templates and determine the spectrographic redshift of a galaxy.\n",
    "\n",
    "When assigning redshifts to galaxies with a full observed spectrum, one typically fits model spectra for the rest-frame galaxy spectrum to the observed one while accounting for the redshift of the wavelengths. In this challenge, we first want to try to fit a local spectrum with templates using a linear regression and least-squares before trying to estimate the redshift of a redshifted spectrum."
   ]
  },
  {
   "cell_type": "markdown",
   "metadata": {},
   "source": [
    "1) Extract templates spectra from the fits file k_nmf_derived.newdefault.fits.  Use astropy.io.fits.open() for this.  The function returns an hdul object.  You can look at the contents of it with hdul.info().  The templates we want are in the second table - templates[1].data.  There are 5 templates with each one having 27330 wavelengths so this will be a 27330 x 5 array.  The wavelengths that correspond to the pixels are in the templates[11].data.  The other tables contain templates with and without smoothing, dust, lines, etc.  You can look at them if you wish. Print the header information for the second table."
   ]
  },
  {
   "cell_type": "code",
   "execution_count": 56,
   "metadata": {},
   "outputs": [],
   "source": [
    "from astropy.io import fits\n",
    "\n",
    "templates = fits.open('k_nmf_derived.newdefault.fits')\n",
    "templates.info()\n",
    "print(templates[1].header)\n",
    "M = templates[1].data\n",
    "lam = templates[11].data\n",
    "\n",
    "print(np.shape(M))"
   ]
  },
  {
   "cell_type": "markdown",
   "metadata": {},
   "source": [
    "2) Plot the template spectra with proper axis labels.  Using log scaling on the y-axis makes it clearer."
   ]
  },
  {
   "cell_type": "code",
   "execution_count": null,
   "metadata": {},
   "outputs": [],
   "source": [
    "\n"
   ]
  },
  {
   "cell_type": "markdown",
   "metadata": {},
   "source": [
    "Fitting templates to a spectrum:\n",
    "\n",
    "The linear model for the spectrum is of the form\n",
    "\\begin{equation}\n",
    "f_\\lambda = \\sum_i T_\\lambda^i \\theta^i\n",
    "\\end{equation}\n",
    "where the $i$ th template is $T_\\lambda$.  This can be written in matrix notation as\n",
    "\\begin{equation}\n",
    "\\pmb{f} = \\pmb{M}\\pmb{\\theta}.\n",
    "\\end{equation}\n",
    "$\\theta^i$ is the weight given to the $i$ th template.\n",
    "\n",
    "In the next steps we will formulate and solve the least squares problem for finding the best fit amplitudes of the templates from part 1 when fitting them to the data of a local (redshift zero) spectrum in `localspectrum2.csv`. You will implement your own linear least squares solver and compare it to `numpy`'s implementation."
   ]
  },
  {
   "cell_type": "markdown",
   "metadata": {},
   "source": [
    "3) Load a spectrum from file `localspectrum2.csv` and plot it.  This file contains both the wavelengths and the fluxes of each pixel.  (use pandas.read_csv)."
   ]
  },
  {
   "cell_type": "code",
   "execution_count": null,
   "metadata": {},
   "outputs": [],
   "source": []
  },
  {
   "cell_type": "markdown",
   "metadata": {},
   "source": [
    "**Find the least-squares solution for the template coefficients.**\n",
    "\n",
    "4) Make a function that returns the pseudo-inverse of the $\\pmb{M}$ matrix given in the lecture notes,\n",
    "\\begin{equation}\n",
    "\\pmb{M}^+ = \\left( \\pmb{M}^{T} \\pmb{M} \\right)^{-1} \\pmb{M}^T\n",
    "\\end{equation}\n",
    "(you will need functions np.dot(), np.linalg.inv() and remember that the transpose of a matrix `M` is `M.T`.  *You should be inverting a small matrix, not a large one.*  If you are inverting a large matrix you have not taken the transposes properly.)\n",
    "\n",
    "Use this pseudo-inverse to find the least-squared solution and print it.  Which template spectrum is closest to the galaxy's spectrum?"
   ]
  },
  {
   "cell_type": "code",
   "execution_count": null,
   "metadata": {},
   "outputs": [],
   "source": []
  },
  {
   "cell_type": "markdown",
   "metadata": {},
   "source": [
    "5) The least-squared problem can also be solved using the function  `numpy.linalg.lstsq()`\n",
    ".  Use this function to solve the problem and show that it agrees with your solution above.  "
   ]
  },
  {
   "cell_type": "code",
   "execution_count": null,
   "metadata": {},
   "outputs": [],
   "source": []
  },
  {
   "cell_type": "markdown",
   "metadata": {},
   "source": [
    "6) Plot the data again and the model spectrum on top of it.  The model spectrum is the sum of the templates with the best fit coefficients."
   ]
  },
  {
   "cell_type": "code",
   "execution_count": null,
   "metadata": {},
   "outputs": [],
   "source": []
  },
  {
   "cell_type": "markdown",
   "metadata": {},
   "source": [
    "7) Plot the fractional residuals as a function of $\\lambda$, \n",
    "\n",
    "$ \\frac{|~f_\\lambda-d_\\lambda ~|}{f_\\lambda}$\n",
    "\n",
    "where $d_\\lambda$ is the data and $f_\\lambda$ is the prediction of your model."
   ]
  },
  {
   "cell_type": "code",
   "execution_count": null,
   "metadata": {},
   "outputs": [],
   "source": []
  },
  {
   "cell_type": "markdown",
   "metadata": {},
   "source": [
    "**Fitting for the redshift**"
   ]
  },
  {
   "cell_type": "markdown",
   "metadata": {},
   "source": [
    "8) Upload the spectrographic data from `redshiftedspectrum.csv`.  It contains a redshifted spectrum along with the wavelengths of the pixels. This is not the same spectrum as used above."
   ]
  },
  {
   "cell_type": "code",
   "execution_count": null,
   "metadata": {},
   "outputs": [],
   "source": []
  },
  {
   "cell_type": "markdown",
   "metadata": {},
   "source": [
    "9) Fitting both redshift and template amplitudes is no longer a linear problem. The observed wavelength $\\lambda_o$ is related to the restframe wavelength $\\lambda$ (the wavelength it was emitted at) by\n",
    "\\begin{equation}\n",
    "\\lambda = \\frac{\\lambda_o }{ (1+z)}\n",
    "\\end{equation}\n",
    "where $z$ is the redshift.\n",
    "\n",
    "Implement the following steps:\n",
    "\n",
    "Make an array of 1000 redshifts evenly spaced between 0 to 1.\n",
    "\n",
    "Loop through the redshifts doing the following:\n",
    "\n",
    "-find observed wavelengths of each template wavelength.\n",
    "\n",
    "-Make a new M matrix (newM) where newM[i] is the i th template evaluated at the observed wavelengths. Use np.interp( observer frame wavelengths , observed wavelengths ,M[i])\n",
    "    \n",
    "-use np.linalg.lstsq() to find the coefficients\n",
    "   \n",
    "-Save the \"residual\" for each redshift which is one of the outputs of `np.linalg.lstsq()`.  It is really the sum of the squares of the *residuals* which are the predicted minus the measured fluxes in each pixel."
   ]
  },
  {
   "cell_type": "code",
   "execution_count": null,
   "metadata": {},
   "outputs": [],
   "source": [
    ".\n",
    ".\n",
    "j=0\n",
    "for z in zs :\n",
    "    \n",
    "    lam_ob = ...\n",
    "    .\n",
    "    .\n",
    "    newM = np.zeros([...,...])\n",
    "    for i in range(5) :\n",
    "        newM[i] = ...\n",
    "        \n",
    "    res = np.linalg.lstsq(..)\n",
    "    .\n",
    "    .\n",
    "    "
   ]
  },
  {
   "cell_type": "markdown",
   "metadata": {},
   "source": [
    "10) Plot the sum of squared residuals as a function of redshift.\n",
    "What is the best redshift? (np.argmin())"
   ]
  },
  {
   "cell_type": "code",
   "execution_count": null,
   "metadata": {},
   "outputs": [],
   "source": []
  },
  {
   "cell_type": "markdown",
   "metadata": {},
   "source": [
    "11) Convert what was in the loop above into a function that takes the redshift and returns the sum of squares.  Use this function, `scipy.optimize.minimize` and an initial guess based on the results of 9) to find the best fit redshift."
   ]
  },
  {
   "cell_type": "code",
   "execution_count": null,
   "metadata": {},
   "outputs": [],
   "source": [
    "from scipy.optimize import minimize \n",
    "def least_sq(z) :\n",
    "\n",
    "    lam_ob = lam / (1. + z)\n",
    "    newM = np.zeros([..,..])\n",
    "    .\n",
    "    .\n",
    "    .\n",
    "    \n",
    "    return res[1]*1.0e35  ## factor to avoid numberical problems\n",
    "    \n",
    "output = minimize(least_sq,....)\n",
    "\n",
    ".\n",
    ".\n",
    ".\n",
    "\n",
    "print(output)"
   ]
  },
  {
   "cell_type": "markdown",
   "metadata": {},
   "source": [
    "12) Plot the data at the observed wavelengths.  Over-plot the best fit model spectrum with the original templates over the entire wavelength range shifted to the observer frame.  "
   ]
  },
  {
   "cell_type": "code",
   "execution_count": null,
   "metadata": {},
   "outputs": [],
   "source": []
  }
 ],
 "metadata": {
  "kernelspec": {
   "display_name": "Python 3 (ipykernel)",
   "language": "python",
   "name": "python3"
  },
  "language_info": {
   "codemirror_mode": {
    "name": "ipython",
    "version": 3
   },
   "file_extension": ".py",
   "mimetype": "text/x-python",
   "name": "python",
   "nbconvert_exporter": "python",
   "pygments_lexer": "ipython3",
   "version": "3.9.5"
  }
 },
 "nbformat": 4,
 "nbformat_minor": 1
}
