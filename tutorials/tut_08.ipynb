{
 "cells": [
  {
   "cell_type": "markdown",
   "metadata": {},
   "source": [
    "**Tutorial 8 - Markov Chain Monte Carlo**\n",
    "\n",
    "In this tutorial we will learn how to construct a basic Metropolis-Hastings Markov Chain sampler and apply it to supernova data.\n",
    "\n",
    "We will use the same supernova data we used before, but this time we will take into account the true, nonlinear relationship between redshift and distance modulus.  In practice it would be better to solve this problem by a non-linear $\\chi^2$ fit because there are few parameters, but we will do it by MCMC as an exercises.  "
   ]
  },
  {
   "cell_type": "markdown",
   "metadata": {},
   "source": [
    " 1) Make a Metropolis-Hastings stepping function.\n",
    "\n",
    " The function should take the following inputs: \n",
    " x - a numpy vector giving the current position in parameter space\n",
    " \n",
    " loglike - the value of the log of the likelihood \n",
    "           evaluated at x\n",
    "           \n",
    " loglike_func() - a function that returns the log of the \n",
    "            likelihood given a position in parameters space\n",
    "            \n",
    " proposal_func() - a proposal function that takes a position in \n",
    "                  parameter space and returns another point\n",
    "\n",
    " The function should return the updated position, the updated \n",
    " loglike at that position and a Boolean that is True if the proposed step was \n",
    " accepted and False if it was not. \n",
    " You can assume the proposal function is symmetric, \n",
    "i.e. $q(x | y) = q(y | x)$\n",
    "\n",
    "Call the function MH_step()"
   ]
  },
  {
   "cell_type": "code",
   "execution_count": 1,
   "metadata": {},
   "outputs": [],
   "source": [
    "\n",
    "def MH_step(p,loglike,loglike_func,proposal_func):\n",
    "    '''\n",
    "    Metropolis-Hastings Monte Carlo Step\n",
    "    '''\n",
    "  .\n",
    "  .\n",
    "    return p,loglike,False\n"
   ]
  },
  {
   "cell_type": "markdown",
   "metadata": {},
   "source": [
    "2) Now you must make a *class* for a Gaussian proposal function called \n",
    "\"gaussian_proposal_class\".  The class should have a constructor that takes the standard deviation of the proposal in each dimension.  This is done by defining a \\_\\_init\\_\\_ function within it.  You should be able to call an instance of this class like a function by defining a \\_\\_call\\_\\_ function."
   ]
  },
  {
   "cell_type": "code",
   "execution_count": 2,
   "metadata": {},
   "outputs": [],
   "source": [
    "# Complete this code for a Gaussian proposal function class\n",
    "\n",
    "#class gaussian_proposal_class :\n",
    "    ## This part is the constructor and \n",
    "    ## sets the internal information in the object\n",
    "    # that is declared with\n",
    "    # \"func = gaussian_proposal_function(sigma_vector)\"\n",
    "#    def __init__(self, sigma):\n",
    "#        self.n = len(sigma)\n",
    "#        self.s = sigma\n",
    "#\n",
    "    ##  This part defines what happens when \n",
    "    ##  you do \"y = func(params)\"\n",
    "    ##  This should return a new point\n",
    "#    def __call__(self,params):\n",
    "#        return ________________\n",
    "#\n",
    "# Once this class is defined:\n",
    "#\n",
    "# example of creating a instance of this class\n",
    "# gpf = gaussian_proposal_class(sigma)\n",
    "#\n",
    "# using it after it has been created\n",
    "# result = gpf(params)"
   ]
  },
  {
   "cell_type": "code",
   "execution_count": 4,
   "metadata": {},
   "outputs": [],
   "source": [
    "# 3) Make a Gaussian likelihood class that stores the data and errors and \n",
    "# returns the log likelihood as a default function.\n",
    "\n",
    "#class LogGaussianLikelihood :\n",
    "#    def __init__(self,y_data,x_data,y_model,sigma):\n",
    "#    \n",
    "#         store the data, model and errors in the object\n",
    "#         The function y_model(params,x_data) will return the \n",
    "#         predicted value for y to be compared to y_data for \n",
    "#         any input vectors params and x_data.  This does not \n",
    "#         need to be specified here.\n",
    "#\n",
    "#    def __call__(self,params):\n",
    "#         This is the prior on Omega matter\n",
    "#        if(params[1] < 0 or params[1] > 1) return -1.0e100\n",
    "#        \n",
    "#        Using the stored data and model and the input parameters \n",
    "#        to calculate the log of the Gaussian likelihood and return \n",
    "#        its value.\n",
    "#        "
   ]
  },
  {
   "cell_type": "code",
   "execution_count": 5,
   "metadata": {},
   "outputs": [],
   "source": []
  },
  {
   "cell_type": "markdown",
   "metadata": {},
   "source": [
    "4) Write a function that returns the distance modulus with \n",
    "signature def mu_model(p,z). \n",
    "\n",
    "Where parameters p are:\n",
    "\n",
    "p[0] is the absolute magnitude normalization \n",
    "\n",
    "p[1] is omega_matter.\n",
    "\n",
    "z is the redshift.\n",
    "\n",
    "Use the library function \n",
    "astropy.cosmology.FlatLambdaCDM.luminosity_distance(z).value \n",
    "to calculate the luminosity distance.  This is a nonlinear function of the omega_matter.\n"
   ]
  },
  {
   "cell_type": "code",
   "execution_count": 6,
   "metadata": {},
   "outputs": [],
   "source": [
    "#from astropy.cosmology import FRW\n",
    "import astropy.cosmology as cosmo\n",
    "\n",
    "def mu_model(p,z):\n",
    "    cos = cosmo.FlatLambdaCDM(70,p[1])\n",
    "    return ..."
   ]
  },
  {
   "cell_type": "markdown",
   "metadata": {},
   "source": [
    "5) Read in the supernova data from SCPUnion2.1_mu_vs_z.txt and plot it."
   ]
  },
  {
   "cell_type": "code",
   "execution_count": null,
   "metadata": {},
   "outputs": [],
   "source": []
  },
  {
   "cell_type": "markdown",
   "metadata": {
    "collapsed": true
   },
   "source": [
    " 6) Make an instance of LogGaussianLikelihood with the data.  Call it loglike_func\n",
    "\n",
    "Make an instance of gaussian_proposal_function\n",
    "\n",
    "Set up the initial point p[] and its log likelihood \n",
    " using  loglike_func(p)\n",
    "\n",
    "Make an MCMC loop 1000 steps or more long and make a scatter plot of  the chain.  Record the acceptance fraction.\n"
   ]
  },
  {
   "cell_type": "code",
   "execution_count": null,
   "metadata": {},
   "outputs": [],
   "source": []
  },
  {
   "cell_type": "markdown",
   "metadata": {},
   "source": [
    "7) Make historgrams of the two parameters."
   ]
  },
  {
   "cell_type": "code",
   "execution_count": null,
   "metadata": {},
   "outputs": [],
   "source": []
  },
  {
   "cell_type": "markdown",
   "metadata": {},
   "source": [
    "8) Use plt.hist2d() to make a 2 dimensional histogram of the chain with labels."
   ]
  },
  {
   "cell_type": "code",
   "execution_count": null,
   "metadata": {},
   "outputs": [],
   "source": []
  },
  {
   "cell_type": "markdown",
   "metadata": {},
   "source": [
    " 9) I have written a function with just a few lines missing that returns the cross-correlation function between two vectors with lag m.\n",
    " \n",
    " Use this function to estimate the correlation length \n",
    " of your chain. Plot the auto-correlation function for \n",
    " lags of zero to a few hundred.\n",
    " \n",
    " What is the correlation length of your chain?"
   ]
  },
  {
   "cell_type": "code",
   "execution_count": 51,
   "metadata": {},
   "outputs": [],
   "source": [
    "def corrfunction(x,y):\n",
    "    '''\n",
    "    This function calculates the correlation coefficient \n",
    "    as a function of lag between \n",
    "    '''\n",
    "    xc = x - np.mean(x)\n",
    "    yc = y - ...\n",
    "    \n",
    "    N = len(x)\n",
    "    out = np.empty(N-2)\n",
    "    stdx = np.std(xc)\n",
    "    stdy = ...\n",
    "\n",
    "    for i in range(N-2) :\n",
    "        xt = xc[0:N-i]\n",
    "        yt = yc[i:N]\n",
    "        if(stdx == 0 or stdy == 0):  ## this can happen for last elements\n",
    "            out[i] = 0\n",
    "        else :\n",
    "            out[i] = np.mean(xt*yt)\n",
    "\n",
    "    out /= ....\n",
    "    return out"
   ]
  },
  {
   "cell_type": "code",
   "execution_count": null,
   "metadata": {},
   "outputs": [],
   "source": []
  },
  {
   "cell_type": "markdown",
   "metadata": {},
   "source": [
    "10) Calculate the mean, variance and normalized covariance of the parameters.  For a flat universe, $\\Omega_m + \\Omega_\\Lambda = 1$ where $\\Omega_\\Lambda$ is the density of the cosmological constant.  What are the mean value and \"1 sigma\" error bars on  $\\Omega_\\Lambda$."
   ]
  },
  {
   "cell_type": "code",
   "execution_count": null,
   "metadata": {},
   "outputs": [],
   "source": []
  }
 ],
 "metadata": {
  "kernelspec": {
   "display_name": "Python 3",
   "language": "python",
   "name": "python3"
  },
  "language_info": {
   "codemirror_mode": {
    "name": "ipython",
    "version": 3
   },
   "file_extension": ".py",
   "mimetype": "text/x-python",
   "name": "python",
   "nbconvert_exporter": "python",
   "pygments_lexer": "ipython3",
   "version": "3.7.9"
  }
 },
 "nbformat": 4,
 "nbformat_minor": 2
}
