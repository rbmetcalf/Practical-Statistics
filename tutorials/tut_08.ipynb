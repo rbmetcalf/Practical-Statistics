{
 "cells": [
  {
   "cell_type": "markdown",
   "metadata": {
    "deletable": true,
    "editable": true
   },
   "source": [
    "**Tutorial 8 - Markov Chain Monte Carlo**\n",
    "\n",
    "In this tutorial we will learn how to construct a basic Metropolis-Hastings Markov Chain sampler and apply it to supernova data.\n"
   ]
  },
  {
   "cell_type": "code",
   "execution_count": 99,
   "metadata": {
    "collapsed": true,
    "deletable": true,
    "editable": true
   },
   "outputs": [],
   "source": [
    "# 1) Make a Metropolis-Hastings stepping function.\n",
    "#\n",
    "# The function should take the following inputs \n",
    "# x - the current position in parameter space\n",
    "# loglike - the value of the log of the likelihood \n",
    "#           evaluated at x\n",
    "# loglike_func - a function that returns to log of the \n",
    "#            likelihood given a position in parameters space\n",
    "# proposal_func - a proposal function that takes a position in \n",
    "#                  parameter space and proposes another\n",
    "#\n",
    "# The function should return the updated position, the updated \n",
    "# loglike and a boolean that is True if the proposed step was \n",
    "# accepted and False if it wasn't. \n",
    "# You can assume the proposal function is symmetric.\n",
    "\n",
    "import pandas as pa\n",
    "import numpy as np\n",
    "import matplotlib.pyplot as plt\n",
    "import random\n"
   ]
  },
  {
   "cell_type": "code",
   "execution_count": 100,
   "metadata": {
    "collapsed": true,
    "deletable": true,
    "editable": true
   },
   "outputs": [],
   "source": [
    "# 2) Complete this code for a Gaussian proposal function class\n",
    "\n",
    "class gaussian_transfer_function :\n",
    "    \n",
    "    ## This part is the constructor and \n",
    "    ## sets the internal information in the object\n",
    "    # that is declared with\n",
    "    # \"func = gaussian_transfer_function(sigma_vector)\"\n",
    "    def __init__(self, sigma):\n",
    "        self.n = len(sigma)\n",
    "        self.s = sigma\n",
    "    ##  This part defines what happens when \n",
    "    ##  you do \"y = func(x)\"\n",
    "    ##  This should return a new point\n",
    "    def __call__(self,x):\n",
    "        return ________________\n"
   ]
  },
  {
   "cell_type": "code",
   "execution_count": null,
   "metadata": {
    "collapsed": true,
    "deletable": true,
    "editable": true
   },
   "outputs": [],
   "source": []
  },
  {
   "cell_type": "code",
   "execution_count": 101,
   "metadata": {
    "collapsed": true,
    "deletable": true,
    "editable": true
   },
   "outputs": [],
   "source": [
    "# 3) Make a Gaussian likelihood class of the form\n",
    "\n",
    "#class LogGaussianLikelihood :\n",
    "#    def __init__(self,y_data,x_data,y_model,sigma):\n",
    "#    \n",
    "#         store the data, model and errors in the object\n",
    "#         The function y_model(params,x_data) will return the \n",
    "#         predicted value for y to be compared to y_data\n",
    "#\n",
    "#    def __call__(self,params):\n",
    "#         \n",
    "#        Using the stored data and model to calculate \n",
    "#        the log of the Gaussian likelihood and return \n",
    "#        its value.\n",
    "#        "
   ]
  },
  {
   "cell_type": "code",
   "execution_count": null,
   "metadata": {
    "collapsed": true,
    "deletable": true,
    "editable": true
   },
   "outputs": [],
   "source": []
  },
  {
   "cell_type": "markdown",
   "metadata": {
    "deletable": true,
    "editable": true
   },
   "source": [
    "4) Write a function that returns the distance modulus with \n",
    "signature def mu_model(p,z). \n",
    "\n",
    "parameters p are \n",
    "\n",
    "p[0] is the absolute magnitude normalization \n",
    "\n",
    "p[1] is omega_matter.  \n",
    "\n",
    "Use the library function \n",
    "astropy.cosmology.FlatLambdaCDM.luminosity_distance(z).value \n",
    "to calculate the luminosity distance.\n"
   ]
  },
  {
   "cell_type": "code",
   "execution_count": 102,
   "metadata": {
    "collapsed": true,
    "deletable": true,
    "editable": true
   },
   "outputs": [],
   "source": [
    "import astropy.cosmology as cosmo"
   ]
  },
  {
   "cell_type": "code",
   "execution_count": 103,
   "metadata": {
    "collapsed": false,
    "deletable": true,
    "editable": true
   },
   "outputs": [
    {
     "data": {
      "image/png": "iVBORw0KGgoAAAANSUhEUgAAAYIAAAEKCAYAAAAfGVI8AAAABHNCSVQICAgIfAhkiAAAAAlwSFlz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\nTkSuQmCC\n",
      "text/plain": [
       "<matplotlib.figure.Figure at 0x113209310>"
      ]
     },
     "metadata": {},
     "output_type": "display_data"
    }
   ],
   "source": [
    "# Read in the supernova data\n",
    "#\n",
    "data = pa.read_csv(\"SCPUnion2.1_mu_vs_z.txt\",sep='\\t',comment='#')\n",
    "\n",
    "z = data['redshift']\n",
    "mu = data['dist_mod']\n",
    "mu_err = data['dist_mod_error']\n",
    "\n",
    "plt.errorbar(z,mu,yerr=mu_err,fmt='|')\n",
    "plt.xlabel('Z')\n",
    "plt.ylabel('distance modulus')\n",
    "plt.show()"
   ]
  },
  {
   "cell_type": "code",
   "execution_count": 104,
   "metadata": {
    "collapsed": true,
    "deletable": true,
    "editable": true
   },
   "outputs": [],
   "source": [
    "# 5) \n",
    "## Make an instance of LogGaussianLikelihood with the data.\n",
    "## Call it loglike_func\n",
    "\n",
    "## Make an instance of gaussian_transfer_function\n",
    "\n",
    "## Set up the initial point p[] and its log likelihood \n",
    "## using  loglike_func(p)\n",
    "\n",
    "## Make an MCMC loop 1000 steps or more long and make a scatter plot of \n",
    "## the chain.  Record the acceptance fraction.\n"
   ]
  },
  {
   "cell_type": "code",
   "execution_count": null,
   "metadata": {
<<<<<<< HEAD
    "collapsed": true,
    "deletable": true,
    "editable": true
=======
    "collapsed": true
>>>>>>> 49b42f73c36f951258a1d3a769a123ac7261231a
   },
   "outputs": [],
   "source": []
  },
  {
   "cell_type": "markdown",
   "metadata": {
    "deletable": true,
    "editable": true
   },
   "source": [
    "6) Make historgrams of the two parameters."
   ]
  },
  {
   "cell_type": "code",
   "execution_count": null,
   "metadata": {
<<<<<<< HEAD
    "collapsed": true,
    "deletable": true,
    "editable": true
=======
    "collapsed": true
>>>>>>> 49b42f73c36f951258a1d3a769a123ac7261231a
   },
   "outputs": [],
   "source": []
  },
  {
   "cell_type": "markdown",
   "metadata": {
    "deletable": true,
    "editable": true
   },
   "source": [
    "7) Use numpy.histogram2d() to make a 2 dimensional of the chain."
   ]
  },
  {
   "cell_type": "code",
   "execution_count": null,
   "metadata": {
    "collapsed": true,
    "deletable": true,
    "editable": true
   },
   "outputs": [],
   "source": []
  },
  {
   "cell_type": "code",
   "execution_count": 105,
   "metadata": {
    "collapsed": true,
    "deletable": true,
    "editable": true
   },
   "outputs": [],
   "source": [
    "## 8) Use this function to estimate the correlation length \n",
    "## of your chain. Plot the autocorrelation function for \n",
    "## lag zero to a few hundred.\n",
    "def corrfunction(x,y):\n",
    "    '''\n",
    "    This function calculates the correlation coefficient \n",
    "    as a function of lag between \n",
    "    '''\n",
    "    xc = x - np.mean(x)\n",
    "    yc = y - np.mean(y)\n",
    "    \n",
    "    N = len(x)\n",
    "    out = np.empty(N-2)\n",
    "    stdx = np.std(xc)\n",
    "    stdy = np.std(yc)\n",
    "\n",
    "    for i in range(N-2) :\n",
    "        xt = xc[0:N-i]\n",
    "        yt = yc[i:N]\n",
    "        if(stdx == 0 or stdy == 0):  ## this can happen for last elements\n",
    "            out[i] = 0\n",
    "        else :\n",
    "            out[i] = np.mean(xt*yt)/stdx/stdy\n",
    "\n",
    "    return out\n"
   ]
  },
  {
   "cell_type": "code",
   "execution_count": null,
   "metadata": {
<<<<<<< HEAD
    "collapsed": true,
    "deletable": true,
    "editable": true
=======
    "collapsed": true
>>>>>>> 49b42f73c36f951258a1d3a769a123ac7261231a
   },
   "outputs": [],
   "source": []
  },
  {
   "cell_type": "markdown",
   "metadata": {
    "deletable": true,
    "editable": true
   },
   "source": [
    "8) Calculate the mean, variance and covariance of the parameters."
   ]
  },
  {
   "cell_type": "code",
   "execution_count": null,
   "metadata": {
<<<<<<< HEAD
    "collapsed": true,
    "deletable": true,
    "editable": true
=======
    "collapsed": true
>>>>>>> 49b42f73c36f951258a1d3a769a123ac7261231a
   },
   "outputs": [],
   "source": []
  },
  {
   "cell_type": "code",
   "execution_count": null,
   "metadata": {
    "collapsed": true,
    "deletable": true,
    "editable": true
   },
   "outputs": [],
   "source": []
  }
 ],
 "metadata": {
  "kernelspec": {
   "display_name": "Python 2",
   "language": "python",
   "name": "python2"
  },
  "language_info": {
   "codemirror_mode": {
    "name": "ipython",
    "version": 2
   },
   "file_extension": ".py",
   "mimetype": "text/x-python",
   "name": "python",
   "nbconvert_exporter": "python",
   "pygments_lexer": "ipython2",
   "version": "2.7.13"
  }
 },
 "nbformat": 4,
 "nbformat_minor": 2
}
