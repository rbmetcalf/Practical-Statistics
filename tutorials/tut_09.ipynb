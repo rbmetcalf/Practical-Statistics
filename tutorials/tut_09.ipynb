{
 "cells": [
  {
   "cell_type": "markdown",
   "metadata": {},
   "source": [
    "**Tutorial 9 - Bayesian Model Checking**\n",
    "\n",
    "In this tutorial we will do some Bayesian model checking on the type Ia supernovae data that we used in tutorial 8.\n",
    "\n",
    "The object of this exercise is to see if the data is consistent with the cosmological and statistical model we have been using to find the best fit parameters.  These assumptions could be wrong in any of a number of ways.  For example, the errors in the distance moduli are not Gaussian or not measured correctly, the cosmological model we are assuming is incorrect or the observed redshifts which we have treated as independent variable have significant errors in them.  We might wonder if the cosmological model we have assume which has no curvature (flat) and a cosmological constant is too simple.  Might there be evidence that the cosmological constant is evolving? "
   ]
  },
  {
   "cell_type": "code",
   "execution_count": null,
   "metadata": {},
   "outputs": [],
   "source": [
    "import pandas as pa\n",
    "import numpy as np\n",
    "import matplotlib.pyplot as plt"
   ]
  },
  {
   "cell_type": "markdown",
   "metadata": {},
   "source": [
    "Read in the MC chain of parameters that you calculated in tutorial 8.  Put it into a numpy array so that `mcmc_chain[0]` is the first pair of parameters with the `M` parameter first."
   ]
  },
  {
   "cell_type": "code",
   "execution_count": null,
   "metadata": {},
   "outputs": [],
   "source": [
    "df = pa.read_csv('mcmc.csv')\n",
    "mcmc_chain = _______\n",
    "## this should print the first point in chain\n",
    "print(mcmc_chain[0])"
   ]
  },
  {
   "cell_type": "markdown",
   "metadata": {},
   "source": [
    "Read in the supernova data again and put them in the arrays named."
   ]
  },
  {
   "cell_type": "code",
   "execution_count": null,
   "metadata": {},
   "outputs": [],
   "source": [
    "data = pa.read_csv(\"SCPUnion2.1_mu_vs_z.txt\",sep='\\t',comment='#')\n",
    "\n",
    "redshifts = ________\n",
    "magnitudes = __________\n",
    "errors = ________\n"
   ]
  },
  {
   "cell_type": "markdown",
   "metadata": {},
   "source": [
    "1) Copy your definition of `mu_model()` from tutorial 8.  Modify it so that it doesn't take the redshifts as a parameter, but instead uses the array `redshifts` already defined and accessible from inside the function.  Make sure the `params[0]` is the magnitude offset and `params[1]` is $\\Omega_m$."
   ]
  },
  {
   "cell_type": "code",
   "execution_count": null,
   "metadata": {},
   "outputs": [],
   "source": [
    "#from astropy.cosmology import FRW\n",
    "import astropy.cosmology as cosmo\n",
    "def mu_model(params):\n",
    "    .\n",
    "    .\n",
    "    ."
   ]
  },
  {
   "cell_type": "markdown",
   "metadata": {},
   "source": [
    "2) We will need to generate new mock data sets given a set of parameters.\n",
    "\n",
    "Make a function that takes the parameters ($M$ and $\\Omega$) and generates a new data set with the same size and redshifts.  Inside the function it should use `mu_model()` and the distance modulus errors.  Assuming the errors are normally distributed in magnitudes.  No looping should be necessary.  (hint: Use `numpy.random.normal()` )"
   ]
  },
  {
   "cell_type": "code",
   "execution_count": null,
   "metadata": {},
   "outputs": [],
   "source": [
    "def data_generator(params) :\n",
    "    .\n",
    "    .\n",
    "    .\n",
    "    "
   ]
  },
  {
   "cell_type": "markdown",
   "metadata": {},
   "source": [
    "Let's do a simple test to see that things are working so far :"
   ]
  },
  {
   "cell_type": "code",
   "execution_count": null,
   "metadata": {},
   "outputs": [],
   "source": [
    "x = data_generator([12,0.7])\n",
    "print(x[0:10])"
   ]
  },
  {
   "cell_type": "markdown",
   "metadata": {},
   "source": [
    "3) Now we need to define the $\\chi^2$ function which is the same as the negative log likelihood in this case except for some constant factors and additive constants.\n",
    "\n",
    "Make a `chi2()` function that takes the parameters and the distance moduli (`mags`) and returns the $\\chi^2$.  It should use the `errors` array and `mu_model()` inside it."
   ]
  },
  {
   "cell_type": "code",
   "execution_count": null,
   "metadata": {},
   "outputs": [],
   "source": [
    "\n",
    "def chi2(params,mags) :\n",
    "    .\n",
    "    .\n"
   ]
  },
  {
   "cell_type": "markdown",
   "metadata": {},
   "source": [
    "4) Use the function `scipy.optimize.minimize` to minimize `chi2()` to find the best fit parameters for the observed data.  Note that the object returned by `scipy.optimize.minimize` has both the parameter values at the minimum (`result.x`) and the value of the function at the minimum (`result.fun`).  Store these values for later use."
   ]
  },
  {
   "cell_type": "code",
   "execution_count": null,
   "metadata": {},
   "outputs": [],
   "source": [
    "from scipy.optimize import minimize\n",
    "\n",
    "param_init = _________\n",
    "bestfit_observed = minimize(chi2,param_init,args=(_______),bounds=((None, None), (0, 1)))\n",
    "\n",
    "print(\"best fit model = \",bestfit_observed.x,\" Its chi^2 is \",bestfit_observed.fun)"
   ]
  },
  {
   "cell_type": "markdown",
   "metadata": {},
   "source": [
    "5) Besides $\\chi^2$, we could also think of other statistics.  One that we will use is the maximum absolute residual with respect to the best-fit model prediction\n",
    "\n",
    "${\\rm max}_i\\left| \\frac{\\mu_i - \\mu_{model}(\\hat{\\theta},z_i)}{\\sigma_i}  \\right|$\n",
    "\n",
    "We would expect that if the errors are not Gaussian in the sense that there are catastrophic outliers this value would be higher than expected.\n",
    "\n",
    "Find the maximum absolute residual for the data set and store it in `max_res_observed`."
   ]
  },
  {
   "cell_type": "code",
   "execution_count": null,
   "metadata": {},
   "outputs": [],
   "source": [
    ".\n",
    ".\n",
    ".\n",
    "print(\"maximum absolute residual for data = \",max_res_observed)"
   ]
  },
  {
   "cell_type": "markdown",
   "metadata": {},
   "source": [
    "6) Now we have all tools to create a sample drawn from the distribution\n",
    "\n",
    "$ p(T) = \\int d\\theta ~p(\\theta | D ) p(T | \\theta) = \\int d\\theta ~p(\\theta | D ) \\int_{V(T)}dx~ p(x | \\theta) $\n",
    "\n",
    "where $T$ is a statistic and $V(T)$ is the volume in data-space where $T(x)=T$.  For $T$ we will choose the minimum $\\chi^2$ and the maximum absolute residual.  Fill in the missing lines and store the values of these statistics for each iteration.  Make at least 1000 simulated data sets."
   ]
  },
  {
   "cell_type": "code",
   "execution_count": null,
   "metadata": {},
   "outputs": [],
   "source": [
    "\n",
    "from numpy.random import randint\n",
    "from scipy.optimize import minimize\n",
    "\n",
    "\n",
    "chi2array = []\n",
    "max_res = []\n",
    "\n",
    "nmcmc = len(mcmc_chain)\n",
    "for i in range(1,1000) :\n",
    "    # take random set of parameters from the Markov Chain \n",
    "    ________________\n",
    "    # generate a new random data set from the model and this set of parameters \n",
    "    ________________\n",
    "    # find the maximum likelihood parameters for the new dataset\n",
    "    ________________\n",
    "    \n",
    "    chi2array.append(_______)\n",
    "    \n",
    "    max_res.append(_______)\n"
   ]
  },
  {
   "cell_type": "markdown",
   "metadata": {},
   "source": [
    "7) Make a histogram of the maximum absolute residuals (MAR).  Then make a plot of the cumulative distribution of them.  Mark on this last plot the observed MAR with a vertical line."
   ]
  },
  {
   "cell_type": "code",
   "execution_count": null,
   "metadata": {},
   "outputs": [],
   "source": []
  },
  {
   "cell_type": "markdown",
   "metadata": {},
   "source": [
    "8) Make a histogram of the minimum $\\chi^2$s. Then make a plot of the cumulative distribution of them. Mark on this last plot the observed minimum $\\chi^2$ with a vertical line."
   ]
  },
  {
   "cell_type": "code",
   "execution_count": null,
   "metadata": {},
   "outputs": [],
   "source": []
  },
  {
   "cell_type": "markdown",
   "metadata": {},
   "source": [
    "9) Calculate the right-hand, one sided p-values for the MAR and the minimum $\\chi^2$.  Is this model for cosmology and errors consistent with the data in terms of these two statistics? "
   ]
  },
  {
   "cell_type": "code",
   "execution_count": null,
   "metadata": {},
   "outputs": [],
   "source": [
    "\n"
   ]
  }
 ],
 "metadata": {
  "kernelspec": {
   "display_name": "Python 3",
   "language": "python",
   "name": "python3"
  },
  "language_info": {
   "codemirror_mode": {
    "name": "ipython",
    "version": 3
   },
   "file_extension": ".py",
   "mimetype": "text/x-python",
   "name": "python",
   "nbconvert_exporter": "python",
   "pygments_lexer": "ipython3",
   "version": "3.7.4"
  }
 },
 "nbformat": 4,
 "nbformat_minor": 2
}
