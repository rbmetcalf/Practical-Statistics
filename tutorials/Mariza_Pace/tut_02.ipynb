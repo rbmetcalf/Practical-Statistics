{
 "cells": [
  {
   "cell_type": "code",
   "execution_count": 17,
   "metadata": {},
   "outputs": [
    {
     "name": "stdout",
     "output_type": "stream",
     "text": [
      "chance of winning:  0.3322 0.333333333333\n"
     ]
    }
   ],
   "source": [
    "# simulate the Monty-Hall Problem using numpy random function!!\n",
    "from numpy import random\n",
    "\n",
    "\n",
    "num_doors = 3\n",
    "trials = 10000\n",
    "switch = False\n",
    "winner = 0\n",
    "\n",
    "for i in range(trials):\n",
    "    winner_door = random.randint(0, num_doors)#; print 'Priz: ', winner_door\n",
    "\n",
    "    closed_doors = range(num_doors)\n",
    "\n",
    "    choice = random.choice(closed_doors)#; print 'choice', choice\n",
    "\n",
    "\n",
    "\n",
    "    while len(closed_doors) > 2:\n",
    "    \n",
    "        remove_door = random.randint(0, num_doors)\n",
    "    \n",
    "        if remove_door == winner_door or remove_door == choice:\n",
    "            continue\n",
    "\n",
    "        #print('Door opened'), remove_door \n",
    "        closed_doors.remove(remove_door)\n",
    "        available_doors = closed_doors\n",
    "\n",
    "    if switch:\n",
    "        available_doors.remove(choice)\n",
    "        choice = available_doors.pop()\n",
    "        #print (available_doors)\n",
    "\n",
    "    won = (choice == winner_door)\n",
    "    \n",
    "    if won:\n",
    "        winner += 1\n",
    "    \n",
    "print 'chance of winning: ', float(winner)/float(trials), 1./3.\n"
   ]
  },
  {
   "cell_type": "code",
   "execution_count": 4,
   "metadata": {},
   "outputs": [
    {
     "data": {
      "text/plain": [
       "[1, 2]"
      ]
     },
     "execution_count": 4,
     "metadata": {},
     "output_type": "execute_result"
    }
   ],
   "source": [
    "\n",
    "a = [1,2,3,4]\n",
    "a.pop()\n",
    "a\n",
    "a.pop()\n",
    "a"
   ]
  },
  {
   "cell_type": "code",
   "execution_count": null,
   "metadata": {},
   "outputs": [],
   "source": []
  },
  {
   "cell_type": "code",
   "execution_count": null,
   "metadata": {},
   "outputs": [],
   "source": []
  },
  {
   "cell_type": "code",
   "execution_count": null,
   "metadata": {},
   "outputs": [],
   "source": []
  },
  {
   "cell_type": "code",
   "execution_count": null,
   "metadata": {},
   "outputs": [],
   "source": []
  }
 ],
 "metadata": {
  "kernelspec": {
   "display_name": "Python 2",
   "language": "python",
   "name": "python2"
  },
  "language_info": {
   "codemirror_mode": {
    "name": "ipython",
    "version": 2
   },
   "file_extension": ".py",
   "mimetype": "text/x-python",
   "name": "python",
   "nbconvert_exporter": "python",
   "pygments_lexer": "ipython2",
   "version": "2.7.14"
  }
 },
 "nbformat": 4,
 "nbformat_minor": 2
}
