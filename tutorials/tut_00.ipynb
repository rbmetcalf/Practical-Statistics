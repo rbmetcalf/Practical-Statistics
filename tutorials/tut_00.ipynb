{
 "cells": [
  {
   "cell_type": "code",
   "execution_count": 7,
   "metadata": {},
   "outputs": [],
   "source": [
    "#Tutorial number 0:-\n",
    "\n",
    "#import packadge numpy\n",
    "\n",
    "#print the PI and assign it to string variable PI_str\n",
    "\n",
    "#create a list called PI_digits of the first 10 decimal digits of PI using string methods.\n",
    "\n",
    "#print the shape, type and  elements number (0, 3, 7) of the array PI_digits\n",
    "\n",
    "#append to PI_digits the 11th digit \n",
    "\n",
    "#print the mean and the median of PI_digits \n",
    "\n"
   ]
  },
  {
   "cell_type": "code",
   "execution_count": null,
   "metadata": {},
   "outputs": [],
   "source": []
  }
 ],
 "metadata": {
  "kernelspec": {
   "display_name": "Python 2",
   "language": "python",
   "name": "python2"
  },
  "language_info": {
   "codemirror_mode": {
    "name": "ipython",
    "version": 2
   },
   "file_extension": ".py",
   "mimetype": "text/x-python",
   "name": "python",
   "nbconvert_exporter": "python",
   "pygments_lexer": "ipython2",
   "version": "2.7.15"
  }
 },
 "nbformat": 4,
 "nbformat_minor": 2
}
