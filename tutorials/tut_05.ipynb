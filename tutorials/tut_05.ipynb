{
 "cells": [
  {
   "cell_type": "markdown",
   "metadata": {},
   "source": [
    "**Tutorial 4 - Calculating Significance by Monte Carlo**\n",
    "\n",
    "In this tutorial you will measure the strength and width of a spectral line \n",
    "using a Bayesian method.\n",
    "\n"
   ]
  },
  {
   "cell_type": "markdown",
   "metadata": {},
   "source": [
    "\n",
    "1) Read in the data from the file tut_05_data.csv.  There are three \n",
    "columns: wavelength, flux and sigma.  Sigma is the known standard deviation \n",
    "of the flux in each pixel.  Plot the spectrum using natplot.errorbar()\n"
   ]
  },
  {
   "cell_type": "code",
   "execution_count": 5,
   "metadata": {},
   "outputs": [
    {
     "data": {
      "image/png": "[encoded data removed]",
      "text/plain": [
       "<matplotlib.figure.Figure at 0x10d6a5c90>"
      ]
     },
     "metadata": {},
     "output_type": "display_data"
    }
   ],
   "source": [
    "import numpy as np\n",
    "import matplotlib.pyplot as plt\n",
    "import pandas as pa\n",
    "\n",
    "df = pa.read_csv('tut_05_data.csv')\n",
    "plt.errorbar(df['wavelength'],df['flux'], yerr=df['sigma'],fmt='o')\n",
    "plt.xlabel(r'$\\lambda$')\n",
    "plt.ylabel('flux')\n",
    "plt.show()"
   ]
  },
  {
   "cell_type": "markdown",
   "metadata": {},
   "source": [
    "2) First we need to subtract off the continum. We know that there is a line centered around $\\lambda \\simeq 23$.  Take the part of the spectrum with $\\lambda > 45$ which should just be background.  Assuming the noise is Gaussian and uncorrelated.   Using a uniform prior on the background.\n",
    "\n",
    "Make a function call \"loglikelihood()\" that takes a value for the background and returns the log of the likelihood.  You don't need to include terms that do not have the background in them.\n",
    "\n",
    "Make a vector of trial backgrounds.  Call this vector \"background\".  Guess what the range should be from the plot of the data.  Make an empty vector "
   ]
  },
  {
   "cell_type": "code",
   "execution_count": 36,
   "metadata": {},
   "outputs": [
    {
     "data": {
      "image/png": "[encoded data removed]",
      "text/plain": [
       "<matplotlib.figure.Figure at 0x150f118e10>"
      ]
     },
     "metadata": {},
     "output_type": "display_data"
    },
    {
     "name": "stdout",
     "output_type": "stream",
     "text": [
      "Posterior at edges of parameter space:  6.21223087644e-09 2.72037026407e-14\n",
      "Optimization terminated successfully.\n",
      "         Current function value: 23.801668\n",
      "         Iterations: 12\n",
      "         Function evaluations: 24\n",
      "The maximum likelihood background is : [ 0.01075]\n",
      "The average of posterior  : 10.7352994902\n",
      "The variance of posterior  : 339.140907086\n"
     ]
    }
   ],
   "source": [
    "\n",
    "import scipy.optimize as opt\n",
    "\n",
    "## filter out the background dominated region of the spectrum\n",
    "f = df['flux'][ df['wavelength'] > 45 ]\n",
    "l = df['wavelength'][ df['wavelength'] > 45 ]\n",
    "s = df['sigma'][ df['wavelength'] > 45 ]\n",
    "\n",
    "#plt.plot(l,f)\n",
    "#plt.show()\n",
    "\n",
    "## make a log-likelihood function assuming the noise Gaussian and \n",
    "## the pixels are independent\n",
    "def loglike(a):\n",
    "    return -0.5*np.sum( ( (f - a)/s )**2  )   ## this is chi^2\n",
    "\n",
    "## Make an array of possible background values.\n",
    "## To find the right range it is sometimes useful to \n",
    "## plot the log-likelihood over different ranges until \n",
    "## you find the maximum.\n",
    "db = 0.001 ## resolution in background\n",
    "background = np.arange(-0.1,0.15,db)\n",
    "\n",
    "## calculate the likelihood at each of these background values\n",
    "likelihood = np.empty(len(background))\n",
    "for i,b in enumerate(background) :\n",
    "    likelihood[i] = np.exp( loglike(b) )\n",
    "\n",
    "## normalize to get the posterior\n",
    "## You should look at the plot and make sure that\n",
    "## the sum is a good approximation of the integral.\n",
    "posterior = likelihood/np.sum(likelihood)/db\n",
    "    \n",
    "## plot posterior for background\n",
    "plt.plot(background,posterior)\n",
    "plt.xlabel('background')\n",
    "plt.ylabel('probability')\n",
    "plt.title('posterior')\n",
    "\n",
    "plt.show()\n",
    "\n",
    "print 'Posterior at edges of parameter space: ',posterior[0],posterior[-1]\n",
    "\n",
    "## find maximum of posterior and the variance\n",
    "bmax = opt.fmin(lambda x: -loglike(x),0)\n",
    "print 'The maximum likelihood background is :',bmax\n",
    "bave = np.sum(posterior*background)\n",
    "variance = np.sum(posterior*(background-bave)**2)\n",
    "print 'The average of posterior  :',bave\n",
    "print 'The variance of posterior  :',np.sqrt(variance)\n"
   ]
  },
  {
   "cell_type": "markdown",
   "metadata": {},
   "source": [
    "3) Now lets fit the line.  Assume the line has the profile\n",
    "\n",
    "$ f(\\lambda) = A \\exp\\left[- \\left( \\frac{(\\lambda - \\lambda_o)}{\\Delta\\lambda }\\right)^2 \\right] $\n",
    "\n",
    "We want to find the parameters $A$, $\\lambda_o$, $\\Delta\\lambda$ and the background.  \n",
    "\n",
    "Write a function for the line profile.  \n",
    "\n",
    "Write a function that returns the log-likelihood for the data with this model. \n",
    "\n",
    "Find the maximum likelihood values for the parameters using the whole data set.  Use the library function scipy.optimize.minimize() to do this.  Read the documentation for this function before starting.  You will need to make a guess to start the minimization.  Make these guesses from the plot of the data."
   ]
  },
  {
   "cell_type": "code",
   "execution_count": 40,
   "metadata": {},
   "outputs": [
    {
     "name": "stdout",
     "output_type": "stream",
     "text": [
      "      fun: 36.735535610787615\n",
      " hess_inv: array([[  6.51400491e-03,   1.63720691e-03,  -1.34438158e-02,\n",
      "         -1.27244424e-04],\n",
      "       [  1.63720691e-03,   5.53673919e-02,  -1.15935305e-02,\n",
      "          5.29276718e-05],\n",
      "       [ -1.34438158e-02,  -1.15935305e-02,   9.71212542e-02,\n",
      "         -6.94750245e-04],\n",
      "       [ -1.27244424e-04,   5.29276718e-05,  -6.94750245e-04,\n",
      "          1.66517386e-04]])\n",
      "      jac: array([  4.76837158e-07,  -4.76837158e-07,  -4.76837158e-07,\n",
      "        -1.43051147e-06])\n",
      "  message: 'Optimization terminated successfully.'\n",
      "     nfev: 270\n",
      "      nit: 29\n",
      "     njev: 45\n",
      "   status: 0\n",
      "  success: True\n",
      "        x: array([  7.92712413e-01,   2.27299215e+01,   2.80031086e+00,\n",
      "         1.59057238e-03])\n"
     ]
    }
   ],
   "source": [
    "f = df['flux']\n",
    "lam = df['wavelength']\n",
    "s = df['sigma']\n",
    "\n",
    "def line_profile(l,A,lo,dl):\n",
    "    return A*np.exp(-((l-lo)/dl)**2)\n",
    "#def loglike(A,lo,dl,b):\n",
    "def loglike(p):\n",
    "    return 0.5*np.sum( ( (f - p[3] - line_profile(lam,p[0],p[1],p[2]))/s )**2  )\n",
    "\n",
    "guess = np.array([0.8,20,1.0,0.01])\n",
    "maxlikelihood = opt.minimize(loglike,guess)\n",
    "print maxlikelihood"
   ]
  },
  {
   "cell_type": "markdown",
   "metadata": {},
   "source": [
    "4) Set all the parameters to their maximum likelihood values except the line strength $A$.  Make a plot of the posterior for $A$ near its maximum likelihood value with uniform and Jaffreys priors on $A$."
   ]
  },
  {
   "cell_type": "code",
   "execution_count": 54,
   "metadata": {},
   "outputs": [
    {
     "data": {
      "image/png": "[encoded data removed]",
      "text/plain": [
       "<matplotlib.figure.Figure at 0x10dc52ad0>"
      ]
     },
     "metadata": {},
     "output_type": "display_data"
    }
   ],
   "source": [
    "\n",
    "dA = maxlikelihood.x[0]/100.\n",
    "Aarray = np.arange(dA,2*maxlikelihood.x[0],dA)\n",
    "post = np.empty(len(Aarray))\n",
    "for i,A in enumerate(Aarray):\n",
    "    post[i] = np.exp(-loglike(np.array([A,maxlikelihood.x[1],maxlikelihood.x[2],maxlikelihood.x[3] ]))\n",
    "                    )\n",
    "post = post/np.sum(post)/dA\n",
    "plt.plot(Aarray,post,label='uniform prior')\n",
    "\n",
    "for i,A in enumerate(Aarray):\n",
    "    post[i] = np.exp(-loglike(np.array([A,maxlikelihood.x[1],maxlikelihood.x[2]\n",
    "                                        ,maxlikelihood.x[3] ])))/A\n",
    "post = post/np.sum(post)/dA\n",
    "plt.plot(Aarray,post,label='Jeffreys prior')\n",
    "\n",
    "plt.legend()\n",
    "plt.xlabel('A')\n",
    "plt.xlim(0.4,1.2)\n",
    "plt.show()"
   ]
  },
  {
   "cell_type": "markdown",
   "metadata": {},
   "source": [
    "5) Make a 2D map of the posterior as a function of $A$ and $\\Delta \\lambda$ at the maximum likelihood values of the other parameters.  Do this by making a grid of $A$ and $\\Delta \\lambda$ values and using matplotlib.pyplot.contour()."
   ]
  },
  {
   "cell_type": "code",
   "execution_count": 55,
   "metadata": {
    "collapsed": true
   },
   "outputs": [],
   "source": [
    "#####"
   ]
  },
  {
   "cell_type": "markdown",
   "metadata": {},
   "source": [
    "6) Write a function that takes values for $A$ and $\\Delta \\lambda$ and returns the \n",
    "posterior marginalizes over $\\lambda_o$.  Use scipy.integrate.quad() to do the \n",
    "integration.  Use the maximum likelihood value for the background from part 2)."
   ]
  },
  {
   "cell_type": "code",
   "execution_count": 57,
   "metadata": {
    "collapsed": true
   },
   "outputs": [],
   "source": [
    "#####"
   ]
  },
  {
   "cell_type": "markdown",
   "metadata": {},
   "source": [
    "7) Do the same as 6) but for $A$ and $\\lambda_o$ and marginalized over $\\Delta\\lambda$."
   ]
  },
  {
   "cell_type": "code",
   "execution_count": 59,
   "metadata": {
    "collapsed": true
   },
   "outputs": [],
   "source": [
    "#####"
   ]
  },
  {
   "cell_type": "markdown",
   "metadata": {},
   "source": [
    "8) Do the same as 6) but for $\\Delta\\lambda$ and $\\lambda_o$ and marginalized over $A$."
   ]
  },
  {
   "cell_type": "code",
   "execution_count": null,
   "metadata": {
    "collapsed": true
   },
   "outputs": [],
   "source": [
    "#####"
   ]
  }
 ],
 "metadata": {
  "kernelspec": {
   "display_name": "Python 2",
   "language": "python",
   "name": "python2"
  },
  "language_info": {
   "codemirror_mode": {
    "name": "ipython",
    "version": 2
   },
   "file_extension": ".py",
   "mimetype": "text/x-python",
   "name": "python",
   "nbconvert_exporter": "python",
   "pygments_lexer": "ipython2",
   "version": "2.7.14"
  }
 },
 "nbformat": 4,
 "nbformat_minor": 2
}
