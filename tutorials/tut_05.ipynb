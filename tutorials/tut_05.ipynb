{
 "cells": [
  {
   "cell_type": "markdown",
   "metadata": {},
   "source": [
    "**Tutorial 5 - Measuring a Spectral Line by Bayesian Parameter Estimation**\n",
    "\n",
    "In this tutorial you will measure the strength and width of a spectral line \n",
    "using a Bayesian method.\n",
    "\n",
    "\n",
    "1) Read in the data from the file tut_05_data.csv.  There are three \n",
    "columns: wavelength, flux and sigma.  Sigma is the known standard deviation \n",
    "of the flux in each pixel.  Plot the spectrum using matplotlib.pyplot.errorbar()."
   ]
  },
  {
   "cell_type": "code",
   "execution_count": 3,
   "metadata": {},
   "outputs": [
    {
     "data": {
      "image/png": "[encoded data removed]",
      "text/plain": [
       "<matplotlib.figure.Figure at 0x107c06e90>"
      ]
     },
     "metadata": {},
     "output_type": "display_data"
    }
   ],
   "source": [
    "import numpy as np\n",
    "import matplotlib.pyplot as plt\n",
    "import pandas as pa\n",
    "\n",
    "df = pa.read_csv('tut_05_data.csv')\n",
    "plt.errorbar(df['wavelength'],df['flux'], yerr=df['sigma'],fmt='o')\n",
    "plt.xlabel(r'$\\lambda$')\n",
    "plt.ylabel('flux')\n",
    "plt.show()"
   ]
  },
  {
   "cell_type": "markdown",
   "metadata": {},
   "source": [
    "2) First we need to subtract off the continuum. We know that there is a line centered around $\\lambda \\simeq 23$.  Take the part of the spectrum with $\\lambda > 45$ which should just be background.  Assuming the noise is Gaussian and uncorrelated.   Using a uniform prior on the background."
   ]
  },
  {
   "cell_type": "code",
   "execution_count": 4,
   "metadata": {},
   "outputs": [
    {
     "data": {
      "image/png": "[encoded data removed]",
      "text/plain": [
       "<matplotlib.figure.Figure at 0x108b00810>"
      ]
     },
     "metadata": {},
     "output_type": "display_data"
    },
    {
     "name": "stdout",
     "output_type": "stream",
     "text": [
      "Posterior at edges of parameter space:  5.14587371878e-18 2.52702008593e-06\n",
      "Optimization terminated successfully.\n",
      "         Current function value: 22.314737\n",
      "         Iterations: 16\n",
      "         Function evaluations: 32\n",
      "The maximum likelihood background is : [ 0.0545]\n",
      "The average of posterior  : 0.0545310867814\n",
      "The variance of posterior  : 0.0166666649877\n"
     ]
    }
   ],
   "source": [
    "\n",
    "import scipy.optimize as opt\n",
    "\n",
    "## filter out the background dominated region of the spectrum\n",
    "f = df['flux'][ df['wavelength'] > 45 ]\n",
    "l = df['wavelength'][ df['wavelength'] > 45 ]\n",
    "s = df['sigma'][ df['wavelength'] > 45 ]\n",
    "\n",
    "#plt.plot(l,f)\n",
    "#plt.show()\n",
    "\n",
    "## make a log-likelihood function assuming the noise Gaussian and \n",
    "## the pixels are independent\n",
    "def loglike(b):\n",
    "    return -0.5*np.sum( ( (f - b)/s )**2  )   ## this is chi^2\n",
    "\n",
    "## Make an array of possible background values.\n",
    "## To find the right range it is sometimes useful to \n",
    "## plot the log-likelihood over different ranges until \n",
    "## you find the maximum.\n",
    "db = 0.001 ## resolution in background\n",
    "background = np.arange(-0.1,0.15,db)\n",
    "\n",
    "## calculate the likelihood at each of these background values\n",
    "likelihood = np.empty(len(background))\n",
    "for i,b in enumerate(background) :\n",
    "    likelihood[i] = np.exp( loglike(b) )\n",
    "\n",
    "## normalize to get the posterior\n",
    "## You should look at the plot and make sure that\n",
    "## the sum is a good approximation of the integral.\n",
    "posterior = likelihood/np.sum(likelihood)/db\n",
    "    \n",
    "## plot posterior for background\n",
    "plt.plot(background,posterior)\n",
    "plt.xlabel('background')\n",
    "plt.ylabel('probability')\n",
    "plt.title('posterior')\n",
    "\n",
    "plt.show()\n",
    "\n",
    "print 'Posterior at edges of parameter space: ',posterior[0],posterior[-1]\n",
    "\n",
    "## find maximum of posterior and the variance\n",
    "bmax = opt.fmin(lambda x: -loglike(x),0)\n",
    "print 'The maximum likelihood background is :',bmax\n",
    "bave = np.sum(posterior*background)*db\n",
    "variance = np.sum(posterior*(background-bave)**2)*db\n",
    "print 'The average of posterior  :',bave\n",
    "print 'The variance of posterior  :',np.sqrt(variance)\n"
   ]
  },
  {
   "cell_type": "markdown",
   "metadata": {},
   "source": [
    "3) Now lets fit the line.  Assume the line has the profile\n",
    "\n",
    "$ f(\\lambda) = A \\exp\\left[- \\left( \\frac{(\\lambda - \\lambda_o)}{\\Delta\\lambda }\\right)^2 \\right] $\n",
    "\n",
    "We want to find the parameters $A$, $\\lambda_o$, $\\Delta\\lambda$ and the background.  \n",
    "\n",
    "Write a function for the line profile.  \n",
    "\n",
    "Write a function that returns the log-likelihood for the data with this model. \n",
    "\n",
    "Find the maximum likelihood values for the parameters using the whole data set.  Use the library function scipy.optimize.minimize() to do this.  Read the documentation for this function before starting.  You will need to make a guess to start the minimization.  Make these guesses from the plot of the data.\n",
    "\n",
    "Draw the best fit model over the data."
   ]
  },
  {
   "cell_type": "code",
   "execution_count": 2,
   "metadata": {},
   "outputs": [],
   "source": [
    "#def loglike(A,lo,dl,b):"
   ]
  },
  {
   "cell_type": "markdown",
   "metadata": {},
   "source": [
    "4) Set all the parameters to their maximum likelihood values except the line strength $A$.  Make a plot of the posterior for $A$ near its maximum likelihood value with uniform and Jaffreys priors on $A$."
   ]
  },
  {
   "cell_type": "code",
   "execution_count": null,
   "metadata": {},
   "outputs": [],
   "source": []
  },
  {
   "cell_type": "markdown",
   "metadata": {},
   "source": [
    "5) Make a 2D map of the posterior as a function of $A$ and $\\Delta \\lambda$ at the maximum likelihood values of the other parameters.  Do this by making a grid of $A$ and $\\Delta \\lambda$ values and using matplotlib.pyplot.contour().  Put the proper labels on the axes."
   ]
  },
  {
   "cell_type": "code",
   "execution_count": 3,
   "metadata": {},
   "outputs": [],
   "source": [
    "#####"
   ]
  },
  {
   "cell_type": "markdown",
   "metadata": {},
   "source": [
    "6) Write a function that takes values for $A$ and $\\Delta \\lambda$ and returns the \n",
    "posterior marginalizes over $\\lambda_o$.  Use scipy.integrate.quad() to do the \n",
    "integration.  You will need to make a new \"posterior\" function with the correct \n",
    "order of input parameters to use this function.  Use the maximum likelihood value for the background from part 2).  You might want to reduce the resolution of the grid to reduce the run time."
   ]
  },
  {
   "cell_type": "code",
   "execution_count": 4,
   "metadata": {},
   "outputs": [],
   "source": [
    "#####"
   ]
  },
  {
   "cell_type": "markdown",
   "metadata": {},
   "source": [
    "7) Sum the 2D array from 6) to find the 1D marginalized posteriors for both \n",
    "$\\Delta\\lambda$ and $A$."
   ]
  },
  {
   "cell_type": "code",
   "execution_count": null,
   "metadata": {
    "collapsed": true
   },
   "outputs": [],
   "source": [
    "#####"
   ]
  },
  {
   "cell_type": "markdown",
   "metadata": {},
   "source": [
    "8) Do the same as 6) and 7) but for $A$ and $\\lambda_o$ and marginalized over $\\Delta\\lambda$."
   ]
  },
  {
   "cell_type": "code",
   "execution_count": 59,
   "metadata": {
    "collapsed": true
   },
   "outputs": [],
   "source": [
    "#####"
   ]
  },
  {
   "cell_type": "markdown",
   "metadata": {},
   "source": [
    "9) Do the same as 6) and 7) but for $\\Delta\\lambda$ and $\\lambda_o$ and marginalized over $A$."
   ]
  },
  {
   "cell_type": "code",
   "execution_count": 84,
   "metadata": {
    "collapsed": true
   },
   "outputs": [],
   "source": [
    "#####"
   ]
  },
  {
   "cell_type": "markdown",
   "metadata": {},
   "source": [
    "10) Give the maximum likelihood estimate of each of the three parameters and \n",
    "their marginalized standard deviation. "
   ]
  },
  {
   "cell_type": "code",
   "execution_count": null,
   "metadata": {},
   "outputs": [],
   "source": []
  }
 ],
 "metadata": {
  "kernelspec": {
   "display_name": "Python 2",
   "language": "python",
   "name": "python2"
  },
  "language_info": {
   "codemirror_mode": {
    "name": "ipython",
    "version": 2
   },
   "file_extension": ".py",
   "mimetype": "text/x-python",
   "name": "python",
   "nbconvert_exporter": "python",
   "pygments_lexer": "ipython2",
   "version": "2.7.13"
  }
 },
 "nbformat": 4,
 "nbformat_minor": 2
}
