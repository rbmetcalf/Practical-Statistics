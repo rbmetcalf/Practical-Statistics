{
 "cells": [
  {
   "cell_type": "markdown",
   "metadata": {},
   "source": [
    "**Tutorial 5 - Linear Regession on Galaxy Spectra with Templates**\n",
    "\n",
    "(Thanks to Adam Amara for letting me borrow much of the material for this one.)\n",
    "\n",
    "In this tutorial we will learn how to read data from a fits file, fit a spectrum to a series of templates and determine the spectrographic redshift of a galaxy.\n",
    "\n",
    "When assigning redshifts to galaxies with a full observed spectrum, one typically fits model spectra for the rest-frame galaxy spectrum to the observed one while accounting for the redshift of the wavelengths. In this challenge, we first want to try to fit a local spectrum with templates using a linear regression and least-squares before trying to estimate the redshift of a redshifted spectrum."
   ]
  },
  {
   "cell_type": "markdown",
   "metadata": {},
   "source": [
    "1) Extract templates spectra from the fits file k_nmf_derived.newdefault.fits.  Use astropy.io.fits.open() for this.  The function returns a hdul object.  You can look at the contents with hdul.info().  The templates we want are in the second table - templates[1].data - and the corresponding wavelengths are in the templates[11].data.  The other tables contain templates with and without smoothing, dust, lines, etc.  You can look at them if you wish. Print the header information for the for the second table."
   ]
  },
  {
   "cell_type": "code",
   "execution_count": 56,
   "metadata": {},
   "outputs": [],
   "source": [
    "from astropy.io import fits\n",
    "\n"
   ]
  },
  {
   "cell_type": "markdown",
   "metadata": {},
   "source": [
    "2) Plot the template spectra with proper axis labels and scaling to make it clear."
   ]
  },
  {
   "cell_type": "code",
   "execution_count": null,
   "metadata": {},
   "outputs": [],
   "source": [
    "\n"
   ]
  },
  {
   "cell_type": "markdown",
   "metadata": {},
   "source": [
    "Fitting templates to a spectrum:\n",
    "\n",
    "The linear model for the spectrum is of the form\n",
    "\\begin{equation}\n",
    "f_\\lambda = \\sum_i T_\\lambda^i \\theta^i\n",
    "\\end{equation}\n",
    "where the $i$th template is $T_\\lambda$.  This can be written in matrix notation as\n",
    "\\begin{equation}\n",
    "\\pmb{f} = \\pmb{M}\\pmb{\\theta}\n",
    "\\end{equation}\n",
    "\n",
    "\n",
    "In the next steps we will formulate and solve the least squares problem of finding the best fit amplitudes of the templates from part 1 when fitting them to the data of a local (i.e. redshift zero) spectrum in `localspectrum.txt`. Implement your own linear least squares solver and compare it to `numpy`'s implementation. Which one fits the data better?"
   ]
  },
  {
   "cell_type": "markdown",
   "metadata": {},
   "source": [
    "3) Load a spectrum from file localspectrum.txt (np.loadtxt()) and plot it."
   ]
  },
  {
   "cell_type": "code",
   "execution_count": null,
   "metadata": {},
   "outputs": [],
   "source": []
  },
  {
   "cell_type": "markdown",
   "metadata": {},
   "source": [
    "**Find the least-squares solution for the template coefficients.**\n",
    "\n",
    "4) Make a function that returns the pseudo-inverse of the $\\pmb{M}$ matrix given in the lecture notes,\n",
    "\\begin{equation}\n",
    "\\pmb{M}^+ = \\left( \\pmb{M}^{T} \\pmb{M} \\right)^{-1} \\pmb{M}^T\n",
    "\\end{equation}\n",
    "(you will need functions np.dot(), np.linalg.inv() and remember that the transpose of a matrix M is M.T.  You should be inverting a small matrix.  If you are inverting a large matrix you have not taken the transposes properly.)\n",
    "\n",
    "Use this pseudo-inverse to find the least-squared solution and print is out.  Which template galaxy is this closest to?"
   ]
  },
  {
   "cell_type": "code",
   "execution_count": null,
   "metadata": {},
   "outputs": [],
   "source": []
  },
  {
   "cell_type": "markdown",
   "metadata": {},
   "source": [
    "5) The least-squared problem can also be solved using the function  numpy.linalg.lstsq().  Use this function to solve the problem and show that it agrees with your solution above.  "
   ]
  },
  {
   "cell_type": "code",
   "execution_count": null,
   "metadata": {},
   "outputs": [],
   "source": []
  },
  {
   "cell_type": "markdown",
   "metadata": {},
   "source": [
    "6) Plot the data again and the model spectrum on top."
   ]
  },
  {
   "cell_type": "code",
   "execution_count": null,
   "metadata": {},
   "outputs": [],
   "source": []
  },
  {
   "cell_type": "markdown",
   "metadata": {},
   "source": [
    "7) Plot the fractional residuals, (model-data)/model."
   ]
  },
  {
   "cell_type": "code",
   "execution_count": null,
   "metadata": {},
   "outputs": [],
   "source": []
  },
  {
   "cell_type": "markdown",
   "metadata": {},
   "source": [
    "**Fitting for the redshift**"
   ]
  },
  {
   "cell_type": "markdown",
   "metadata": {},
   "source": [
    "8) Upload the data `redshiftedspectrum.txt`.  It contains a redshifted spectrum. "
   ]
  },
  {
   "cell_type": "code",
   "execution_count": null,
   "metadata": {},
   "outputs": [],
   "source": []
  },
  {
   "cell_type": "markdown",
   "metadata": {},
   "source": [
    "9) Fitting both redshift and template amplitudes is no longer a linear problem. The observed wavelength $\\lambda_o$ is related to the restframe wavelength $\\lambda$ by\n",
    "\\begin{equation}\n",
    "\\lambda = \\frac{\\lambda_o }{ (1+z)}\n",
    "\\end{equation}\n",
    "\n",
    "Implement the following steps:\n",
    "\n",
    "Make an array of 1000 redshifts evenly spaced between 0 to 1.\n",
    "\n",
    "Loop through the redshifts\n",
    "\n",
    "    find restframe wavelengths of the observed wavelengths\n",
    "\n",
    "    find which wavelengths fall within the range of the template\n",
    "    inds = np.where(lambda < lambda_rest[-1])\n",
    " \n",
    "    use the numpy.interp() function to interpolate \n",
    "       the observed spectrum to the resframe wavelengths of \n",
    "       the templates.\n",
    "        yinterp = np.interp(lambda[inds], lambda_rest, data)\n",
    "    \n",
    "    use np.linalg.lstsq() to find the coefficients\n",
    "       (make sure you only use observed wavelengths)\n",
    "   \n",
    "    save the residual for each redshift\n",
    "    \n",
    "Plot the residuals as a function of redshift.\n",
    "What is the best redshift? (np.argmin())"
   ]
  },
  {
   "cell_type": "code",
   "execution_count": null,
   "metadata": {},
   "outputs": [],
   "source": []
  },
  {
   "cell_type": "markdown",
   "metadata": {},
   "source": [
    "10) Convert what was in the loop above into a function that takes the redshift and returns the sum of squares.  Use this function scipy.optimize.minimize and an initial geuss based on the results of 9) to find the best fit redshift."
   ]
  },
  {
   "cell_type": "code",
   "execution_count": null,
   "metadata": {},
   "outputs": [],
   "source": []
  },
  {
   "cell_type": "markdown",
   "metadata": {},
   "source": [
    "11) Plot the model spectrum and data with respect to observed wavelength."
   ]
  },
  {
   "cell_type": "code",
   "execution_count": null,
   "metadata": {},
   "outputs": [],
   "source": []
  }
 ],
 "metadata": {
  "kernelspec": {
   "display_name": "Python 3",
   "language": "python",
   "name": "python3"
  },
  "language_info": {
   "codemirror_mode": {
    "name": "ipython",
    "version": 3
   },
   "file_extension": ".py",
   "mimetype": "text/x-python",
   "name": "python",
   "nbconvert_exporter": "python",
   "pygments_lexer": "ipython3",
   "version": "3.7.4"
  }
 },
 "nbformat": 4,
 "nbformat_minor": 1
}
