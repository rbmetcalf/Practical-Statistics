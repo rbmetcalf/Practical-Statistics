{
 "cells": [
  {
   "cell_type": "code",
   "execution_count": null,
   "metadata": {},
   "outputs": [],
   "source": [
    "#Tutorial # 03\n",
    "\n",
    "## Verify the central limit theorem numerically by :\n",
    "\n",
    "# 1) Create 1000 uniform random numbers between -1 and 1 using numpy.rand\n",
    "\n",
    "       # make histogram of numbers\n",
    "\n",
    "# 2) Make 1000 sums of 3 uniform random numbers between -1 and 1\n",
    "\n",
    "       # make histogram of numbers\n",
    "\n",
    "       # draw normal distribution with the same variance over histogram\n",
    "\n",
    "# 3) Make 1000 sums of 10 uniform random numbers between -1 and 1\n",
    "\n",
    "       # make histogram of numbers\n",
    "\n",
    "       # draw normal distribution with the same variance over histogram\n",
    "\n",
    "# 4) Do 1 through 3 for a lognormal distribution instead of uniform\n"
   ]
  }
 ],
 "metadata": {
  "kernelspec": {
   "display_name": "Python 2",
   "language": "python",
   "name": "python2"
  },
  "language_info": {
   "codemirror_mode": {
    "name": "ipython",
    "version": 2
   },
   "file_extension": ".py",
   "mimetype": "text/x-python",
   "name": "python",
   "nbconvert_exporter": "python",
   "pygments_lexer": "ipython2",
   "version": "2.7.13"
  }
 },
 "nbformat": 4,
 "nbformat_minor": 2
}
