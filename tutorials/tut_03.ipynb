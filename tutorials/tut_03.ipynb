{
 "cells": [
  {
   "cell_type": "markdown",
   "metadata": {},
   "source": [
    "# Tutorial  \\# 3 Monte Carlo-ing or Parametric Bootstrap-ing statistics #\n",
    "\n",
    "\n",
    "\n",
    "We saw in lecture that the sample mean of a sample drawn from a normal distribution is normally distributed with a variance of $\\sigma^2/n$.  For other statistics and other distributions it is not usually possible to analytically derive the distribution of the statistic.  When analytic methods fail one can resort to simulation samples and finding the distribution of the statistic my Monte Carlo.  This is also called parametric bootstrap. The idea is to estimate the expectation value of some statistic as $f(\\{x\\})$ with\n",
    "\\begin{align}\n",
    "E[f] \\simeq E_{\\rm boot}[f] \\equiv \\frac{1}{N_{\\rm boot}} \\sum_i^{N_{\\rm boot} } f\\left( \\{ x  \\}_i  \\right)\n",
    "\\end{align}\n",
    "where the $\\{ x \\}_i$ is the $i$th simulated data set.  This can be used to find the bias and variance of any statistic as long as you can generate random samples from the distribution.  Th variance will be\n",
    "\\begin{align}\n",
    "Var_{\\rm boot}[f] &= \\frac{1}{(N_{\\rm boot}-1) }  \\sum_i^{N_{\\rm boot} } \n",
    "\\left( ~ f\\left( \\{ x  \\}_i  \\right)  -  E_{\\rm boot}[f] ~ \\right)^2 \\\\\n",
    "&= \\frac{1}{(N_{\\rm boot}-1) }  \\sum_i^{N_{\\rm boot} } \n",
    "\\left[~  f\\left( \\{ x  \\}_i  \\right)  ~\\right]^2  - \\frac{N_{\\rm boot}}{(N_{\\rm boot}-1) }  E_{\\rm boot}[f]^2\n",
    "\\end{align}\n"
   ]
  },
  {
   "cell_type": "markdown",
   "metadata": {},
   "source": [
    "Gaussian case:\n",
    "First we will investigate the mean and median of a sample drawn from a Gaussian distribution.  In this case we have a library function that will generate deviates from a normal distribution."
   ]
  },
  {
   "cell_type": "code",
   "execution_count": 26,
   "metadata": {},
   "outputs": [
    {
     "name": "stdout",
     "output_type": "stream",
     "text": [
      "mean =  0.04775240440756492\n",
      "median =  -0.03687930587836928\n"
     ]
    }
   ],
   "source": [
    "# 1) Consider a data set of $n=10$  drawn from a $\\mathcal{N}(0,1)$ distribution.  \n",
    "# Create a random data set and find the mean and median of that data set.\n",
    "\n",
    "import numpy as np\n",
    "import matplotlib.pyplot as plt\n",
    "\n",
    "x = np.random.normal(0,1,100)\n",
    "\n",
    "print 'mean = ',np.mean(x)\n",
    "print 'median = ',np.median(x)\n"
   ]
  },
  {
   "cell_type": "code",
   "execution_count": 251,
   "metadata": {},
   "outputs": [
    {
     "name": "stdout",
     "output_type": "stream",
     "text": [
      "Var of means  0.10372091767169474\n",
      "Var of medians  0.14049490458652275\n",
      "0.1\n"
     ]
    }
   ],
   "source": [
    "#2) Find the bias and variance of the sample mean and median by simulating \n",
    "#  $N_{\\rm boot}=1,000$ data sets.\n",
    "\n",
    "Nboot = 1000\n",
    "Nsample = 10\n",
    "means = np.empty(Nboot)\n",
    "medians = np.empty(Nboot)\n",
    "for i in range(Nboot) :\n",
    "    \n",
    "    x = np.random.normal(0,1,Nsample)\n",
    "\n",
    "    means[i] = np.mean(x)\n",
    "    medians[i] = np.median(x)\n",
    "    \n",
    "print 'Var of means ',np.var(means)\n",
    "print 'Var of medians ',np.var(medians)\n",
    "\n",
    "\n",
    "# What is the prediction of theory for the variance of the maen?\n",
    "#. Does it agree with theory?\n",
    "\n",
    "print 1./Nsample\n",
    "\n",
    "#Is the variance of the median larger or smaller than the mean?\n",
    "#larger"
   ]
  },
  {
   "cell_type": "markdown",
   "metadata": {},
   "source": [
    "We are now going to look at a more realistic example where the bias and variance of the statistic, in this case an estimator, is not known analytically.  The Schechter luminosity function is used to model the distribution of galaxy luminosities.  It is given by\n",
    "\\begin{align}\n",
    "n(L) = \\phi_* \\left( \\frac{L}{L_*}\\right)^\\alpha e^{-L/L_*} \\frac{dL}{L_*}\n",
    "\\end{align}\n",
    "This has three parameters, $ \\phi_*$, $\\alpha$ and $L_*$.  We will be interested measuring the value of $L_*$ with a fixed value of $\\alpha = -1.25$.  The normalization $ \\phi_*$ will not be relevant.  An estimator for $L_*$ is \n",
    "\\begin{align}\n",
    "\\hat{L}_* = \\left(- \\frac{\\alpha}{(1+\\alpha) n}  \\sum_{i=1}^n L_i  \\right)\n",
    "\\end{align}\n",
    "where $L_i$ are the luminosities of each observed galaxy and $n$ is the number of galaxies in the data set.  We want to know if this estimator is biased and what its variance is.\n"
   ]
  },
  {
   "cell_type": "markdown",
   "metadata": {},
   "source": [
    "In this case we do not have a library function to get random deviates from this distribution so we will have to build one ourselves.\n",
    "\n",
    "3) Make a function that takes the luminosity $ x = L/L_*$ and returns the properly normalized pdf for galaxy luminosities.  Take the minimum luminosity to be $x_{min} = 0.1$.\n",
    "You will find the following integral useful\n",
    "\\begin{align}\n",
    "\\Gamma(\\alpha+1 ,x_{\\rm min},x_{\\rm max} ) =\\int^{x_{\\rm max}}_{x_{\\rm min}} dx ~x^\\alpha e^{-x}\n",
    "\\end{align}\n",
    "where $\\Gamma(\\alpha+1 ,x_{\\rm min},x_{\\rm max} ) $ is the incomplete gamma function.  This can be calculated using mpmath.gammainc(z,a,b) (the scipy version does not work for z < 0!)\n"
   ]
  },
  {
   "cell_type": "code",
   "execution_count": 260,
   "metadata": {},
   "outputs": [
    {
     "data": {
      "image/png": "[encoded data removed]",
      "text/plain": [
       "<Figure size 432x288 with 1 Axes>"
      ]
     },
     "metadata": {
      "needs_background": "light"
     },
     "output_type": "display_data"
    }
   ],
   "source": [
    "Lstar = 1.0e11\n",
    "alpha = -1.25\n",
    "#alpha = 1.01\n",
    "xmin = 0.03\n",
    "\n",
    "import mpmath\n",
    "\n",
    "# hint: use mpmath.gammainc(alpha + 1,a,b)\n",
    "\n",
    "def schechter(x) :\n",
    "    return x**(alpha)*np.exp(-x)/mpmath.gammainc(alpha+1,xmin)\n",
    "\n",
    "schechterV = np.vectorize(schechter)  ## vectorize the function so that it will take a vector\n",
    "\n",
    "# Make a plot of the pdf.  To make it look good you will probably need to \n",
    "# use plt.x(y)scale('log') to plot it in log scale. Label the axis.\n",
    "\n",
    "lnx = np.arange(-4,2,0.1) # evenly spaced in log\n",
    "x = np.exp(lnx)\n",
    "\n",
    "p = schechterV(x)*x\n",
    "L = x*Lstar\n",
    "\n",
    "plt.plot(L,p)\n",
    "plt.xscale('log')\n",
    "plt.yscale('log')\n",
    "plt.ylabel('p(L)')\n",
    "plt.xlabel('L')\n",
    "plt.title('Schechter function')\n",
    "plt.show()"
   ]
  },
  {
   "cell_type": "code",
   "execution_count": 261,
   "metadata": {},
   "outputs": [
    {
     "name": "stdout",
     "output_type": "stream",
     "text": [
      "0.0409954920965162\n"
     ]
    },
    {
     "data": {
      "image/png": "[encoded data removed]",
      "text/plain": [
       "<Figure size 432x288 with 1 Axes>"
      ]
     },
     "metadata": {
      "needs_background": "light"
     },
     "output_type": "display_data"
    }
   ],
   "source": [
    "#4) Make a function that returns the cumulative distribution for L/Lstar.  \n",
    "# Call it F. Plot it.\n",
    "\n",
    "\n",
    "def F(xx) :\n",
    "    if(xx < xmin) :\n",
    "        return 0.0\n",
    "    return mpmath.gammainc(1+alpha,xmin,xx)/mpmath.gammainc(1+alpha,xmin)\n",
    "\n",
    "FV = np.vectorize(F)\n",
    "\n",
    "print 1-F(1)\n",
    "## plot the cumulative distribution using the same vector x above.\n",
    "## It should go from 0 to 1. Put some labels on it.\n",
    "\n",
    "f = FV(x)\n",
    "plt.plot(x,f)\n",
    "\n",
    "plt.xscale('log')\n",
    "#plt.yscale('log')\n",
    "plt.xlabel(r'$L / L_*$')\n",
    "plt.ylabel(r'$F(L/L_*)$')\n",
    "plt.title('Cumulative Distribution for a Schechter function')\n",
    "\n",
    "plt.show()"
   ]
  },
  {
   "cell_type": "code",
   "execution_count": 262,
   "metadata": {},
   "outputs": [
    {
     "data": {
      "image/png": "[encoded data removed]",
      "text/plain": [
       "<Figure size 432x288 with 1 Axes>"
      ]
     },
     "metadata": {
      "needs_background": "light"
     },
     "output_type": "display_data"
    }
   ],
   "source": [
    "## Now we can invert the cumulative numerically using the interpolation function\n",
    "def quantile(u) :\n",
    "    return np.interp(u,f,np.log(x))\n",
    "\n",
    "## Now we can draw randomly from the schechter distribution by passing \n",
    "## uniform random numbers into the quantile function.\n",
    "## Here are 1000 luminosities takens from the distribution.\n",
    "u = np.random.uniform(0,1,1000)\n",
    "lnx = quantile(u)\n",
    "\n",
    "# We can varify this by making the imperical cumulative distribution \n",
    "# and comparing it to the cumulative distribution above.\n",
    "lnx = np.sort(lnx)\n",
    "y = np.arange(0.0,len(lnx),1)/len(lnx)\n",
    "\n",
    "plt.plot(np.exp(lnx),y)\n",
    "plt.xscale('log')\n",
    "\n",
    "\n",
    "plt.plot(x,f)\n",
    "plt.xscale('log')\n",
    "plt.xlabel(r'$L/L_*$')\n",
    "plt.ylabel(r'$F(L/L_*)$')\n",
    "\n",
    "plt.show()"
   ]
  },
  {
   "cell_type": "code",
   "execution_count": 263,
   "metadata": {},
   "outputs": [
    {
     "name": "stdout",
     "output_type": "stream",
     "text": [
      "means Lstar 1.1792326692823654\n",
      "bias 0.17923266928236536\n",
      "standard deviation Lstar  0.1286957421401132\n"
     ]
    }
   ],
   "source": [
    "# 5) Now that we have a way of generating random luminosities we can\n",
    "#   find the bias and variance of the estimator for L* given above.\n",
    "#   Do 10000 random data sets of 20 galaxies each and find the bias and \n",
    "#   variance.\n",
    "\n",
    "Nboot = 10000\n",
    "Nsample = 200\n",
    "\n",
    "#q = np.array([F(1.0)])\n",
    "#def estimator(xx) :\n",
    "#    y = np.sort(xx)\n",
    "#    return y[ int( (len(y)-1)*q +0.5)  ]\n",
    "\n",
    "Lstar_estimates = np.empty(Nboot)\n",
    "for i in range(Nboot) :\n",
    "    \n",
    "    u = np.random.uniform(0,1,Nsample)\n",
    "    lnx = quantile(u)\n",
    "    L = np.exp(lnx)\n",
    "    \n",
    "    Lstar_estimates[i] = ( alpha*np.mean(L)/(alpha + 1) )\n",
    "\n",
    "    #Lstar_estimates[i] = estimator(L)\n",
    "\n",
    "print 'means Lstar',np.mean(Lstar_estimates)\n",
    "print 'bias',np.mean(Lstar_estimates) - 1\n",
    "print 'standard deviation Lstar ',np.std(Lstar_estimates)\n"
   ]
  },
  {
   "cell_type": "code",
   "execution_count": null,
   "metadata": {},
   "outputs": [],
   "source": [
    "# 6) If you lower the minimum luminosity from 0.1 L_* to 0.05 L_* does the bias change ?\n",
    "\n",
    "\n"
   ]
  },
  {
   "cell_type": "code",
   "execution_count": 264,
   "metadata": {},
   "outputs": [
    {
     "data": {
      "image/png": "[encoded data removed]",
      "text/plain": [
       "<Figure size 432x288 with 1 Axes>"
      ]
     },
     "metadata": {
      "needs_background": "light"
     },
     "output_type": "display_data"
    }
   ],
   "source": [
    "# 7) If you increase the sample size with L_min = 0.1 L* does the bias get smaller?  \n",
    "# Make a plot of the bias as a function of the smaple size from 3 to 200.\n",
    "\n",
    "Nboot = 10000\n",
    "\n",
    "samples = range(3,200,10)\n",
    "Lstar_estimates = np.empty(Nboot)\n",
    "biases = np.empty(len(samples))\n",
    "stds =  np.empty(len(samples))\n",
    "j = 0\n",
    "for Nsample in samples :\n",
    "\n",
    "    for i in range(Nboot) :\n",
    "    \n",
    "        u = np.random.uniform(0,1,Nsample)\n",
    "        lnx = quantile(u)\n",
    "        L = np.exp(lnx)\n",
    "    \n",
    "        Lstar_estimates[i] = ( alpha*np.mean(L)/(alpha + 1) )\n",
    "        #Lstar_estimates[i] = estimator(L)\n",
    "    \n",
    "    #print 'means Lstar',np.mean(Lstar_estimates)\n",
    "    #print 'standard deviation Lstar ',np.std(Lstar_estimates)\n",
    "    \n",
    "    biases[j] = np.mean(Lstar_estimates) - 1\n",
    "    stds[j] = np.std(Lstar_estimates)\n",
    "    j += 1\n",
    "\n",
    "plt.plot(samples,biases,label='bias')\n",
    "plt.plot(samples,stds,label='standard deviation')\n",
    "plt.plot([0,200],[0,0],linestyle=':')\n",
    "plt.legend()\n",
    "plt.xlabel('sample size')\n",
    "plt.show()\n"
   ]
  },
  {
   "cell_type": "code",
   "execution_count": null,
   "metadata": {},
   "outputs": [],
   "source": []
  }
 ],
 "metadata": {
  "kernelspec": {
   "display_name": "Python 2",
   "language": "python",
   "name": "python2"
  },
  "language_info": {
   "codemirror_mode": {
    "name": "ipython",
    "version": 2
   },
   "file_extension": ".py",
   "mimetype": "text/x-python",
   "name": "python",
   "nbconvert_exporter": "python",
   "pygments_lexer": "ipython2",
   "version": "2.7.15"
  }
 },
 "nbformat": 4,
 "nbformat_minor": 2
}
