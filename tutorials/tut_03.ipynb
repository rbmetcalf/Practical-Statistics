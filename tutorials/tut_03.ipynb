# Tutorial #03
# 1- Create a random variable using rand.chisquare 
