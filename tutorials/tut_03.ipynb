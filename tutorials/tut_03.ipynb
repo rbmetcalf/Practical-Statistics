{
 "cells": [
  {
   "cell_type": "code",
   "execution_count": null,
   "metadata": {},
   "outputs": [],
   "source": [
    "#Tutorial # 03\n",
    "\n",
    "## The central limit theorem holds that the sum of a large number of identically \n",
    "## distributed random numbers will be normally distributed no matter how the \n",
    "## individual numbers are distributed.\n",
    "##\n",
    "## In lecture we proved this and saw how the pdf for the sum of variables \n",
    "## can be found numerically from the pdf of the individuals using the Fourier \n",
    "## transform.\n",
    "##\n",
    "## Now we will verify the central limit theorem by numerically experiment :\n",
    "\n",
    "# 1) Create 1000 uniform random numbers between -1 and 1 using numpy.rand\n",
    "\n",
    "       # make histogram of the numbers\n",
    "\n",
    "# 2) Make 1000 sums of 3 uniform random numbers between -1 and 1\n",
    "\n",
    "       # make histogram of the numbers\n",
    "\n",
    "       # draw the pdf for a normal distribution with the same man and variance\n",
    "        # over histogram (What should the variance be?)\n",
    "\n",
    "# 3) Make 1000 sums of 10 uniform random numbers between -1 and 1\n",
    "\n",
    "       # make histogram of the numbers\n",
    "\n",
    "       # draw the pdf for a normal distribution with the same variance over histogram\n",
    "\n",
    "# 4) Do 1 through 3 for a lognormal distribution instead of uniform.  The \n",
    "#    lognormal distribution can be found in the scipy.stats package. Use \n",
    "#    the case s = 1.  An normalize the sum with 1/N where N is the number of \n",
    "#    numbers in each sum.  Draw the Gaussian with the same mean and variance as \n",
    "#    the sample.\n"
   ]
  },
  {
   "cell_type": "code",
   "execution_count": null,
   "metadata": {},
   "outputs": [],
   "source": []
  }
 ],
 "metadata": {
  "kernelspec": {
   "display_name": "Python 2",
   "language": "python",
   "name": "python2"
  },
  "language_info": {
   "codemirror_mode": {
    "name": "ipython",
    "version": 2
   },
   "file_extension": ".py",
   "mimetype": "text/x-python",
   "name": "python",
   "nbconvert_exporter": "python",
   "pygments_lexer": "ipython2",
   "version": "2.7.15"
  }
 },
 "nbformat": 4,
 "nbformat_minor": 2
}
