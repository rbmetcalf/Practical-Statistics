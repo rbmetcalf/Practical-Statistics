{
 "cells": [
  {
   "cell_type": "markdown",
   "metadata": {},
   "source": [
    "**Tutorial 7 - Monte Carlo Calculation $\\pi$**\n",
    "\n",
    "Here we will do a little warm up exercise in Monte Carlo calculations.\n"
   ]
  },
  {
   "cell_type": "markdown",
   "metadata": {},
   "source": [
    "1) Imagine a circle circumscribed by a square.  The probability of a random point within the square being inside the circle is equal to the ratio of the area of the circle to the area of the square.  Use a uniform random number generator to calculate the value of $\\pi$.  Use 1,000 and 10,000 points."
   ]
  },
  {
   "cell_type": "code",
   "execution_count": 6,
   "metadata": {
    "collapsed": false
   },
   "outputs": [
    {
     "name": "stdout",
     "output_type": "stream",
     "text": [
      "With 10000 trials the obtained value for pi is 3.1508\n"
     ]
    }
   ],
   "source": [
    "import numpy as np\n",
    "import matplotlib.pyplot as plt\n",
    "\n",
    "inside = 0\n",
    "trials = 10000\n",
    "radius = 1\n",
    "\n",
    "np.random.seed(42)\n",
    "\n",
    "for i in range(trials) : \n",
    "    x = np.random.random()\n",
    "    y = np.random.random()\n",
    "    \n",
    "    if (x**2+y**2)<radius : \n",
    "        inside = inside +1 \n",
    "\n",
    "pi = (float(inside)/trials)*4 \n",
    "\n",
    "print(\"With 10000 trials the obtained value for pi is \" + str(pi))\n",
    "    "
   ]
  },
  {
   "cell_type": "markdown",
   "metadata": {},
   "source": [
    "2) Repeat the calculations above in a loop and record the values of $\\pi$.  Make a histogram of your calculated $\\pi$ values.  What is the variance of your estimate of $\\pi$ using 1,000 and 10,000?  How does it scale with the number of points?"
   ]
  },
  {
   "cell_type": "code",
   "execution_count": 12,
   "metadata": {
    "collapsed": false
   },
   "outputs": [
    {
     "data": {
      "image/png": "[encoded data removed]",
      "text/plain": [
       "<matplotlib.figure.Figure at 0x84841d0>"
      ]
     },
     "metadata": {},
     "output_type": "display_data"
    },
    {
     "name": "stdout",
     "output_type": "stream",
     "text": [
      "With 1000 trials the mean pi obtained is 3.141688 with a variance of 0.002783710656\n"
     ]
    },
    {
     "data": {
      "image/png": "[encoded data removed]",
      "text/plain": [
       "<matplotlib.figure.Figure at 0x960ba58>"
      ]
     },
     "metadata": {},
     "output_type": "display_data"
    },
    {
     "name": "stdout",
     "output_type": "stream",
     "text": [
      "With 10000 trials the mean pi obtained is 3.1415828 with a variance of 0.00028274258416\n"
     ]
    }
   ],
   "source": [
    "trials = 1000\n",
    "radius = 1\n",
    "pi = np.empty(trials)\n",
    "\n",
    "np.random.seed(42)\n",
    "\n",
    "for j in range(trials) :\n",
    "    inside = 0\n",
    "    for i in range(trials) : \n",
    "        x = np.random.random()\n",
    "        y = np.random.random()\n",
    "    \n",
    "        if (x**2+y**2)<radius : \n",
    "            inside = inside +1 \n",
    "\n",
    "    pi[j] = (float(inside)/trials)*4\n",
    "    \n",
    "plt.hist(pi,bins=40,normed = True, alpha = 0.8)\n",
    "plt.xlabel('$\\pi$')\n",
    "plt.show()\n",
    "mean = np.mean(pi)\n",
    "variance = np.var(pi)\n",
    "\n",
    "print(\"With 1000 trials the mean pi obtained is \" + str(mean) + \" with a variance of \" + str(variance))\n",
    "\n",
    "trials2 = 10000\n",
    "\n",
    "for j in range(trials) :\n",
    "    inside = 0\n",
    "    for i in range(trials2) : \n",
    "        x = np.random.random()\n",
    "        y = np.random.random()\n",
    "    \n",
    "        if (x**2+y**2)<radius : \n",
    "            inside = inside +1 \n",
    "\n",
    "    pi[j] = (float(inside)/trials2)*4\n",
    "    \n",
    "plt.hist(pi,bins=40,normed = True, alpha = 0.8)\n",
    "plt.xlabel('$\\pi$')\n",
    "plt.title(\"10000 trials\")\n",
    "plt.show()\n",
    "mean = np.mean(pi)\n",
    "variance = np.var(pi)\n",
    "\n",
    "print(\"With 10000 trials the mean pi obtained is \" + str(mean) + \" with a variance of \" + str(variance))"
   ]
  },
  {
   "cell_type": "markdown",
   "metadata": {},
   "source": [
    "3) What was done above in two dimensions can be done in more dimensions.  Calculate the volume of a 5 dimensional ball of unit radius in the same way.  Calculate its variance of your estimate in the same way.  Use enough points to get three significant figures."
   ]
  },
  {
   "cell_type": "code",
   "execution_count": 18,
   "metadata": {
    "collapsed": false
   },
   "outputs": [
    {
     "data": {
      "image/png": "[encoded data removed]",
      "text/plain": [
       "<matplotlib.figure.Figure at 0x80ae1d0>"
      ]
     },
     "metadata": {},
     "output_type": "display_data"
    },
    {
     "name": "stdout",
     "output_type": "stream",
     "text": [
      "With 1000 trials, in five dimensions, the mean pi obtained is 3.14005004044 with a variance of 0.00808411234617\n"
     ]
    }
   ],
   "source": [
    "import scipy.special as sp\n",
    "trials = 1000\n",
    "radius = 1\n",
    "pi = np.empty(trials)\n",
    "x = np.empty(5)\n",
    "\n",
    "np.random.seed(42)\n",
    "\n",
    "for j in range(trials) :\n",
    "    inside = 0\n",
    "    for i in range(trials) : \n",
    "        for k in range(5) :\n",
    "            x[k] = np.random.random()\n",
    "\n",
    "        if (np.sum(x**2))<radius : \n",
    "            inside = inside +1 \n",
    "\n",
    "    pi[j] = np.power(((float(inside)/trials)*32*sp.gamma(3.5)), 2/5)\n",
    "    \n",
    "plt.hist(pi,bins=40,normed = True, alpha = 0.8)\n",
    "plt.xlabel('$\\pi$')\n",
    "plt.show()\n",
    "mean = np.mean(pi)\n",
    "variance = np.var(pi)\n",
    "\n",
    "print(\"With 1000 trials, in five dimensions, the mean pi obtained is \" + str(mean) + \" with a variance of \" + str(variance))\n"
   ]
  },
  {
   "cell_type": "code",
   "execution_count": null,
   "metadata": {
    "collapsed": true
   },
   "outputs": [],
   "source": []
  },
  {
   "cell_type": "code",
   "execution_count": null,
   "metadata": {
    "collapsed": true
   },
   "outputs": [],
   "source": []
  }
 ],
 "metadata": {
  "kernelspec": {
   "display_name": "Python [default]",
   "language": "python",
   "name": "python3"
  },
  "language_info": {
   "codemirror_mode": {
    "name": "ipython",
    "version": 3
   },
   "file_extension": ".py",
   "mimetype": "text/x-python",
   "name": "python",
   "nbconvert_exporter": "python",
   "pygments_lexer": "ipython3",
   "version": "3.5.2"
  }
 },
 "nbformat": 4,
 "nbformat_minor": 2
}
