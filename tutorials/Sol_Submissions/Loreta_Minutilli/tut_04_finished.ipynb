{
 "cells": [
  {
   "cell_type": "markdown",
   "metadata": {},
   "source": [
    "\n",
    "# Tutorial 4 - Calculating Significance by Monte Carlo\n",
    "\n",
    "In the homework you should have found the correlation coefficients for some data.  \n",
    "The Pearson Correlation Coefficient is\n",
    "\\begin{align}\n",
    "r_{xy} = \\frac{1}{N}\\frac{ \\sum_i (x_i - \\bar{x} ) (y_i - \\bar{y}) }{ \\sqrt{ S^2_x S^2_y} }\n",
    "\\end{align}\n",
    "where\n",
    "\\begin{align}\n",
    "\\bar{x} = \\frac{1}{N}\\sum_i x_i ~~~~ S^2_x = \\frac{1}{(N-1)} \\sum_i ( x_i - \\bar{x} )\n",
    "\\end{align}\n",
    "\n",
    "A non-zero $r_{xy}$ should indicate that there is a correlation between $x$ and $y$.\n",
    "$r_{xy}$ is an estimator of the populations true correlation coefficient\n",
    "\\begin{align}\n",
    "\\rho_{xy} = \\frac{C_{XY}}{\\sqrt{\\sigma^2_x \\sigma_y^2} }\n",
    "\\end{align}\n",
    "\n",
    "But $r_{xy}$ is a function of random variables so we would not expect it to be exactly 0 \n",
    "even if there were no correlations.  We could try to calculate the probability distribution of \n",
    "$r_{xy}$ analytically, but this might be difficult (more on this in lecture).\n",
    "\n",
    "##  Monte Carlo\n",
    "\n",
    "Instead lets find the significance of your measured $r_{xy}$ by Monte Carlo given the hypothesis that \n",
    "$x$ and $y$ are not correlated.\n",
    "\n",
    "\n",
    "1. Create two vectors (X and Y) of random normally distributed numbers with variance 1 and mean zero.  Each vector should be 1000 elements long as was the data in the homework.  Calculate $r_{xy}$ for these.  X and Y \n",
    "are uncorrelated since they where generated independently.\n",
    "\n",
    "2. Repeat step 1 a thousand times to get a distribution of $r_{xy}$.  You should to this in a loop.  There is no reason to save all the X's and Y's.\n",
    "\n",
    "3. Plot a histogram of your  $r_{xy}$ values.  Does it look Gaussian?\n",
    "\n",
    "4. What is the fraction of times $|r_{xy}|$ is larger than 0.025, 0.05, 0.08?  Would you expect to get this value if there were no correlation? Calculate the rxy for the homework set homework_01_2d-datafile.csv?  Would you expect to get this value if there were no correlation?\n",
    "\n",
    "5. Do the exercise above over but this time use the measured $S^2_x$, $S^2_y$, $\\bar{x}$ and $\\bar{y}$ from homework\\_01\\_2d-datafile.csv  to generate the  X and Y variables.   Plot the new histogram of $r_{xy}$ over the old one.   Is there a difference or is the distribution of $r_{xy}$ independent of the averages and variances of the distributions?\n",
    "\n",
    "6. Order your sample of $r_{xy}$'s from smallest to largest.  Take the $i$th value to be an estimate of the $r_{xy}$ where $(N-i)/N$ of the probability distribution is larger than it.  For example the 95\\% upper bound would be at $i/N = 0.95$.  What is the 95\\% upper bound on $r_{xy}$ if there is no correlation between $X$ and $Y$?  We will call this $r_{0.95}$.\n",
    "In lecture we will find that the variance in this estimator is\n",
    "\\begin{align}\n",
    "Var[r_p] = \\frac{2 p (1-p) }{N f(r_p)^2 }\n",
    "\\end{align}\n",
    "for large $N$ where $f(r)$ is the pdf of $r_{xy}$. \n",
    "Assuming that $r_{xy}$ is Gaussian distributed and its variance is the one you measure, what is the variance in your estimate of $r_{0.95}$?\n",
    "\n",
    "7. Extra Credit: If you have time, do 1 through 3 for the Spearman and/or Kendall correlation coefficients.  There are Python functions for calculating them efficiently.  These are \"rank statistics\" that do not rely on any  assumption about the distribution of $X$ and $Y$ (in this case Gaussian) and are thus more widely applicable.  Do they indicate that the data in the home work is correlated?\n"
   ]
  },
  {
   "cell_type": "code",
   "execution_count": 66,
   "metadata": {},
   "outputs": [
    {
     "name": "stdout",
     "output_type": "stream",
     "text": [
      "-0.04035947142215071\n"
     ]
    }
   ],
   "source": [
    "#Tutorial # 04\n",
    "## Calculating Significance by Monte Carlo\n",
    "##\n",
    "## More complete directions for this tutorial are in tut4.pdf\n",
    "##\n",
    "\n",
    "#1) Calculate two vectors (X and Y) of random normally distributed numbers \n",
    "#   with variance 1 and mean zero.  Each vector should be 1000 elements long \n",
    "#   as was the data in the homework.  Calculate $r_{xy}$ for these.\n",
    "import numpy as np\n",
    "\n",
    "size = 1000\n",
    "\n",
    "np.random.seed(42)\n",
    "\n",
    "x = np.random.normal(0,1,size = size)\n",
    "y = np.random.normal(0,1,size = size)\n",
    "\n",
    "sx = np.sum((x-np.mean(x))**2)/(size-1.)\n",
    "sy = np.sum((y-np.mean(y))**2)/(size-1.)\n",
    "\n",
    "rxy = np.sum((x-np.mean(x))*(y-np.mean(y)))/(size*np.sqrt(sx*sy))\n",
    "print(rxy)\n"
   ]
  },
  {
   "cell_type": "code",
   "execution_count": 67,
   "metadata": {},
   "outputs": [],
   "source": [
    "#2) Repeat step 1 a thousand times to get a distribution of $r_{xy}$ for a sample \n",
    "#   size equal to that of the homework.\n",
    "import matplotlib.pyplot as plt \n",
    "\n",
    "rxy_distr = np.empty([1000])\n",
    "\n",
    "for i in range(size) : \n",
    "    x = np.random.normal(0,1,size = size)\n",
    "    y = np.random.normal(0,1,size = size)\n",
    "\n",
    "    sx = np.sum((x-np.mean(x))**2)/(size-1.)\n",
    "    sy = np.sum((y-np.mean(y))**2)/(size-1.)\n",
    "\n",
    "    rxy_distr[i] = np.sum((x-np.mean(x))*(y-np.mean(y)))/(size*np.sqrt(sx*sy))\n",
    "    "
   ]
  },
  {
   "cell_type": "code",
   "execution_count": 68,
   "metadata": {},
   "outputs": [
    {
     "data": {
      "image/png": "[encoded data removed]",
      "text/plain": [
       "<Figure size 432x288 with 1 Axes>"
      ]
     },
     "metadata": {},
     "output_type": "display_data"
    }
   ],
   "source": [
    "#3) Plot a histogram of your  $r_{xy}$ values.\n",
    "_ = plt.hist(rxy_distr)"
   ]
  },
  {
   "cell_type": "code",
   "execution_count": 69,
   "metadata": {},
   "outputs": [
    {
     "name": "stdout",
     "output_type": "stream",
     "text": [
      "Larger than 0.025: 0.447\n",
      "Larger than 0.05: 0.121\n",
      "Larger than 0.08: 0.01\n",
      "These values imply that the variables aren't correlated.\n",
      "0.9484965806973132\n",
      "This value implies that the variables are correlated.\n",
      "Larger than 0.9484965806973132: 0\n"
     ]
    }
   ],
   "source": [
    "#4) What is the fraction of times $|r_{xy}|$ is larger than your measured value \n",
    "#   for homework\\_01\\_2d-datafile.csv ?  Would you expect to find this if there \n",
    "#   were no correlation?\n",
    "import pandas as pd\n",
    "\n",
    "rxy_025 = 0\n",
    "rxy_05 = 0\n",
    "rxy_08 = 0\n",
    "\n",
    "for i in range(1000) : \n",
    "    if np.absolute(rxy_distr[i]) > 0.025 : \n",
    "        rxy_025 = rxy_025 +1 \n",
    "\n",
    "for i in range(1000) : \n",
    "    if np.absolute(rxy_distr[i]) > 0.05 : \n",
    "        rxy_05 = rxy_05 + 1 \n",
    "        \n",
    "for i in range(1000) : \n",
    "    if np.absolute(rxy_distr[i]) > 0.08 : \n",
    "        rxy_08 = rxy_08 + 1 \n",
    "\n",
    "print(\"Larger than 0.025: \" + str(float(rxy_025)/float(size)))\n",
    "print(\"Larger than 0.05: \" + str(float(rxy_05)/float(size)))\n",
    "print(\"Larger than 0.08: \" + str(float(rxy_08)/float(size)))\n",
    "\n",
    "print(\"These values imply that the variables aren't correlated.\")\n",
    "\n",
    "filename = '/home/STUDENTI/loreta.minutilli/Scaricati/homework_01_2d-datafile.csv'\n",
    "data = pd.read_csv(filename)\n",
    "data.head()\n",
    "\n",
    "x_h = np.array(data[['X']])\n",
    "y_h = np.array(data[['Y']])\n",
    "\n",
    "sx_h = np.sum((x_h-np.mean(x_h))**2)/(size-1.)\n",
    "sy_h = np.sum((y_h-np.mean(y_h))**2)/(size-1.)\n",
    "\n",
    "rxy_h = np.sum((x_h-np.mean(x_h))*(y_h-np.mean(y_h)))/(size*np.sqrt(sx_h*sy_h))\n",
    "\n",
    "print(rxy_h)\n",
    "\n",
    "print(\"This value implies that the variables are correlated.\")\n",
    "rxy_95 = 0\n",
    "for i in range(size) : \n",
    "    if np.absolute(rxy_distr[i]) > rxy_h : \n",
    "        rxy_95 = rxy_95 + 1 \n",
    "\n",
    "print(\"Larger than \" + str(rxy_h) + \": \" + str(rxy_95))\n",
    "    \n"
   ]
  },
  {
   "cell_type": "code",
   "execution_count": 70,
   "metadata": {},
   "outputs": [
    {
     "data": {
      "image/png": "[encoded data removed]",
      "text/plain": [
       "<Figure size 432x288 with 1 Axes>"
      ]
     },
     "metadata": {},
     "output_type": "display_data"
    }
   ],
   "source": [
    "#5) Do the exersize over but this time use the measured $S^2_x$, $S^2_y$, $\\bar{x}$ \n",
    "#   and $\\bar{y}$ from homework\\_01\\_2d-datafile.csv  to generate the  X and Y \n",
    "#   variables.  Does this make any difference?\n",
    "\n",
    "rxy_distr_h = np.empty([size])\n",
    "\n",
    "for i in range(size) : \n",
    "    x = np.random.normal(np.mean(x_h),np.sqrt(sx_h),size = size)\n",
    "    y = np.random.normal(np.mean(y_h),np.sqrt(sy_h),size = size)\n",
    "    \n",
    "    \n",
    "\n",
    "    rxy_distr_h[i] = np.sum((x-np.mean(x))*(y-np.mean(y)))/(size*np.sqrt(np.var(x)*np.var(y)))\n",
    "    \n",
    "plt.hist(rxy_distr, bins = 60, color = 'blue')\n",
    "plt.hist(rxy_distr_h, bins = 60, alpha = 0.4, color = 'red')\n",
    "plt.show()\n"
   ]
  },
  {
   "cell_type": "code",
   "execution_count": 71,
   "metadata": {},
   "outputs": [
    {
     "name": "stdout",
     "output_type": "stream",
     "text": [
      "0.05537390291239271\n",
      "The variance in the estimate of r0.95 is 1.0396519611845684e-05\n"
     ]
    }
   ],
   "source": [
    "#6) Order your sample of $r_{xy}$'s from smallest to largest.  Take the $i$th \n",
    "#   value to be an estimate of the $r_{xy}$ where $(N-i)/N$ of the probability \n",
    "#   distribution is larger than it.  For example the 95\\% upper bound would be \n",
    "#   at i/N = 0.95.  What is the 95% upper bound on $r_{xy}$ if there is not \n",
    "#   correlation between $X$ and $Y$?  We will call this $r_{0.95}$.\n",
    "#   In lecture we will find that the variance in this estimator is\n",
    "#\n",
    "#   Var[r_p] = \\frac{ 2 p (1-p) }{N f(r_p)^2 }\n",
    "#\n",
    "#   for large $N$ where $f(r)$ is the pdf of $r_{xy}$. \n",
    "#   Assuming that $r_{xy}$ is Gaussian distributed and its variance is the one \n",
    "#   you measure, what is the variance in your estimate of $r_{0.95}$?\n",
    "\n",
    "rxy_distr_s = np.sort(rxy_distr)\n",
    "r_95 = rxy_distr_s[950]\n",
    "print(r_95)\n",
    "p = 0.95\n",
    "\n",
    "r_95var = np.var(rxy_distr)\n",
    "r_95mean = np.mean(rxy_distr)\n",
    "\n",
    "pdf_r95 = np.exp(-((r_95-r_95mean)**2)/(2*r_95var))/np.sqrt(2*np.pi*r_95var)\n",
    "\n",
    "var95 = 2*p*(1-p)/(size*(pdf_r95)**2)\n",
    "\n",
    "print(\"The variance in the estimate of r0.95 is \" + str(var95))"
   ]
  },
  {
   "cell_type": "code",
   "execution_count": 72,
   "metadata": {},
   "outputs": [
    {
     "name": "stdout",
     "output_type": "stream",
     "text": [
      "The Spearman correlation coefficient is -0.025963045963045963\n"
     ]
    },
    {
     "data": {
      "image/png": "[encoded data removed]",
      "text/plain": [
       "<Figure size 432x288 with 1 Axes>"
      ]
     },
     "metadata": {},
     "output_type": "display_data"
    },
    {
     "name": "stdout",
     "output_type": "stream",
     "text": [
      "The Spearman correlation coefficient for the data in the homework is 0.9404303804303806\n",
      "The Kendall tau is 0.008524524524524525\n"
     ]
    },
    {
     "data": {
      "image/png": "[encoded data removed]",
      "text/plain": [
       "<Figure size 432x288 with 1 Axes>"
      ]
     },
     "metadata": {},
     "output_type": "display_data"
    },
    {
     "name": "stdout",
     "output_type": "stream",
     "text": [
      "The Kendall tau for the data in the homework is 0.7919839839839841\n"
     ]
    }
   ],
   "source": [
    "#7) Extra Credit: If you have time, do 1 through 3 for the Spearman and/or Kendall correlation coefficients.  \n",
    "#   There are Python functions for calculating them efficiently.  \n",
    "#   These are \"rank statistics\" that do not rely on any  assumption about the distribution of $X$ and $Y$ \n",
    "#   (in this case Gaussian) and are thus more widely applicable.  \n",
    "#   Do they indicate that the data in the home work is correlated?\n",
    "\n",
    "import scipy.stats as sts\n",
    "\n",
    "x = np.random.normal(0,1,size = size)\n",
    "y = np.random.normal(0,1,size = size)\n",
    "\n",
    "spearman = sts.spearmanr(x,y)\n",
    "print(\"The Spearman correlation coefficient is \" + str(spearman[0]))\n",
    "\n",
    "spear_distr = np.empty([size])\n",
    "\n",
    "for i in range(size) : \n",
    "    x = np.random.normal(0,1,size = size)\n",
    "    y = np.random.normal(0,1,size = size)\n",
    "    \n",
    "    sp_results = sts.spearmanr(x,y)\n",
    "    \n",
    "    spear_distr[i] = sp_results[0]\n",
    "    \n",
    "_ = plt.hist(spear_distr,bins = 60)\n",
    "_ = plt.title(\"Correlation with Spearman\")\n",
    "plt.show()\n",
    "\n",
    "spearman_h = sts.spearmanr(x_h,y_h)\n",
    "\n",
    "print(\"The Spearman correlation coefficient for the data in the homework is \" + str(spearman_h[0]))\n",
    "\n",
    "kendall = sts.kendalltau(x,y)\n",
    "print(\"The Kendall tau is \" + str(kendall[0]))\n",
    "\n",
    "kendall_distr = np.empty([size])\n",
    "\n",
    "for i in range(size) :\n",
    "    x = np.random.normal(0,1,size = size)\n",
    "    y = np.random.normal(0,1,size = size)\n",
    "    \n",
    "    k_results = sts.kendalltau(x,y)\n",
    "    \n",
    "    kendall_distr[i] = k_results[0]\n",
    "    \n",
    "_ = plt.hist(kendall_distr,bins = 60)\n",
    "_ = plt.title(\"Correlation with Kendall\")\n",
    "plt.show()\n",
    "\n",
    "kendall_h = sts.kendalltau(x_h,y_h)\n",
    "\n",
    "print(\"The Kendall tau for the data in the homework is \" + str(kendall_h[0]))\n"
   ]
  },
  {
   "cell_type": "code",
   "execution_count": null,
   "metadata": {},
   "outputs": [],
   "source": []
  }
 ],
 "metadata": {
  "kernelspec": {
   "display_name": "Python 2",
   "language": "python",
   "name": "python2"
  },
  "language_info": {
   "codemirror_mode": {
    "name": "ipython",
    "version": 2
   },
   "file_extension": ".py",
   "mimetype": "text/x-python",
   "name": "python",
   "nbconvert_exporter": "python",
   "pygments_lexer": "ipython2",
   "version": "2.7.12"
  }
 },
 "nbformat": 4,
 "nbformat_minor": 2
}
