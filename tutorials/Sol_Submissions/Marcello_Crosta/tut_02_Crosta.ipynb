{
 "cells": [
  {
   "cell_type": "code",
   "execution_count": 12,
   "metadata": {},
   "outputs": [
    {
     "name": "stdout",
     "output_type": "stream",
     "text": [
      "The pobability of winning don't changing the door is: 0.33377\n",
      "The pobability of winning changing the door is: 0.66363\n"
     ]
    }
   ],
   "source": [
    "# simulate the Monty-Hall Problem using numpy random function!!\n",
    "import numpy as np\n",
    "np.random.seed()\n",
    "#choose the number of trials\n",
    "prove=100000\n",
    "resta=0\n",
    "cambia=0\n",
    "#Calculate the probability of winning don't changing the door\n",
    "for i in range(prove):\n",
    "    #choose the car's door\n",
    "    car = np.random.randint(0,3)\n",
    "\n",
    "    #choose youur door\n",
    "    door = np.random.randint(0,3)\n",
    "\n",
    "    if car == door :\n",
    "        resta = resta + 1\n",
    "        \n",
    "#Calculate the probability of winning changing the door\n",
    "for j in range(prove):\n",
    "    car=np.random.randint(0,3)\n",
    "    \n",
    "    door=np.random.randint(0,3)\n",
    "    #change the door and watch if you win\n",
    "    if car !=0 and door!=0:\n",
    "        if door == 1:\n",
    "            door=2\n",
    "            if car == door:\n",
    "                cambia = cambia +1\n",
    "        else :\n",
    "            door=1\n",
    "            if car == door:\n",
    "                cambia = cambia +1\n",
    "                \n",
    "    if car !=1 and door!=1:\n",
    "        if door == 0:\n",
    "            door=2\n",
    "            if car == door:\n",
    "                cambia = cambia +1\n",
    "        else :\n",
    "            door=0\n",
    "            if car == door:\n",
    "                cambia = cambia +1\n",
    "                \n",
    "    if car !=2 and door!=2:\n",
    "        if door == 0:\n",
    "            door=1\n",
    "            if car == door:\n",
    "                cambia = cambia +1\n",
    "        else :\n",
    "            door=0\n",
    "            if car == door:\n",
    "                cambia = cambia +1\n",
    "\n",
    "                \n",
    "print(\"The pobability of winning don't changing the door is: \" + str(resta/float(prove)))\n",
    "print(\"The pobability of winning changing the door is: \" + str(cambia/float(prove)))"
   ]
  },
  {
   "cell_type": "code",
   "execution_count": null,
   "metadata": {},
   "outputs": [],
   "source": []
  },
  {
   "cell_type": "code",
   "execution_count": null,
   "metadata": {},
   "outputs": [],
   "source": []
  }
 ],
 "metadata": {
  "kernelspec": {
   "display_name": "Python 2",
   "language": "python",
   "name": "python2"
  },
  "language_info": {
   "codemirror_mode": {
    "name": "ipython",
    "version": 2
   },
   "file_extension": ".py",
   "mimetype": "text/x-python",
   "name": "python",
   "nbconvert_exporter": "python",
   "pygments_lexer": "ipython2",
   "version": "2.7.12"
  }
 },
 "nbformat": 4,
 "nbformat_minor": 2
}
