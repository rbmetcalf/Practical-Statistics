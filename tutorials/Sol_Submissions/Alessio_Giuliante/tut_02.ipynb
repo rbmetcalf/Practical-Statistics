{
 "cells": [
  {
   "cell_type": "code",
   "execution_count": 7,
   "metadata": {},
   "outputs": [
    {
     "name": "stdout",
     "output_type": "stream",
     "text": [
      "[ 0.3326  0.6674]\n"
     ]
    }
   ],
   "source": [
    "# simulate the Monty-Hall Problem using numpy random function!!\n",
    "from numpy.random import randint\n",
    "import numpy as np\n",
    "\n",
    "results=np.zeros(2)\n",
    "\n",
    "for i in range(0,100000):\n",
    "    winner=randint(0,3)\n",
    "    choice=randint(0,3)\n",
    "    \n",
    "    if (choice == winner):\n",
    "        results[0]=results[0]+1\n",
    "    else:\n",
    "        results[1]=results[1]+1\n",
    "        \n",
    "print (results/np.sum(results))\n",
    "          "
   ]
  },
  {
   "cell_type": "code",
   "execution_count": null,
   "metadata": {},
   "outputs": [],
   "source": []
  },
  {
   "cell_type": "code",
   "execution_count": null,
   "metadata": {},
   "outputs": [],
   "source": []
  }
 ],
 "metadata": {
  "kernelspec": {
   "display_name": "Python 2",
   "language": "python",
   "name": "python2"
  },
  "language_info": {
   "codemirror_mode": {
    "name": "ipython",
    "version": 2
   },
   "file_extension": ".py",
   "mimetype": "text/x-python",
   "name": "python",
   "nbconvert_exporter": "python",
   "pygments_lexer": "ipython2",
   "version": "2.7.12"
  }
 },
 "nbformat": 4,
 "nbformat_minor": 2
}
