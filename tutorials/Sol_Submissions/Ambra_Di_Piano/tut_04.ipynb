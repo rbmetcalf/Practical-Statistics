{
 "cells": [
  {
   "cell_type": "markdown",
   "metadata": {},
   "source": [
    "\n",
    "# Tutorial 4 - Calculating Significance by Monte Carlo\n",
    "\n",
    "In the homework you should have found the correlation coefficients for some data.  \n",
    "The Pearson Correlation Coefficient is\n",
    "\\begin{align}\n",
    "r_{xy} = \\frac{1}{N}\\frac{ \\sum_i (x_i - \\bar{x} ) (y_i - \\bar{y}) }{ \\sqrt{ S^2_x S^2_y} }\n",
    "\\end{align}\n",
    "where\n",
    "\\begin{align}\n",
    "\\bar{x} = \\frac{1}{N}\\sum_i x_i ~~~~ S^2_x = \\frac{1}{(N-1)} \\sum_i ( x_i - \\bar{x} )\n",
    "\\end{align}\n",
    "\n",
    "A non-zero $r_{xy}$ should indicate that there is a correlation between $x$ and $y$.\n",
    "$r_{xy}$ is an estimator of the populations true correlation coefficient\n",
    "\\begin{align}\n",
    "\\rho_{xy} = \\frac{C_{XY}}{\\sqrt{\\sigma^2_x \\sigma_y^2} }\n",
    "\\end{align}\n",
    "\n",
    "But $r_{xy}$ is a function of random variables so we would not expect it to be exactly 0 \n",
    "even if there were no correlations.  We could try to calculate the probability distribution of \n",
    "$r_{xy}$ analytically, but this might be difficult (more on this in lecture).\n",
    "\n",
    "##  Monte Carlo\n",
    "\n",
    "Instead lets find the significance of your measured $r_{xy}$ by Monte Carlo given the hypothesis that \n",
    "$x$ and $y$ are not correlated.\n",
    "\n",
    "\n",
    "1. Create two vectors (X and Y) of random normally distributed numbers with variance 1 and mean zero.  Each vector should be 1000 elements long as was the data in the homework.  Calculate $r_{xy}$ for these.  X and Y \n",
    "are uncorrelated since they where generated independently.\n",
    "\n",
    "2. Repeat step 1 a thousand times to get a distribution of $r_{xy}$.  You should to this in a loop.  There is no reason to save all the X's and Y's.\n",
    "\n",
    "3. Plot a histogram of your  $r_{xy}$ values.  Does it look Gaussian?\n",
    "\n",
    "4. What is the fraction of times $|r_{xy}|$ is larger than 0.025, 0.05, 0.08?  Would you expect to get this value if there were no correlation? Calculate the rxy for the homework set homework_01_2d-datafile.csv?  Would you expect to get this value if there were no correlation?\n",
    "\n",
    "5. Do the exercise above over but this time use the measured $S^2_x$, $S^2_y$, $\\bar{x}$ and $\\bar{y}$ from homework\\_01\\_2d-datafile.csv  to generate the  X and Y variables.   Plot the new histogram of $r_{xy}$ over the old one.   Is there a difference or is the distribution of $r_{xy}$ independent of the averages and variances of the distributions?\n",
    "\n",
    "6. Order your sample of $r_{xy}$'s from smallest to largest.  Take the $i$th value to be an estimate of the $r_{xy}$ where $(N-i)/N$ of the probability distribution is larger than it.  For example the 95\\% upper bound would be at $i/N = 0.95$.  What is the 95\\% upper bound on $r_{xy}$ if there is no correlation between $X$ and $Y$?  We will call this $r_{0.95}$.\n",
    "In lecture we will find that the variance in this estimator is\n",
    "\\begin{align}\n",
    "Var[r_p] = \\frac{2 p (1-p) }{N f(r_p)^2 }\n",
    "\\end{align}\n",
    "for large $N$ where $f(r)$ is the pdf of $r_{xy}$. \n",
    "Assuming that $r_{xy}$ is Gaussian distributed and its variance is the one you measure, what is the variance in your estimate of $r_{0.95}$?\n",
    "\n",
    "7. Extra Credit: If you have time, do 1 through 3 for the Spearman and/or Kendall correlation coefficients.  There are Python functions for calculating them efficiently.  These are \"rank statistics\" that do not rely on any  assumption about the distribution of $X$ and $Y$ (in this case Gaussian) and are thus more widely applicable.  Do they indicate that the data in the home work is correlated?\n"
   ]
  },
  {
   "cell_type": "code",
   "execution_count": 144,
   "metadata": {},
   "outputs": [
    {
     "name": "stdout",
     "output_type": "stream",
     "text": [
      "CHECK! -0.02546250138201759\n"
     ]
    }
   ],
   "source": [
    "#Tutorial # 04\n",
    "## Calculating Significance by Monte Carlo\n",
    "##\n",
    "## More complete directions for this tutorial are in tut4.pdf\n",
    "##\n",
    "\n",
    "#1) Calculate two vectors (X and Y) of random normally distributed numbers \n",
    "#   with variance 1 and mean zero.  Each vector should be 1000 elements long \n",
    "#   as was the data in the homework.  Calculate $r_{xy}$ for these.\n",
    "\n",
    "import numpy as np\n",
    "import scipy.stats as sp\n",
    "import matplotlib.pyplot as plt\n",
    "import pandas as pd\n",
    "import csv\n",
    "\n",
    "\n",
    "x = np.random.normal(0,1,1000)\n",
    "y = np.random.normal(0,1,1000)\n",
    "\n",
    "r_xy, p_xy = sp.stats.pearsonr(x,y)\n",
    "print('CHECK!', r_xy)\n"
   ]
  },
  {
   "cell_type": "code",
   "execution_count": 145,
   "metadata": {},
   "outputs": [
    {
     "name": "stdout",
     "output_type": "stream",
     "text": [
      "CHECK! [[-0.00814967  0.79687217]\n",
      " [-0.05203325  0.1000746 ]\n",
      " [ 0.02776864  0.38038217]\n",
      " ...\n",
      " [-0.00185724  0.95322488]\n",
      " [-0.01937434  0.54056311]\n",
      " [ 0.00616273  0.84567413]]\n"
     ]
    }
   ],
   "source": [
    "#2) Repeat step 1 a thousand times to get a distribution of $r_{xy}$ for a sample \n",
    "#   size equal to that of the homework.\n",
    "n=1000\n",
    "\n",
    "X = np.random.normal(0,1,size=(n,n))\n",
    "Y = np.random.normal(0,1,size=(n,n))\n",
    "\n",
    "nr_xy = np.array([sp.stats.pearsonr(X[i],Y[i]) for i in range(n)])\n",
    "    \n",
    "print('CHECK!', nr_xy)"
   ]
  },
  {
   "cell_type": "code",
   "execution_count": 146,
   "metadata": {},
   "outputs": [
    {
     "data": {
      "image/png": "[encoded data removed]",
      "text/plain": [
       "<matplotlib.figure.Figure at 0x7f24e511ffd0>"
      ]
     },
     "metadata": {},
     "output_type": "display_data"
    }
   ],
   "source": [
    "#3) Plot a histogram of your  $r_{xy}$ values.\n",
    "\n",
    "_ = plt.hist(nr_xy[:,[0]], range=[-0.2,0.2], bins=50, alpha=0.5)\n",
    "_ = plt.title('pearson corr coeff dist')\n",
    "_ = plt.xlabel('pearson corr coeff')\n",
    "_ = plt.ylabel('cts')\n",
    "\n",
    "plt.show()"
   ]
  },
  {
   "cell_type": "code",
   "execution_count": 147,
   "metadata": {},
   "outputs": [
    {
     "name": "stdout",
     "output_type": "stream",
     "text": [
      "CHECK 0.9494460267240372\n",
      "fraction of higher pearson corr coeff wrt data:  0.0 \n",
      "fraction of lower: 1.0\n",
      "fraztion larger than 0.025 =  0.57  \n",
      "fraction larger than 0.05 =  0.884 \n",
      "fraction larger than 0.08 =  0.992\n"
     ]
    }
   ],
   "source": [
    "#4) What is the fraction of times $|r_{xy}|$ is larger than your measured value \n",
    "#   for homework\\_01\\_2d-datafile.csv ?  Would you expect to find this if there \n",
    "#   were no correlation?\n",
    "\n",
    "data2D = pd.read_csv('homework_01_2d-datafile.csv', ',', header=0)\n",
    "data2D = data2D.iloc[:,1:]\n",
    "#print('CHECK!', data2D)\n",
    "    \n",
    "xh = data2D.loc[:,'X']\n",
    "yh = data2D.loc[:,'Y']\n",
    "\n",
    "#print('CHECK!', xh, '---------------------------------------------', yh)\n",
    "\n",
    "rh_xy = sp.stats.pearsonr(xh,yh)\n",
    "print('CHECK!', rh_xy[0])\n",
    "\n",
    "\n",
    "fmore = np.sum(np.absolute(nr_xy[:,[0]]) > rh_xy[0])/n\n",
    "fless = np.sum(np.absolute(nr_xy[:,[0]]) < rh_xy[0])/n\n",
    "\n",
    "\n",
    "print('fraction of higher pearson corr coeff wrt data: ', fmore, '\\nfraction of lower:', fless)\n",
    "\n",
    "perc = [0.025, 0.05, 0.08]\n",
    "fperc = [0,0,0]\n",
    "\n",
    "fperc = np.array([np.sum(np.absolute(nr_xy[:,[0]]) < perc[i])/n for i in range(3)])\n",
    "\n",
    "print('fraztion larger than 0.025 = ', fperc[0], ' \\nfraction larger than 0.05 = ', fperc[1],\n",
    "     '\\nfraction larger than 0.08 = ', fperc[2])\n",
    "\n"
   ]
  },
  {
   "cell_type": "code",
   "execution_count": 148,
   "metadata": {},
   "outputs": [
    {
     "data": {
      "image/png": "[encoded data removed]",
      "text/plain": [
       "<matplotlib.figure.Figure at 0x7f24dacd6908>"
      ]
     },
     "metadata": {},
     "output_type": "display_data"
    }
   ],
   "source": [
    "#5) Do the exersize over but this time use the measured $S^2_x$, $S^2_y$, $\\bar{x}$ \n",
    "#   and $\\bar{y}$ from homework\\_01\\_2d-datafile.csv  to generate the  X and Y \n",
    "#   variables.  Does this make any difference?\n",
    "\n",
    "\n",
    "XH = np.random.normal(xh.mean(),np.sqrt(np.var(xh)),size=(len(xh),len(xh)))\n",
    "YH = np.random.normal(yh.mean(),np.sqrt(np.var(yh)),size=(len(yh),len(yh)))\n",
    "\n",
    "rh_xy = np.array([sp.stats.pearsonr(XH[i],YH[i]) for i in range(n)])\n",
    "\n",
    "#print('CHECK!', rh_xy[0], '\\n --------- \\n', nr_xy[:,[0]])\n",
    "\n",
    "_ = plt.hist(nr_xy[:,[0]], range=[-0.5,0.5], bins=50, alpha=0.3, color='red', label='simulation')\n",
    "_ = plt.hist(rh_xy[:,[0]], range=[-0.5,0.5], bins=50, alpha=0.3, color='blue', label='data2D homework')\n",
    "_ = plt.hist(' ', color='purple', alpha=0.3, label=\"overlaps\")\n",
    "_ = plt.title('pearson corr coeff dist')\n",
    "_ = plt.xlabel('pearson corr coeff')\n",
    "_ = plt.ylabel('cts')\n",
    "_ = plt.legend(loc=0)\n",
    "\n",
    "plt.show()\n",
    "\n"
   ]
  },
  {
   "cell_type": "code",
   "execution_count": 149,
   "metadata": {},
   "outputs": [
    {
     "name": "stdout",
     "output_type": "stream",
     "text": [
      "CHECK! [[-0.09515396  0.00259442]\n",
      " [-0.09012965  0.00433916]\n",
      " [-0.08962697  0.00456226]\n",
      " ...\n",
      " [ 0.08242925  0.00911207]\n",
      " [ 0.08760711  0.00556708]\n",
      " [ 0.09160101  0.00374173]]\n"
     ]
    }
   ],
   "source": [
    "#6) Order your sample of $r_{xy}$'s from smallest to largest.  Take the $i$th \n",
    "#   value to be an estimate of the $r_{xy}$ where $(N-i)/N$ of the probability \n",
    "#   distribution is larger than it.  For example the 95\\% upper bound would be \n",
    "#   at i/N = 0.95.  What is the 95% upper bound on $r_{xy}$ if there is not \n",
    "#   correlation between $X$ and $Y$?  We will call this $r_{0.95}$.\n",
    "#   In lecture we will find that the variance in this estimator is\n",
    "#\n",
    "#   Var[r_p] = \\frac{ 2 p (1-p) }{N f(r_p)^2 }\n",
    "#\n",
    "#   for large $N$ where $f(r)$ is the pdf of $r_{xy}$. \n",
    "#   Assuming that $r_{xy}$ is Gaussian distributed and its variance is the one \n",
    "#   you measure, what is the variance in your estimate of $r_{0.95}$?\n",
    "\n",
    "nr_xy = nr_xy[np.argsort(nr_xy[:,0])]\n",
    "\n",
    "print('CHECK!', nr_xy)\n"
   ]
  },
  {
   "cell_type": "code",
   "execution_count": 150,
   "metadata": {},
   "outputs": [
    {
     "name": "stdout",
     "output_type": "stream",
     "text": [
      "spearman -0.0020081060081060084\n",
      "spearman [[ 0.01371298  0.66492728]\n",
      " [-0.06081878  0.05452611]\n",
      " [ 0.00439239  0.88966631]\n",
      " ...\n",
      " [-0.04983309  0.11528689]\n",
      " [-0.02177616  0.49155174]\n",
      " [ 0.02442354  0.44041699]]\n"
     ]
    },
    {
     "data": {
      "image/png": "[encoded data removed]",
      "text/plain": [
       "<matplotlib.figure.Figure at 0x7f24e4c105c0>"
      ]
     },
     "metadata": {},
     "output_type": "display_data"
    },
    {
     "name": "stdout",
     "output_type": "stream",
     "text": [
      "kendall 0.01121121121121121\n",
      "kendall [[ 0.00318719  0.88004086]\n",
      " [ 0.00706707  0.73790064]\n",
      " [-0.00348348  0.86898536]\n",
      " ...\n",
      " [ 0.01951552  0.35544215]\n",
      " [ 0.01471071  0.48607123]\n",
      " [-0.00870871  0.68006928]]\n"
     ]
    },
    {
     "data": {
      "image/png": "[encoded data removed]",
      "text/plain": [
       "<matplotlib.figure.Figure at 0x7f24d8459ba8>"
      ]
     },
     "metadata": {},
     "output_type": "display_data"
    }
   ],
   "source": [
    "#7) Extra Credit: If you have time, do 1 through 3 for the Spearman and/or Kendall correlation coefficients.  \n",
    "#   There are Python functions for calculating them efficiently.  \n",
    "#   These are \"rank statistics\" that do not rely on any  assumption about the distribution of $X$ and $Y$ \n",
    "#   (in this case Gaussian) and are thus more widely applicable.  \n",
    "#   Do they indicate that the data in the home work is correlated?\n",
    "\n",
    "\n",
    "x = np.random.normal(0,1,1000)\n",
    "y = np.random.normal(0,1,1000)\n",
    "\n",
    "r_xy, p_xy = sp.stats.spearmanr(x,y)\n",
    "print('spearman', r_xy)\n",
    "\n",
    "\n",
    "#2) Repeat step 1 a thousand times to get a distribution of $r_{xy}$ for a sample \n",
    "#   size equal to that of the homework.\n",
    "\n",
    "n=1000\n",
    "\n",
    "X = np.random.normal(0,1,size=(n,n))\n",
    "Y = np.random.normal(0,1,size=(n,n))\n",
    "\n",
    "nr_xy = np.array([sp.stats.spearmanr(X[i],Y[i]) for i in range(n)])\n",
    "    \n",
    "print('spearman', nr_xy)\n",
    "\n",
    "#3) Plot a histogram of your  $r_{xy}$ values.\n",
    "\n",
    "\n",
    "_ = plt.hist(nr_xy[:,[0]], range=[-0.2,0.2], bins=50, alpha=0.5)\n",
    "_ = plt.title('spearman corr coeff dist')\n",
    "_ = plt.xlabel('spearman corr coeff')\n",
    "_ = plt.ylabel('cts')\n",
    "\n",
    "plt.show()\n",
    "\n",
    "#########################\n",
    "\n",
    "x = np.random.normal(0,1,1000)\n",
    "y = np.random.normal(0,1,1000)\n",
    "\n",
    "r_xy, p_xy = sp.stats.kendalltau(x,y)\n",
    "print('kendall', r_xy)\n",
    "\n",
    "#2) Repeat step 1 a thousand times to get a distribution of $r_{xy}$ for a sample \n",
    "#   size equal to that of the homework.\n",
    "\n",
    "n=1000\n",
    "\n",
    "X = np.random.normal(0,1,size=(n,n))\n",
    "Y = np.random.normal(0,1,size=(n,n))\n",
    "\n",
    "nr_xy = np.array([sp.stats.kendalltau(X[i],Y[i]) for i in range(n)])\n",
    "    \n",
    "print('kendall', nr_xy)\n",
    "\n",
    "#3) Plot a histogram of your  $r_{xy}$ values.\n",
    "\n",
    "_ = plt.hist(nr_xy[:,[0]], range=[-0.2,0.2], bins=50, alpha=0.5)\n",
    "_ = plt.title('kendall corr coeff dist')\n",
    "_ = plt.xlabel('kendall corr coeff')\n",
    "_ = plt.ylabel('cts')\n",
    "\n",
    "plt.show()"
   ]
  },
  {
   "cell_type": "code",
   "execution_count": null,
   "metadata": {},
   "outputs": [],
   "source": []
  },
  {
   "cell_type": "code",
   "execution_count": null,
   "metadata": {},
   "outputs": [],
   "source": []
  }
 ],
 "metadata": {
  "kernelspec": {
   "display_name": "Python 3",
   "language": "python",
   "name": "python3"
  },
  "language_info": {
   "codemirror_mode": {
    "name": "ipython",
    "version": 3
   },
   "file_extension": ".py",
   "mimetype": "text/x-python",
   "name": "python",
   "nbconvert_exporter": "python",
   "pygments_lexer": "ipython3",
   "version": "3.6.4"
  }
 },
 "nbformat": 4,
 "nbformat_minor": 2
}
