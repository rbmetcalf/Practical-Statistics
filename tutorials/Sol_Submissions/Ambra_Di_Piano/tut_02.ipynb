{
 "cells": [
  {
   "cell_type": "code",
   "execution_count": 5,
   "metadata": {},
   "outputs": [
    {
     "name": "stdout",
     "output_type": "stream",
     "text": [
      "How many trials?\n",
      "1000000\n",
      "Chances of winning if you do not change your pick and if you do (respectively):   [0.332671 0.667329]\n"
     ]
    }
   ],
   "source": [
    "# simulate the Monty-Hall Problem using numpy random function!!\n",
    "\n",
    "\n",
    "from numpy.random import randint\n",
    "import numpy as np\n",
    "\n",
    "n_doors = 3\n",
    "#trials = 10000000\n",
    "available_doors = [0,1,2]\n",
    "remain_doors = available_doors\n",
    "\n",
    "\n",
    "# set winner door\n",
    "win_door = np.random.choice(available_doors)\n",
    "\n",
    "\n",
    "print('How many trials?')\n",
    "trials_choice = input()\n",
    "trials_choice = int(trials_choice)\n",
    "\n",
    "results = np.zeros(2)\n",
    "\n",
    "for i in range(0,trials_choice) :\n",
    "    winner = randint(0,3)\n",
    "    choice = randint(0,3)\n",
    "    \n",
    "    if(choice == winner) :\n",
    "        # don't switch\n",
    "        results[0] = results[0] +1\n",
    "        \n",
    "    else :\n",
    "        # do switch\n",
    "        results[1] = results[1] +1\n",
    "        \n",
    "print('Chances of winning if you do not change your pick and if you do (respectively):  ', results/np.sum(results))\n"
   ]
  },
  {
   "cell_type": "code",
   "execution_count": null,
   "metadata": {},
   "outputs": [],
   "source": []
  },
  {
   "cell_type": "code",
   "execution_count": null,
   "metadata": {},
   "outputs": [],
   "source": []
  },
  {
   "cell_type": "code",
   "execution_count": null,
   "metadata": {},
   "outputs": [],
   "source": []
  },
  {
   "cell_type": "code",
   "execution_count": null,
   "metadata": {},
   "outputs": [],
   "source": []
  },
  {
   "cell_type": "code",
   "execution_count": null,
   "metadata": {},
   "outputs": [],
   "source": []
  },
  {
   "cell_type": "code",
   "execution_count": null,
   "metadata": {},
   "outputs": [],
   "source": []
  },
  {
   "cell_type": "code",
   "execution_count": null,
   "metadata": {},
   "outputs": [],
   "source": []
  },
  {
   "cell_type": "code",
   "execution_count": null,
   "metadata": {},
   "outputs": [],
   "source": []
  },
  {
   "cell_type": "code",
   "execution_count": null,
   "metadata": {},
   "outputs": [],
   "source": []
  },
  {
   "cell_type": "code",
   "execution_count": null,
   "metadata": {},
   "outputs": [],
   "source": []
  }
 ],
 "metadata": {
  "kernelspec": {
   "display_name": "Python 3",
   "language": "python",
   "name": "python3"
  },
  "language_info": {
   "codemirror_mode": {
    "name": "ipython",
    "version": 3
   },
   "file_extension": ".py",
   "mimetype": "text/x-python",
   "name": "python",
   "nbconvert_exporter": "python",
   "pygments_lexer": "ipython3",
   "version": "3.6.4"
  }
 },
 "nbformat": 4,
 "nbformat_minor": 2
}
