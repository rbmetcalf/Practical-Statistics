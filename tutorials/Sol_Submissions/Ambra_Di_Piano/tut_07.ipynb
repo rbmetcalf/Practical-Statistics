{
 "cells": [
  {
   "cell_type": "markdown",
   "metadata": {},
   "source": [
    "**Tutorial 7 - Monte Carlo Calculation $\\pi$**\n",
    "\n",
    "Here we will do a little warm up exercise in Monte Carlo calculations.\n"
   ]
  },
  {
   "cell_type": "markdown",
   "metadata": {},
   "source": [
    "1) Imagine a circle circumscribed by a square.  The probability of a random point within the square being inside the circle is equal to the ratio of the area of the circle to the area of the square.  Use a uniform random number generator to calculate the value of $\\pi$.  Use 1,000 and 10,000 points."
   ]
  },
  {
   "cell_type": "code",
   "execution_count": 2,
   "metadata": {},
   "outputs": [
    {
     "name": "stdout",
     "output_type": "stream",
     "text": [
      "CHECK! pi greco (n=1000) =  3.168 pi greco (n=10000) =  3.1204\n"
     ]
    }
   ],
   "source": [
    "import numpy as np\n",
    "import matplotlib.pyplot as plt\n",
    "import scipy as sp\n",
    "from scipy.special import gamma\n",
    "\n",
    "n = (1000, 10000)\n",
    "pi = np.empty(2)\n",
    "\n",
    "x = [np.random.uniform(0,1,n[i]) for i in range(len(n))]\n",
    "y = [np.random.uniform(0,1,n[i]) for i in range(len(n))]\n",
    "\n",
    "#print('CHECK! length x0 =', len(x[0]), 'CHECK! length x1 =', len(x[1]))\n",
    "#print('CHECK! length y0 =', len(y[0]), 'CHECK! length y1 =', len(y[1]))\n",
    "\n",
    "area = [np.sqrt(x[i]**2 + y[i]**2) for i in range(len(n))]\n",
    "\n",
    "#print('CHECK! length area0 =', len(area[0]), 'CHECK! length area1 =', len(area[1]))\n",
    "\n",
    "cts = [0,0]\n",
    "\n",
    "for i in range(len(n)) :\n",
    "\n",
    "    for a in area[i] :\n",
    "        cts[i] += 1 if a < 1.0 else 0\n",
    "        \n",
    "    pi[i] = 4 * (cts[i]/n[i])\n",
    "\n",
    "print('CHECK! pi greco (n=1000) = ', pi[0], 'pi greco (n=10000) = ', pi[1])\n"
   ]
  },
  {
   "cell_type": "markdown",
   "metadata": {},
   "source": [
    "2) Repeat the calculations above in a loop and record the values of $\\pi$.  Make a histogram of your calculated $\\pi$ values.  What is the variance of your estimate of $\\pi$ using 1,000 and 10,000?  How does it scale with the number of points?"
   ]
  },
  {
   "cell_type": "code",
   "execution_count": 3,
   "metadata": {},
   "outputs": [
    {
     "data": {
      "image/png": "[encoded data removed]",
      "text/plain": [
       "<matplotlib.figure.Figure at 0x7fe42b577390>"
      ]
     },
     "metadata": {},
     "output_type": "display_data"
    },
    {
     "name": "stdout",
     "output_type": "stream",
     "text": [
      "for n=100, pi var =  0.0025015424000000013 \n",
      "for n=1000, pi var =  0.002592001536000003 \n",
      "for n=10000, pi var =  0.002729280591360003\n"
     ]
    }
   ],
   "source": [
    "def MCpi(n) :\n",
    "\n",
    "    x = np.random.uniform(0,1,n) \n",
    "    y = np.random.uniform(0,1,n) \n",
    "    area = np.sqrt(x**2 + y**2) \n",
    "    cts = 0\n",
    "\n",
    "    for a in area :\n",
    "        cts += 1 if a < 1.0 else 0\n",
    "\n",
    "    pi = 4 * (cts/n)\n",
    "\n",
    "    return pi\n",
    "\n",
    "\n",
    "pi1 = [MCpi(1000) for i in range(100)]\n",
    "pi2 = [MCpi(1000) for i in range(1000)]\n",
    "pi3 = [MCpi(1000) for i in range(10000)]\n",
    "\n",
    "        \n",
    "\n",
    "#print('CHECK!', pi)\n",
    "plt.subplot(1,2,2)\n",
    "\n",
    "_ = plt.hist(pi1, range=[3, 3.5], bins=30, alpha=1, zorder=2, log=True, label='n=100')\n",
    "_ = plt.hist(pi2, range=[3, 3.5], bins=30, alpha=1, zorder=1, log=True, label='n=1000')\n",
    "_ = plt.hist(pi3, range=[3, 3.5], bins=30, alpha=1, zorder=0, log=True, label='n=10000')\n",
    "_ = plt.xlabel(r'$\\pi$')\n",
    "_ = plt.ylabel('cts')\n",
    "_ = plt.legend(loc=0)\n",
    "\n",
    "plt.subplot(1,2,1)\n",
    "\n",
    "_ = plt.hist(pi1, range=[3, 3.5], bins=30, alpha=1, zorder=2, label='n=100')\n",
    "_ = plt.hist(pi2, range=[3, 3.5], bins=30, alpha=1, zorder=1, label='n=1000')\n",
    "_ = plt.hist(pi3, range=[3, 3.5], bins=30, alpha=1, zorder=0, label='n=10000')\n",
    "_ = plt.xlabel(r'$\\pi$')\n",
    "_ = plt.ylabel('cts')\n",
    "_ = plt.legend(loc=0)\n",
    "\n",
    "plt.show()\n",
    "\n",
    "var1 = np.var(pi1)\n",
    "var2 = np.var(pi2)\n",
    "var3 = np.var(pi3)\n",
    "\n",
    "print('for n=100, pi var = ', var1, '\\nfor n=1000, pi var = ', var2, '\\nfor n=10000, pi var = ', var3)"
   ]
  },
  {
   "cell_type": "markdown",
   "metadata": {},
   "source": [
    "3) What was done above in two dimensions can be done in more dimensions.  Calculate the volume of a 5 dimensional ball of unit radius in the same way.  Calculate its variance of your estimate in the same way.  Use enough points to get three significant figures."
   ]
  },
  {
   "cell_type": "code",
   "execution_count": 9,
   "metadata": {},
   "outputs": [
    {
     "data": {
      "image/png": "[encoded data removed]",
      "text/plain": [
       "<matplotlib.figure.Figure at 0x7fe422d54fd0>"
      ]
     },
     "metadata": {},
     "output_type": "display_data"
    }
   ],
   "source": [
    "\n",
    "# vol1 = pi^n/2 * R^n / gamma(n/2+1 ) \n",
    "# vol2 = (2R)^n\n",
    "# pi = 2^2 * gamma(n/2+1)^2/n * cts/tot\n",
    "\n",
    "def MCpi_multi(d,n) :\n",
    "\n",
    "    x = np.random.uniform(0,1,(d,n)) \n",
    "    area = [np.sqrt(np.sum(x[i]**2 for i in range(d))) for i in range(n)]\n",
    "    cts = 0\n",
    "\n",
    "    for a in area[i] :\n",
    "        cts += 1 if a < 1.0 else 0\n",
    "\n",
    "    pi = 4 * (sp.special.gamma(d/2+1) * (cts/n))**(2/d)\n",
    "\n",
    "    return pi\n",
    "                   \n",
    "pi1_array = [MCpi_multi(5,100) for i in range(1000)]\n",
    "pi2_array = [MCpi_multi(5,1000) for i in range(1000)]\n",
    "pi3_array = [MCpi_multi(5,10000) for i in range(1000)]\n",
    "\n",
    "\n",
    "                   \n",
    "#print('CHECK!', pi_array)\n",
    "                   \n",
    "_ = plt.hist(pi1_array, range=[3, 3.5], bins=30, alpha=0.5, zorder=2, label='d=5, n=100')\n",
    "_ = plt.hist(pi2_array, range=[3, 3.5], bins=30, alpha=0.5, zorder=1, label='d=5, n=1000')\n",
    "_ = plt.hist(pi3_array, range=[3, 3.5], bins=30, alpha=0.5, zorder=0, label='d=5, n=10000')\n",
    "_ = plt.xlabel(r'$\\pi$')\n",
    "_ = plt.ylabel('cts')\n",
    "_ = plt.legend(loc=0)\n",
    "\n",
    "plt.show()\n"
   ]
  },
  {
   "cell_type": "code",
   "execution_count": null,
   "metadata": {},
   "outputs": [],
   "source": []
  },
  {
   "cell_type": "code",
   "execution_count": null,
   "metadata": {},
   "outputs": [],
   "source": []
  }
 ],
 "metadata": {
  "kernelspec": {
   "display_name": "Python 3",
   "language": "python",
   "name": "python3"
  },
  "language_info": {
   "codemirror_mode": {
    "name": "ipython",
    "version": 3
   },
   "file_extension": ".py",
   "mimetype": "text/x-python",
   "name": "python",
   "nbconvert_exporter": "python",
   "pygments_lexer": "ipython3",
   "version": "3.6.4"
  }
 },
 "nbformat": 4,
 "nbformat_minor": 2
}
