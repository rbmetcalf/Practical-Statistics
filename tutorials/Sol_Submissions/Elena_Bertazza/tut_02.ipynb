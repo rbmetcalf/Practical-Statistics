{
 "cells": [
  {
   "cell_type": "code",
   "execution_count": null,
   "metadata": {},
   "outputs": [],
   "source": [
    "# simulate the Monty-Hall Problem using numpy random function!!\n",
    "import numpy as np\n",
    "trials=100\n",
    "win=0\n",
    "#switch?\n",
    "answer= input('will you switch? y/n ')\n",
    "if answer=='y':\n",
    "    sw=True\n",
    "elif answer =='n':\n",
    "    sw= False\n",
    "else:\n",
    "    sw = 5\n",
    "    print('answer properly!')\n",
    "    \n",
    "if sw== True or sw== False:\n",
    "    for i in range(trials):\n",
    "        print('+++++ trial number ' +str(i+1)+' +++++')\n",
    "        car=np.random.randint(0,3)\n",
    "        choice=np.random.randint(0,3)\n",
    "        print ('car is behind door '+str(car))\n",
    "        print ('i choose door ' +str(choice))\n",
    "        remove= np.random.randint(0,3)\n",
    "        while remove==choice or remove==car:\n",
    "            remove = np.random.randint(0,3)\n",
    "        print ('monty hall removes door',remove)\n",
    "#switch\n",
    "        if sw==True:\n",
    "            for j in range(0,3):\n",
    "                if j !=choice and j!= remove:\n",
    "                    switch=j\n",
    "            print('i switch to door '+str(switch))\n",
    "            if switch == car:\n",
    "                win=win+1\n",
    "                print('i won!')\n",
    "            else:\n",
    "                print('i lost')\n",
    "#no switch\n",
    "        if sw==False:\n",
    "            if choice == car:\n",
    "                win=win+1\n",
    "                print('i won!')\n",
    "            else:\n",
    "                print('i lost')\n",
    "    prob=win/trials\n",
    "    print('====== chances of winning: '+str(prob)+' ======')\n",
    "    "
   ]
  },
  {
   "cell_type": "code",
   "execution_count": null,
   "metadata": {},
   "outputs": [],
   "source": []
  },
  {
   "cell_type": "code",
   "execution_count": null,
   "metadata": {},
   "outputs": [],
   "source": []
  },
  {
   "cell_type": "code",
   "execution_count": null,
   "metadata": {},
   "outputs": [],
   "source": []
  },
  {
   "cell_type": "code",
   "execution_count": null,
   "metadata": {},
   "outputs": [],
   "source": []
  }
 ],
 "metadata": {
  "kernelspec": {
   "display_name": "Python 3",
   "language": "python",
   "name": "python3"
  },
  "language_info": {
   "codemirror_mode": {
    "name": "ipython",
    "version": 3
   },
   "file_extension": ".py",
   "mimetype": "text/x-python",
   "name": "python",
   "nbconvert_exporter": "python",
   "pygments_lexer": "ipython3",
   "version": "3.6.4"
  }
 },
 "nbformat": 4,
 "nbformat_minor": 2
}
