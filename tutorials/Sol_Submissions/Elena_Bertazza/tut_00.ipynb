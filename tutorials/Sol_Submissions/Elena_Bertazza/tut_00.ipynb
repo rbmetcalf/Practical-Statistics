{
 "cells": [
  {
   "cell_type": "code",
   "execution_count": 20,
   "metadata": {},
   "outputs": [
    {
     "name": "stdout",
     "output_type": "stream",
     "text": [
      "3.141592653589793\n",
      "['1', '4', '1', '5', '9', '2', '6', '5', '3', '5']\n",
      "(10,)\n",
      "<class 'list'>\n",
      "1\n",
      "5\n",
      "5\n",
      "[1, 4, 1, 5, 9, 2, 6, 5, 3, 5, 8]\n",
      "4.454545454545454\n",
      "5.0\n"
     ]
    }
   ],
   "source": [
    "#Tutorial number 0:-\n",
    "\n",
    "#import packadge numpy\n",
    "import numpy as np\n",
    "#print the PI and assign it to string varaible PI_str\n",
    "print(np.pi)\n",
    "pi_str=str(np.pi)\n",
    "#create a list called PI_digits of the first 10 decimal digits of PI using string methods.\n",
    "pi_digits=[]\n",
    "for i in range(10):\n",
    "    pi_digits.append(pi_str[i+2])\n",
    "#print the shape, type and  elements number (0, 3, 7) of the array PI_digits\n",
    "print(np.shape(np.array(pi_digits)))\n",
    "print(type(pi_digits))\n",
    "print(pi_digits[0])\n",
    "print(pi_digits[3])\n",
    "print(pi_digits[7])\n",
    "#append to PI_digits the 11th digit \n",
    "pi_digits.append(pi_str[12])\n",
    "#print the mean and the median of PI_digits\n",
    "for i in range(len(pi_digits)):\n",
    "    pi_digits[i]=int(pi_digits[i])\n",
    "print(np.mean(pi_digits))\n",
    "print(np.median(pi_digits))"
   ]
  },
  {
   "cell_type": "code",
   "execution_count": null,
   "metadata": {},
   "outputs": [],
   "source": []
  },
  {
   "cell_type": "code",
   "execution_count": null,
   "metadata": {},
   "outputs": [],
   "source": []
  }
 ],
 "metadata": {
  "kernelspec": {
   "display_name": "Python 3",
   "language": "python",
   "name": "python3"
  },
  "language_info": {
   "codemirror_mode": {
    "name": "ipython",
    "version": 3
   },
   "file_extension": ".py",
   "mimetype": "text/x-python",
   "name": "python",
   "nbconvert_exporter": "python",
   "pygments_lexer": "ipython3",
   "version": "3.6.4"
  }
 },
 "nbformat": 4,
 "nbformat_minor": 2
}
