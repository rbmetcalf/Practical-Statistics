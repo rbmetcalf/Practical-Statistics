{
 "cells": [
  {
   "cell_type": "code",
   "execution_count": 103,
   "metadata": {},
   "outputs": [
    {
     "name": "stdout",
     "output_type": "stream",
     "text": [
      "The game has been played 100000 times.\n",
      "If you change the door, you have a 66.633% to win the car.\n",
      "\n",
      "~~~ Your last game ~~~\n",
      "\n",
      "There are three doors: A, B and C. You chose letter C.\n",
      "Monthy shows you that behind door B there is a goat. Do you you want to change your door?\n",
      "Well, if you change, you win a beautiful car!\n",
      "If you don't, you win a graceful goat!\n"
     ]
    }
   ],
   "source": [
    "# simulate the Monty-Hall Problem using numpy random function!!\n",
    "\n",
    "'''\n",
    "from numpy.random import randint\n",
    "import numpy as np\n",
    "\n",
    "results = np.zeros(2)\n",
    "\n",
    "for i in range range (0, 100000) :\n",
    "    winner = ranint(0,3)\n",
    "    choiche = randint(0,3)\n",
    "    \n",
    "    if choice == winner :\n",
    "        ### don't switch\n",
    "        results[0] = results[0] + 1\n",
    "    \n",
    "    else :\n",
    "        ### do switch\n",
    "        results[1] = results[1] + 1\n",
    "\n",
    "print (results/np.sum(results))\n",
    "'''\n",
    "\n",
    "#~~~~~~~~~~~~~~~~~~~~~~~~~~~~~~~~~~~~~~~~~~~~~~~~~~~~~~~~~~~~~~~~~~~~~~~~~~~~~~~~~~~~~~~~~~~~~~~~~~~~~\n",
    "#~~~~~~~~~~~~~~~~~~~~~~~~~~~~~~~~~~~~~~~~~~~~~~~~~~~~~~~~~~~~~~~~~~~~~~~~~~~~~~~~~~~~~~~~~~~~~~~~~~~~~\n",
    "#~~~~~~~~~~~~~~~~~~~~~~~~~~~~~~~~~~~~~~~~~~~~~~~~~~~~~~~~~~~~~~~~~~~~~~~~~~~~~~~~~~~~~~~~~~~~~~~~~~~~~\n",
    "\n",
    "import numpy as np\n",
    "\n",
    "doors = ['A', 'B', 'C']\n",
    "\n",
    "good_change = 0\n",
    "bad_change = 0\n",
    "\n",
    "N_times = 100000\n",
    "\n",
    "for i in range (0, N_times):\n",
    "    \n",
    "    car_door    = np.random.choice(doors)\n",
    "    choice_door = np.random.choice(doors)\n",
    "\n",
    "    monthy_doors = list(doors)\n",
    "    monthy_doors.remove(car_door)\n",
    "    if car_door != choice_door:\n",
    "        monthy_doors.remove(choice_door)\n",
    "\n",
    "    open_door = np.random.choice(monthy_doors)\n",
    "\n",
    "    closed_doors = list(doors)\n",
    "    closed_doors.remove(open_door)\n",
    "\n",
    "    final_door_move = list(closed_doors)\n",
    "    final_door_move.remove(choice_door)\n",
    "    \n",
    "    final_door_move = final_door_move[0]\n",
    "    final_door_nomove = choice_door\n",
    "\n",
    "    if final_door_move == car_door:\n",
    "        move_prize = 'car!'\n",
    "        nomove_prize = 'goat!'\n",
    "        good_change = good_change+1\n",
    "    else:\n",
    "        move_prize ='goat!'\n",
    "        nomove_prize = 'car!'\n",
    "        bad_change = bad_change+1\n",
    "\n",
    "print(\"The game has been played \" + str(N_times) + \" times.\")\n",
    "print(\"If you change the door, you have a \" + str(good_change/N_times*100.) + \"% to win the car.\")\n",
    "print('')\n",
    "print(\"~~~ Your last game ~~~\")\n",
    "print('')\n",
    "print(\"There are three doors: A, B and C. You chose letter \" + choice_door + \".\")\n",
    "print(\"Monthy shows you that behind door \" + open_door + \" there is a goat. Do you you want to change your door?\")\n",
    "print(\"Well, if you change, you win a beautiful \" + move_prize)\n",
    "print(\"If you don't, you win a graceful \" + nomove_prize)"
   ]
  },
  {
   "cell_type": "raw",
   "metadata": {},
   "source": []
  }
 ],
 "metadata": {
  "kernelspec": {
   "display_name": "Python 3",
   "language": "python",
   "name": "python3"
  },
  "language_info": {
   "codemirror_mode": {
    "name": "ipython",
    "version": 3
   },
   "file_extension": ".py",
   "mimetype": "text/x-python",
   "name": "python",
   "nbconvert_exporter": "python",
   "pygments_lexer": "ipython3",
   "version": "3.6.4"
  }
 },
 "nbformat": 4,
 "nbformat_minor": 2
}
