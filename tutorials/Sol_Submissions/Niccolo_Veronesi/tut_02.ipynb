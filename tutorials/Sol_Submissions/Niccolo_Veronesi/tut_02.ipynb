{
 "cells": [
  {
   "cell_type": "code",
   "execution_count": 27,
   "metadata": {},
   "outputs": [
    {
     "name": "stdout",
     "output_type": "stream",
     "text": [
      "[1]\n",
      "2\n",
      "If you do not switch your door your chance to win is 33.39 percent\n"
     ]
    }
   ],
   "source": [
    "# simulate the Monty-Hall Problem using numpy random function!!\n",
    "import numpy as np\n",
    "\n",
    "num_doors=3\n",
    "trials=10000\n",
    "switch=False\n",
    "chances_winning=0\n",
    "\n",
    "for i in range(trials):\n",
    "    \n",
    "    closed_doors=[0,1,2]\n",
    "    winning_door=np.random.randint(0,num_doors)\n",
    "    choice=np.random.randint(0,num_doors)\n",
    "    \n",
    "    while len(closed_doors)>2:\n",
    "        removed_door=np.random.randint(0,num_doors)\n",
    "        if removed_door==winning_door or removed_door==choice:\n",
    "            continue\n",
    "            \n",
    "        closed_doors.remove(removed_door)\n",
    "        \n",
    "        \n",
    "    if switch==False:\n",
    "        guess=[choice]\n",
    "      \n",
    "    else:\n",
    "        second_removed_door=choice\n",
    "        closed_doors.remove(second_removed_door)\n",
    "        guess=closed_doors\n",
    "    list_winning_door=[winning_door] # I created this list in order to be compared with guess (which is a list)\n",
    "    if guess == list_winning_door:\n",
    "            chances_winning += 1\n",
    "\n",
    "if switch==True:\n",
    "    verb='do'\n",
    "else:\n",
    "    verb='do not'\n",
    "print(guess)\n",
    "print(winning_door)\n",
    "print('If you '+ verb + ' switch your door your chance to win is '+str((chances_winning/trials)*100)+' percent')\n",
    "\n",
    "\n"
   ]
  },
  {
   "cell_type": "code",
   "execution_count": null,
   "metadata": {},
   "outputs": [],
   "source": []
  },
  {
   "cell_type": "code",
   "execution_count": null,
   "metadata": {},
   "outputs": [],
   "source": []
  },
  {
   "cell_type": "code",
   "execution_count": null,
   "metadata": {},
   "outputs": [],
   "source": []
  }
 ],
 "metadata": {
  "kernelspec": {
   "display_name": "Python 3",
   "language": "python",
   "name": "python3"
  },
  "language_info": {
   "codemirror_mode": {
    "name": "ipython",
    "version": 3
   },
   "file_extension": ".py",
   "mimetype": "text/x-python",
   "name": "python",
   "nbconvert_exporter": "python",
   "pygments_lexer": "ipython3",
   "version": "3.6.4"
  }
 },
 "nbformat": 4,
 "nbformat_minor": 2
}
