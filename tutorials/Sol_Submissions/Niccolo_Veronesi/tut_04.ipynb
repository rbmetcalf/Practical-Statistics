{
 "cells": [
  {
   "cell_type": "markdown",
   "metadata": {},
   "source": [
    "\n",
    "# Tutorial 4 - Calculating Significance by Monte Carlo\n",
    "\n",
    "In the homework you should have found the correlation coefficients for some data.  \n",
    "The Pearson Correlation Coefficient is\n",
    "\\begin{align}\n",
    "r_{xy} = \\frac{1}{N}\\frac{ \\sum_i (x_i - \\bar{x} ) (y_i - \\bar{y}) }{ \\sqrt{ S^2_x S^2_y} }\n",
    "\\end{align}\n",
    "where\n",
    "\\begin{align}\n",
    "\\bar{x} = \\frac{1}{N}\\sum_i x_i ~~~~ S^2_x = \\frac{1}{(N-1)} \\sum_i ( x_i - \\bar{x} )\n",
    "\\end{align}\n",
    "\n",
    "A non-zero $r_{xy}$ should indicate that there is a correlation between $x$ and $y$.\n",
    "$r_{xy}$ is an estimator of the populations true correlation coefficient\n",
    "\\begin{align}\n",
    "\\rho_{xy} = \\frac{C_{XY}}{\\sqrt{\\sigma^2_x \\sigma_y^2} }\n",
    "\\end{align}\n",
    "\n",
    "But $r_{xy}$ is a function of random variables so we would not expect it to be exactly 0 \n",
    "even if there were no correlations.  We could try to calculate the probability distribution of \n",
    "$r_{xy}$ analytically, but this might be difficult (more on this in lecture).\n",
    "\n",
    "##  Monte Carlo\n",
    "\n",
    "Instead lets find the significance of your measured $r_{xy}$ by Monte Carlo given the hypothesis that \n",
    "$x$ and $y$ are not correlated.\n",
    "\n",
    "\n",
    "1. Create two vectors (X and Y) of random normally distributed numbers with variance 1 and mean zero.  Each vector should be 1000 elements long as was the data in the homework.  Calculate $r_{xy}$ for these.  X and Y \n",
    "are uncorrelated since they where generated independently.\n",
    "\n",
    "2. Repeat step 1 a thousand times to get a distribution of $r_{xy}$.  You should to this in a loop.  There is no reason to save all the X's and Y's.\n",
    "\n",
    "3. Plot a histogram of your  $r_{xy}$ values.  Does it look Gaussian?\n",
    "\n",
    "4. What is the fraction of times $|r_{xy}|$ is larger than 0.025, 0.05, 0.08?  Would you expect to get this value if there were no correlation? Calculate the rxy for the homework set homework_01_2d-datafile.csv?  Would you expect to get this value if there were no correlation?\n",
    "\n",
    "5. Do the exercise above over but this time use the measured $S^2_x$, $S^2_y$, $\\bar{x}$ and $\\bar{y}$ from homework\\_01\\_2d-datafile.csv  to generate the  X and Y variables.   Plot the new histogram of $r_{xy}$ over the old one.   Is there a difference or is the distribution of $r_{xy}$ independent of the averages and variances of the distributions?\n",
    "\n",
    "6. Order your sample of $r_{xy}$'s from smallest to largest.  Take the $i$th value to be an estimate of the $r_{xy}$ where $(N-i)/N$ of the probability distribution is larger than it.  For example the 95\\% upper bound would be at $i/N = 0.95$.  What is the 95\\% upper bound on $r_{xy}$ if there is no correlation between $X$ and $Y$?  We will call this $r_{0.95}$.\n",
    "In lecture we will find that the variance in this estimator is\n",
    "\\begin{align}\n",
    "Var[r_p] = \\frac{2 p (1-p) }{N f(r_p)^2 }\n",
    "\\end{align}\n",
    "for large $N$ where $f(r)$ is the pdf of $r_{xy}$. \n",
    "Assuming that $r_{xy}$ is Gaussian distributed and its variance is the one you measure, what is the variance in your estimate of $r_{0.95}$?\n",
    "\n",
    "7. Extra Credit: If you have time, do 1 through 3 for the Spearman and/or Kendall correlation coefficients.  There are Python functions for calculating them efficiently.  These are \"rank statistics\" that do not rely on any  assumption about the distribution of $X$ and $Y$ (in this case Gaussian) and are thus more widely applicable.  Do they indicate that the data in the home work is correlated?\n"
   ]
  },
  {
   "cell_type": "code",
   "execution_count": 21,
   "metadata": {},
   "outputs": [
    {
     "name": "stdout",
     "output_type": "stream",
     "text": [
      "-0.04035947142215071\n"
     ]
    }
   ],
   "source": [
    "#Tutorial # 04\n",
    "## Calculating Significance by Monte Carlo\n",
    "##\n",
    "## More complete directions for this tutorial are in tut4.pdf\n",
    "##\n",
    "import numpy as np\n",
    "import pandas as pd\n",
    "import matplotlib.pyplot as plt\n",
    "import scipy.stats as ss\n",
    "%matplotlib inline \n",
    "np.random.seed(42)\n",
    "#1) Calculate two vectors (X and Y) of random normally distributed numbers \n",
    "#   with variance 1 and mean zero.  Each vector should be 1000 elements long \n",
    "#   as was the data in the homework.  Calculate $r_{xy}$ for these.\n",
    "size=1000\n",
    "X=np.random.normal(loc=0,scale=1,size=size)\n",
    "Y=np.random.normal(loc=0,scale=1,size=size)\n",
    "Sxsq=np.sum((X-np.mean(X))**2)/(size-1)\n",
    "Sysq=np.sum((Y-np.mean(Y))**2)/(size-1)\n",
    "rxy=np.sum((X-np.mean(X))*(Y-np.mean(Y)))/(size*np.sqrt(Sxsq*Sysq))\n",
    "print(rxy)"
   ]
  },
  {
   "cell_type": "code",
   "execution_count": 30,
   "metadata": {},
   "outputs": [],
   "source": [
    "#2) Repeat step 1 a thousand times to get a distribution of $r_{xy}$ for a sample \n",
    "#   size equal to that of the homework.\n",
    "iterations=1000\n",
    "rxy_1=np.empty(iterations)\n",
    "for i in range(iterations):\n",
    "    X_1=np.random.normal(loc=0,scale=1,size=size)\n",
    "    Y_1=np.random.normal(loc=0,scale=1,size=size)\n",
    "    Sxsq=np.sum((X_1-np.mean(X_1))**2)/(size-1)\n",
    "    Sysq=np.sum((Y_1-np.mean(Y_1))**2)/(size-1)\n",
    "    rxy_1[i]=np.sum((X_1-np.mean(X_1))*(Y_1-np.mean(Y_1)))/(size*np.sqrt(Sxsq*Sysq))    "
   ]
  },
  {
   "cell_type": "code",
   "execution_count": 31,
   "metadata": {},
   "outputs": [
    {
     "data": {
      "image/png": "[encoded data removed]",
      "text/plain": [
       "<matplotlib.figure.Figure at 0x115e21240>"
      ]
     },
     "metadata": {},
     "output_type": "display_data"
    }
   ],
   "source": [
    "#3) Plot a histogram of your  $r_{xy}$ values.\n",
    "plt.hist(rxy_1,bins=int(np.sqrt(len(rxy_1))),alpha=0.5,edgecolor='blue')\n",
    "plt.show()"
   ]
  },
  {
   "cell_type": "code",
   "execution_count": 32,
   "metadata": {},
   "outputs": [
    {
     "name": "stdout",
     "output_type": "stream",
     "text": [
      "The fraction of times |rxy| of random normal distributed values is larger than 0.025 is 0.447\n",
      "The fraction of times |rxy| of random normal distributed values is larger than 0.05 is 0.121\n",
      "The fraction of times |rxy| of random normal distributed values is larger than 0.08 is 0.01\n",
      "The fraction decreases if |rxy| increases, this means that the variables are not correlated, because a very small    fraction of iterations will generate a |rxy| close to 1\n",
      "\n",
      "And now the same thing will be done using the data from homework_01_2d-datafile.csv\n",
      "The value of rxy for homework_01_2d-datafile.csv is 0.9484965806973131\n",
      "The fraction of times |rxy| of random normal distributed values is larger than the value of |rxy| calculate using the data from homework_01_2d-datafile.csv is 0.0\n",
      "The variables from the homework csv file are correlated. It is nearly impossible for two random variables to have the same |rxy| of the correlated ones.\n"
     ]
    }
   ],
   "source": [
    "#4) What is the fraction of times $|r_{xy}|$ is larger than your measured value \n",
    "#   for homework_01_2d-datafile.csv ?  Would you expect to find this if there \n",
    "#   were no correlation?\n",
    "frac_0025=sum(np.abs(rxy_1)>0.025)/iterations\n",
    "print('The fraction of times |rxy| of random normal distributed values is larger than 0.025 is '+str(frac_0025))\n",
    "frac_005=sum(np.abs(rxy_1)>0.05)/iterations\n",
    "print('The fraction of times |rxy| of random normal distributed values is larger than 0.05 is '+str(frac_005))\n",
    "frac_008=sum(np.abs(rxy_1)>0.08)/iterations\n",
    "print('The fraction of times |rxy| of random normal distributed values is larger than 0.08 is '+str(frac_008))\n",
    "print('The fraction decreases if |rxy| increases, this means that the variables are not correlated, because a very small    fraction of iterations will generate a |rxy| close to 1')\n",
    "print( )\n",
    "print('And now the same thing will be done using the data from homework_01_2d-datafile.csv')\n",
    "data_2d=pd.read_csv('homework_01_2d-datafile.csv')\n",
    "#print(data_2d.head())\n",
    "X_2=data_2d['X']\n",
    "Y_2=data_2d['Y']\n",
    "Sxsq_2=np.sum((X_2-np.mean(X_2))**2)/(len(X_2)-1)\n",
    "Sysq_2=np.sum((Y_2-np.mean(Y_2))**2)/(len(Y_2)-1)\n",
    "rxy_2=np.sum((X_2-np.mean(X_2))*(Y_2-np.mean(Y_2)))/(len(X_2)*np.sqrt(Sxsq_2*Sysq_2))\n",
    "print('The value of rxy for homework_01_2d-datafile.csv is ' +str(rxy_2))\n",
    "frac_rxy_home=sum(np.abs(rxy_1)>rxy_2)/iterations\n",
    "print('The fraction of times |rxy| of random normal distributed values is larger than the value of |rxy| calculate using the data from homework_01_2d-datafile.csv is '+str(frac_rxy_home))\n",
    "#I tried to perform 1 milion iterations, but this last fraction has always a value of 0.0\n",
    "print('The variables from the homework csv file are correlated. It is nearly impossible for two random variables to have the same |rxy| of the correlated ones.')\n",
    "\n",
    "\n"
   ]
  },
  {
   "cell_type": "code",
   "execution_count": 16,
   "metadata": {},
   "outputs": [
    {
     "data": {
      "image/png": "[encoded data removed]",
      "text/plain": [
       "<matplotlib.figure.Figure at 0x115d09828>"
      ]
     },
     "metadata": {},
     "output_type": "display_data"
    },
    {
     "name": "stdout",
     "output_type": "stream",
     "text": [
      "The two histograms show that there is no dependence on the mean and the variance of the variables in the value of    rxy, as long as the variables are generated as normally distributed\n"
     ]
    }
   ],
   "source": [
    "#5) Do the exersize over but this time use the measured $S^2_x$, $S^2_y$, $\\bar{x}$ \n",
    "#   and $\\bar{y}$ from homework\\_01\\_2d-datafile.csv  to generate the  X and Y \n",
    "#   variables.  Does this make any difference?\n",
    "mean_X_2=np.mean(X_2)\n",
    "mean_Y_2=np.mean(Y_2)\n",
    "std_X_2=np.std(X_2)\n",
    "std_Y_2=np.std(Y_2)\n",
    "rxy_3=np.empty(iterations)\n",
    "for i in range(iterations):\n",
    "    X_3=np.random.normal(loc=mean_X_2,scale=std_X_2,size=len(X_2))\n",
    "    Y_3=np.random.normal(loc=mean_Y_2,scale=std_Y_2,size=len(Y_2))\n",
    "    Sxsq_3=np.sum((X_3-np.mean(X_2))**2)/(len(X_3)-1)\n",
    "    Sysq_3=np.sum((Y_3-np.mean(Y_2))**2)/(len(Y_3)-1)\n",
    "    rxy_3[i]=np.sum((X_3-np.mean(X_2))*(Y-np.mean(Y_2)))/(len(X_3)*np.sqrt(Sxsq_3*Sysq_3))\n",
    "plt.hist(rxy_1,bins=int(np.sqrt(len(rxy_1))),alpha=0.5,edgecolor='blue',label='Old data')\n",
    "plt.hist(rxy_3,bins=int(np.sqrt(len(rxy_3))),alpha=0.5,color='green',edgecolor='green',label='New data')\n",
    "plt.legend()\n",
    "plt.show()\n",
    "print('The two histograms show that there is no dependence on the mean and the variance of the variables in the value of    rxy, as long as the variables are generated as normally distributed')"
   ]
  },
  {
   "cell_type": "code",
   "execution_count": 22,
   "metadata": {},
   "outputs": [
    {
     "name": "stdout",
     "output_type": "stream",
     "text": [
      "The five percent of the values in the rxy distribution is above rxy= 0.05537390291239271\n",
      "The variance of this value of rxy is 1.039651961184568e-05\n"
     ]
    }
   ],
   "source": [
    "#6) Order your sample of $r_{xy}$'s from smallest to largest.  Take the $i$th \n",
    "#   value to be an estimate of the $r_{xy}$ where $(N-i)/N$ of the probability \n",
    "#   distribution is larger than it.  For example the 95\\% upper bound would be \n",
    "#   at i/N = 0.95.  What is the 95% upper bound on $r_{xy}$ if there is not \n",
    "#   correlation between $X$ and $Y$?  We will call this $r_{0.95}$.\n",
    "#   In lecture we will find that the variance in this estimator is\n",
    "#\n",
    "#   Var[r_p] = \\frac{ 2 p (1-p) }{N f(r_p)^2 }\n",
    "#\n",
    "#   for large $N$ where $f(r)$ is the pdf of $r_{xy}$. \n",
    "#   Assuming that $r_{xy}$ is Gaussian distributed and its variance is the one \n",
    "#   you measure, what is the variance in your estimate of $r_{0.95}$?\n",
    "percent=0.95\n",
    "sorted_rxy=np.sort(rxy_1)\n",
    "i=int(percent*iterations)\n",
    "rxy_095=sorted_rxy[i]\n",
    "print('The five percent of the values in the rxy distribution is above rxy= '+str(rxy_095))\n",
    "var_rxy_095=2*percent*(1-percent)/(iterations*(ss.norm.pdf(rxy_095, loc=np.mean(rxy_1),scale=np.std(rxy_1)))**2)\n",
    "print('The variance of this value of rxy is '+str(var_rxy_095))"
   ]
  },
  {
   "cell_type": "code",
   "execution_count": 44,
   "metadata": {},
   "outputs": [
    {
     "name": "stdout",
     "output_type": "stream",
     "text": [
      "The Spearman correlation coefficient for the first two randomly generated variables is -0.06376473976473977\n",
      "The Kendall correlation coefficient for the first two randomly generated variables is -0.04382782782782783\n",
      "\n",
      "Now the program will show the distribution of the two coefficients as it has been done for rxy in point 3: \n"
     ]
    },
    {
     "data": {
      "image/png": "[encoded data removed]",
      "text/plain": [
       "<matplotlib.figure.Figure at 0x115ce1828>"
      ]
     },
     "metadata": {},
     "output_type": "display_data"
    },
    {
     "name": "stdout",
     "output_type": "stream",
     "text": [
      "\n",
      "The Spearman coefficient for the data in the homework is 0.9404303804303806\n",
      "The Kendall coefficient for the data in the homework is 0.7919839839839841\n",
      "These two values surely indicate a correlation, in particular the Spearman coefficient is very close to one, even if both are minor to rxy\n"
     ]
    }
   ],
   "source": [
    "#7) Extra Credit: If you have time, do 1 through 3 for the Spearman and/or Kendall correlation coefficients.  \n",
    "#   There are Python functions for calculating them efficiently.  \n",
    "#   These are \"rank statistics\" that do not rely on any  assumption about the distribution of $X$ and $Y$ \n",
    "#   (in this case Gaussian) and are thus more widely applicable.  \n",
    "#   Do they indicate that the data in the home work is correlated?\n",
    "rho,pvalsp=ss.spearmanr(X,Y)\n",
    "print('The Spearman correlation coefficient for the first two randomly generated variables is '+str(rho))\n",
    "tau,pvalke=ss.kendalltau(X,Y)\n",
    "print('The Kendall correlation coefficient for the first two randomly generated variables is '+str(tau))\n",
    "print( )\n",
    "\n",
    "\n",
    "print('Now the program will show the distribution of the two coefficients as it has been done for rxy in point 3: ')\n",
    "rho_1=np.empty(iterations)\n",
    "tau_1=np.empty(iterations)\n",
    "for i in range(iterations):\n",
    "    X_4=np.random.normal(loc=0,scale=1,size=size)\n",
    "    Y_4=np.random.normal(loc=0,scale=1,size=size)\n",
    "    rho_1[i],pvalsp_1=ss.spearmanr(X_4,Y_4)\n",
    "    tau_1[i],pvalken_1=ss.kendalltau(X_4,Y_4)\n",
    "plt.hist(rho_1,bins=int(np.sqrt(len(rho_1))),alpha=0.5,edgecolor='blue',label='Distribution of the Spearman coefficient')\n",
    "plt.hist(tau_1,bins=int(np.sqrt(len(tau_1))),alpha=0.5,color='green',edgecolor='green',label='Distribution of the Kendall coefficient')\n",
    "plt.legend()\n",
    "plt.show()\n",
    "print()\n",
    "\n",
    "\n",
    "rho_2,pvalsp_2=ss.spearmanr(X_2,Y_2)\n",
    "print('The Spearman coefficient for the data in the homework is '+str(rho_2))\n",
    "tau_2,pvalke_2=ss.kendalltau(X_2,Y_2)\n",
    "print('The Kendall coefficient for the data in the homework is '+str(tau_2))\n",
    "print('These two values surely indicate a correlation, in particular the Spearman coefficient is very close to one, even if both are minor to rxy')"
   ]
  },
  {
   "cell_type": "code",
   "execution_count": null,
   "metadata": {},
   "outputs": [],
   "source": []
  },
  {
   "cell_type": "code",
   "execution_count": null,
   "metadata": {},
   "outputs": [],
   "source": []
  },
  {
   "cell_type": "code",
   "execution_count": null,
   "metadata": {},
   "outputs": [],
   "source": []
  }
 ],
 "metadata": {
  "kernelspec": {
   "display_name": "Python 3",
   "language": "python",
   "name": "python3"
  },
  "language_info": {
   "codemirror_mode": {
    "name": "ipython",
    "version": 3
   },
   "file_extension": ".py",
   "mimetype": "text/x-python",
   "name": "python",
   "nbconvert_exporter": "python",
   "pygments_lexer": "ipython3",
   "version": "3.6.4"
  }
 },
 "nbformat": 4,
 "nbformat_minor": 2
}
