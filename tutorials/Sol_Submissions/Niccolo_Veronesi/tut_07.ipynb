{
 "cells": [
  {
   "cell_type": "markdown",
   "metadata": {},
   "source": [
    "**Tutorial 7 - Monte Carlo Calculation $\\pi$**\n",
    "\n",
    "Here we will do a little warm up exercise in Monte Carlo calculations.\n"
   ]
  },
  {
   "cell_type": "markdown",
   "metadata": {},
   "source": [
    "1) Imagine a circle circumscribed by a square.  The probability of a random point within the square being inside the circle is equal to the ratio of the area of the circle to the area of the square.  Use a uniform random number generator to calculate the value of $\\pi$.  Use 1,000 and 10,000 points."
   ]
  },
  {
   "cell_type": "code",
   "execution_count": 1,
   "metadata": {},
   "outputs": [
    {
     "name": "stdout",
     "output_type": "stream",
     "text": [
      "With 1000 points we have pi = 3.172\n",
      "With 10000 points we have pi = 3.1432\n"
     ]
    }
   ],
   "source": [
    "import numpy as np\n",
    "bullseye_1=0\n",
    "iterations_1=1000\n",
    "np.random.seed(42)\n",
    "\n",
    "for i in range(iterations_1):\n",
    "    x_1=np.random.rand()  #it generates a number from 0 to 1, so we have a circle with a radius that equals to 1\n",
    "    y_1=np.random.rand()\n",
    "    radius_1=np.sqrt(x_1**2+y_1**2)\n",
    "    if radius_1 <= 1:\n",
    "        bullseye_1=bullseye_1+1\n",
    "        \n",
    "prob_1=bullseye_1/iterations_1\n",
    "area_1=prob_1*4  #where 4 is the area of a square that circumscribes a circle of radius 1 \n",
    "pi_1=area_1  #it should be pi=area/radius**1 but in our case the radius of our circle is 1\n",
    "print('With 1000 points we have pi = '+str(pi_1))\n",
    "\n",
    "bullseye_2=0\n",
    "iterations_2=10000\n",
    "\n",
    "for i in range(iterations_2):\n",
    "    x_2=np.random.rand()\n",
    "    y_2=np.random.rand()\n",
    "    radius_2=np.sqrt(x_2**2+y_2**2)\n",
    "    if radius_2 <= 1:\n",
    "        bullseye_2=bullseye_2+1\n",
    "        \n",
    "prob_2=bullseye_2/iterations_2\n",
    "area_2=prob_2*4 \n",
    "pi_2=area_2 \n",
    "print('With 10000 points we have pi = '+str(pi_2))\n",
    "\n"
   ]
  },
  {
   "cell_type": "markdown",
   "metadata": {},
   "source": [
    "2) Repeat the calculations above in a loop and record the values of $\\pi$.  Make a histogram of your calculated $\\pi$ values.  What is the variance of your estimate of $\\pi$ using 1,000 and 10,000?  How does it scale with the number of points?"
   ]
  },
  {
   "cell_type": "code",
   "execution_count": 4,
   "metadata": {},
   "outputs": [
    {
     "data": {
      "image/png": "[encoded data removed]",
      "text/plain": [
       "<matplotlib.figure.Figure at 0x10b0005f8>"
      ]
     },
     "metadata": {},
     "output_type": "display_data"
    },
    {
     "name": "stdout",
     "output_type": "stream",
     "text": [
      "The mean value of pi over 1000 iterations using 1000 points in each iteration is: 3.1416880000000003\n",
      "The variance of pi over 1000 iterations using 1000 points in each iteration is: 0.002783710656000002\n"
     ]
    },
    {
     "data": {
      "image/png": "[encoded data removed]",
      "text/plain": [
       "<matplotlib.figure.Figure at 0x150fd05e48>"
      ]
     },
     "metadata": {},
     "output_type": "display_data"
    },
    {
     "name": "stdout",
     "output_type": "stream",
     "text": [
      "The mean value of pi over 1000 iterations using 10000 points in each iteration is: 3.1415828\n",
      "The variance of pi over 10000 iterations using 10000 points in each iteration is: 0.00028274258416\n",
      "\n",
      "We can see that the variance of pi, calculated as a vector with a length equal to 1000, scales as the inverse of the number of points we used to calculate pi itself.\n",
      "Infact we have that the ratio between the number of points we used to calculate pi is 0.1 and the inverse of the     ratio between the two variances is 0.10157039258034142\n"
     ]
    }
   ],
   "source": [
    "import matplotlib.pyplot as plt\n",
    "%matplotlib inline\n",
    "np.random.seed(42)\n",
    "\n",
    "iterations_3=1000\n",
    "pi_3=np.empty(1000)\n",
    "for j in range(1000):\n",
    "    bullseye_3=0\n",
    "    for i in range(iterations_3):\n",
    "        x_3=np.random.rand() \n",
    "        y_3=np.random.rand()\n",
    "        radius_3=np.sqrt(x_3**2+y_3**2)\n",
    "        if radius_3 <= 1:\n",
    "            bullseye_3=bullseye_3+1\n",
    "    prob_3=bullseye_3/iterations_3\n",
    "    area_3=prob_3*4  \n",
    "    pi_3[j]=area_3\n",
    "#print(pi_3)\n",
    "plt.hist(pi_3,bins=int(np.sqrt(len(pi_3))),alpha=0.8,edgecolor='blue')\n",
    "plt.xlabel('pi',fontsize=20)\n",
    "plt.show()\n",
    "print('The mean value of pi over 1000 iterations using 1000 points in each iteration is: '+str(np.mean(pi_3)))\n",
    "print('The variance of pi over 1000 iterations using 1000 points in each iteration is: '+str(np.var(pi_3)))\n",
    "\n",
    "iterations_4=10000\n",
    "pi_4=np.empty(1000)\n",
    "for j in range(1000):\n",
    "    bullseye_4=0\n",
    "    for i in range(iterations_4):\n",
    "        x_4=np.random.rand() \n",
    "        y_4=np.random.rand()\n",
    "        radius_4=np.sqrt(x_4**2+y_4**2)\n",
    "        if radius_4 <= 1:\n",
    "            bullseye_4=bullseye_4+1\n",
    "    prob_4=bullseye_4/iterations_4\n",
    "    area_4=prob_4*4  \n",
    "    pi_4[j]=area_4\n",
    "#print(pi_4)\n",
    "plt.hist(pi_4,bins=int(np.sqrt(len(pi_4))),alpha=0.8,edgecolor='blue')\n",
    "plt.xlabel('pi',fontsize=20)\n",
    "plt.show()\n",
    "print('The mean value of pi over 1000 iterations using 10000 points in each iteration is: '+str(np.mean(pi_4)))\n",
    "print('The variance of pi over 10000 iterations using 10000 points in each iteration is: '+str(np.var(pi_4)))\n",
    "print()\n",
    "print('We can see that the variance of pi, calculated as a vector with a length equal to 1000, scales as the inverse of the number of points we used to calculate pi itself.')\n",
    "\n",
    "ratio_points=iterations_3/iterations_4\n",
    "ratio_var=np.var(pi_3)/np.var(pi_4)\n",
    "inv_ratio_var=1/ratio_var\n",
    "print('Infact we have that the ratio between the number of points we used to calculate pi is '+str(ratio_points)+' and the inverse of the     ratio between the two variances is '+str(inv_ratio_var))"
   ]
  },
  {
   "cell_type": "markdown",
   "metadata": {},
   "source": [
    "3) What was done above in two dimensions can be done in more dimensions.  Calculate the volume of a 5 dimensional ball of unit radius in the same way.  Calculate its variance of your estimate in the same way.  Use enough points to get three significant figures."
   ]
  },
  {
   "cell_type": "code",
   "execution_count": 8,
   "metadata": {},
   "outputs": [
    {
     "name": "stdout",
     "output_type": "stream",
     "text": [
      "The mean value of the volume of the five dimensional ball, calculated using 1000 points, is 5.265408 and its variance is 0.141328449536\n"
     ]
    },
    {
     "data": {
      "image/png": "[encoded data removed]",
      "text/plain": [
       "<matplotlib.figure.Figure at 0x15100163c8>"
      ]
     },
     "metadata": {},
     "output_type": "display_data"
    },
    {
     "name": "stdout",
     "output_type": "stream",
     "text": [
      "The mean value of pi over 1000 iterations, using 1000 points in each iteration and a 5-dimensional ball, is: 3.1400500404429557\n",
      "The variance of pi over 1000 iterations, using 1000 points in each iteration and a 5-dimensional ball, is: 0.008084112346167743\n",
      "and the standard deviation is 0.08991169193251644\n",
      "If we take the standard deviation as error on the mean we may have only two significative figures, depending on the  random seed.\n",
      "\n",
      "The mean value of the volume of the five dimensional ball, calculated using 10000 points, is 5.2626144 and its variance is 0.013565414512639996\n"
     ]
    },
    {
     "data": {
      "image/png": "[encoded data removed]",
      "text/plain": [
       "<matplotlib.figure.Figure at 0x150fe34cf8>"
      ]
     },
     "metadata": {},
     "output_type": "display_data"
    },
    {
     "name": "stdout",
     "output_type": "stream",
     "text": [
      "The mean value of pi over 1000 iterations, using 10000 points in each iteration and a 5-dimensional ball, is: 3.141127708357425\n",
      "The variance of pi over 1000 iterations, using 10000 points in each iteration and a 5-dimensional ball, is: 0.0007727156652281382\n",
      "and the standard deviation is 0.027797763673147128\n"
     ]
    }
   ],
   "source": [
    "import scipy.special as spec\n",
    "np.random.seed(42)\n",
    "\n",
    "iterations_5=1000\n",
    "pi_5=np.empty(1000)\n",
    "volume_5=np.empty(1000)\n",
    "for j in range(1000):\n",
    "    bullseye_5=0\n",
    "    for i in range(iterations_5):\n",
    "        x_5=np.random.rand() \n",
    "        y_5=np.random.rand()\n",
    "        z_5=np.random.rand()\n",
    "        w_5=np.random.rand()\n",
    "        t_5=np.random.rand()\n",
    "        radius_5=np.sqrt(x_5**2+y_5**2+z_5**2+w_5**2+t_5**2)\n",
    "        if radius_5 <= 1:\n",
    "            bullseye_5=bullseye_5+1\n",
    "    prob_5=bullseye_5/iterations_5\n",
    "    volume_5[j]=prob_5*(2**5)  \n",
    "    pi_5[j]=(volume_5[j]*spec.gamma(7/2))**(2/5) #I took the equation for the volume of a 5-dimensional ball from wikipedia: https://it.wikipedia.org/wiki/Ipersfera\n",
    "#print(pi_5)\n",
    "mean_volume=np.mean(volume_5)\n",
    "print('The mean value of the volume of the five dimensional ball, calculated using 1000 points, is '+str(np.mean(volume_5))+' and its variance is '+str(np.var(volume_5)))\n",
    "plt.hist(pi_5,bins=int(np.sqrt(len(pi_5))),alpha=0.8,edgecolor='blue')\n",
    "plt.xlabel('pi',fontsize=20)\n",
    "plt.show()\n",
    "print('The mean value of pi over 1000 iterations, using 1000 points in each iteration and a 5-dimensional ball, is: '+str(np.mean(pi_5)))\n",
    "print('The variance of pi over 1000 iterations, using 1000 points in each iteration and a 5-dimensional ball, is: '+str(np.var(pi_5)))\n",
    "print('and the standard deviation is '+str(np.std(pi_5)))\n",
    "print('If we take the standard deviation as error on the mean we may have only two significative figures, depending on the  random seed.')\n",
    "print()\n",
    "\n",
    "iterations_6=10000\n",
    "pi_6=np.empty(1000)\n",
    "volume_6=np.empty(1000)\n",
    "for j in range(1000):\n",
    "    bullseye_6=0\n",
    "    for i in range(iterations_6):\n",
    "        x_6=np.random.rand() \n",
    "        y_6=np.random.rand()\n",
    "        z_6=np.random.rand()\n",
    "        w_6=np.random.rand()\n",
    "        t_6=np.random.rand()\n",
    "        radius_6=np.sqrt(x_6**2+y_6**2+z_6**2+w_6**2+t_6**2)\n",
    "        if radius_6 <= 1:\n",
    "            bullseye_6=bullseye_6+1\n",
    "    prob_6=bullseye_6/iterations_6\n",
    "    volume_6[j]=prob_6*(2**5)  \n",
    "    pi_6[j]=(volume_6[j]*spec.gamma(7/2))**(2/5) \n",
    "#print(pi_6)\n",
    "print('The mean value of the volume of the five dimensional ball, calculated using 10000 points, is '+str(np.mean(volume_6))+' and its variance is '+str(np.var(volume_6)))\n",
    "plt.hist(pi_6,bins=int(np.sqrt(len(pi_6))),alpha=0.8,edgecolor='blue')\n",
    "plt.xlabel('pi',fontsize=20)\n",
    "plt.show()\n",
    "print('The mean value of pi over 1000 iterations, using 10000 points in each iteration and a 5-dimensional ball, is: '+str(np.mean(pi_6)))\n",
    "print('The variance of pi over 1000 iterations, using 10000 points in each iteration and a 5-dimensional ball, is: '+str(np.var(pi_6)))\n",
    "print('and the standard deviation is '+str(np.std(pi_6)))"
   ]
  },
  {
   "cell_type": "code",
   "execution_count": null,
   "metadata": {},
   "outputs": [],
   "source": []
  },
  {
   "cell_type": "code",
   "execution_count": null,
   "metadata": {},
   "outputs": [],
   "source": []
  },
  {
   "cell_type": "code",
   "execution_count": null,
   "metadata": {},
   "outputs": [],
   "source": []
  },
  {
   "cell_type": "code",
   "execution_count": null,
   "metadata": {},
   "outputs": [],
   "source": []
  }
 ],
 "metadata": {
  "kernelspec": {
   "display_name": "Python 3",
   "language": "python",
   "name": "python3"
  },
  "language_info": {
   "codemirror_mode": {
    "name": "ipython",
    "version": 3
   },
   "file_extension": ".py",
   "mimetype": "text/x-python",
   "name": "python",
   "nbconvert_exporter": "python",
   "pygments_lexer": "ipython3",
   "version": "3.6.4"
  }
 },
 "nbformat": 4,
 "nbformat_minor": 2
}
