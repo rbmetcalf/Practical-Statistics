{
 "cells": [
  {
   "cell_type": "code",
   "execution_count": 1,
   "metadata": {
    "collapsed": true
   },
   "outputs": [],
   "source": [
    "# simulate the Monty-Hall Problem using numpy random function!!\n",
    "\n",
    "            "
   ]
  },
  {
   "cell_type": "code",
   "execution_count": 40,
   "metadata": {},
   "outputs": [
    {
     "name": "stdout",
     "output_type": "stream",
     "text": [
      "chance of winning non switch 0.3383\n",
      "chances of winning switch 0.6666\n"
     ]
    }
   ],
   "source": [
    "from numpy import random\n",
    "\n",
    "#num_doors = 3\n",
    "#switch = True ; num_doors= 3; trials =10000\n",
    "#winner = 0\n",
    "\n",
    "#winner_door = random.randint(0, 3)# ; print (\"Prize\", winner_door)\n",
    "\n",
    "#closed_doors = [0,1,2]\n",
    "\n",
    "#choice = random.choice(closed_doors)#; print(\"Choice\", choice)\n",
    "\n",
    "\n",
    "def monty_hall(num_door,switch):     \n",
    "    winner_door = random.randint(0, num_doors)\n",
    "    \n",
    "    closed_doors = [0,1,2]\n",
    "    \n",
    "    choice = random.choice(closed_doors)\n",
    "    while len(closed_doors) > 2:\n",
    "        \n",
    "        remove_door = random.randint(0, num_doors) \n",
    "        \n",
    "        if remove_door == winner_door or remove_door == choice :\n",
    "            continue\n",
    "    \n",
    "        #print (\"Door opened\", remove_door)\n",
    "        closed_doors.remove(remove_door)\n",
    "        available_doors=closed_doors\n",
    "    \n",
    "    #switch = False\n",
    "    if switch :\n",
    "    \n",
    "        available_doors.remove(choice)\n",
    "        choice = available_doors.pop()\n",
    "        #print (available_door)\n",
    "    else :\n",
    "        (choice ==choice)\n",
    "    won = (choice == winner_door)\n",
    "    return won\n",
    "num_doors = 3 ; rials=10000    \n",
    "winner_non_switch = 0\n",
    "winner_switch = 0\n",
    "for i in range (trials) :\n",
    "    won = monty_hall (num_doors, switch= False)\n",
    "\n",
    "   \n",
    "    if won:\n",
    "        winner_non_switch +=1\n",
    "    won= monty_hall(num_doors,switch = True)    \n",
    "    if won:\n",
    "        winner_switch += 1\n",
    "print(\"chance of winning non switch\", float (winner_non_switch)/float (trials))\n",
    "print(\"chances of winning switch\" , float(winner_switch)/float(trials))"
   ]
  },
  {
   "cell_type": "code",
   "execution_count": null,
   "metadata": {
    "collapsed": true
   },
   "outputs": [],
   "source": []
  },
  {
   "cell_type": "code",
   "execution_count": null,
   "metadata": {
    "collapsed": true
   },
   "outputs": [],
   "source": []
  },
  {
   "cell_type": "code",
   "execution_count": null,
   "metadata": {
    "collapsed": true
   },
   "outputs": [],
   "source": []
  },
  {
   "cell_type": "code",
   "execution_count": null,
   "metadata": {
    "collapsed": true
   },
   "outputs": [],
   "source": []
  },
  {
   "cell_type": "code",
   "execution_count": null,
   "metadata": {
    "collapsed": true
   },
   "outputs": [],
   "source": []
  },
  {
   "cell_type": "code",
   "execution_count": null,
   "metadata": {
    "collapsed": true
   },
   "outputs": [],
   "source": [
    "\n"
   ]
  },
  {
   "cell_type": "code",
   "execution_count": null,
   "metadata": {
    "collapsed": true
   },
   "outputs": [],
   "source": []
  }
 ],
 "metadata": {
  "kernelspec": {
   "display_name": "Python 3",
   "language": "python",
   "name": "python3"
  },
  "language_info": {
   "codemirror_mode": {
    "name": "ipython",
    "version": 3
   },
   "file_extension": ".py",
   "mimetype": "text/x-python",
   "name": "python",
   "nbconvert_exporter": "python",
   "pygments_lexer": "ipython3",
   "version": "3.6.3"
  }
 },
 "nbformat": 4,
 "nbformat_minor": 2
}
