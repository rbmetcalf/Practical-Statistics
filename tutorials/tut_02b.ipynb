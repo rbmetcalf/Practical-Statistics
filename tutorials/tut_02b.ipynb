{
 "cells": [
  {
   "cell_type": "markdown",
   "metadata": {},
   "source": [
    "# Tutorial 2b - Principal Components and the Fundamental Plane\n",
    "\n",
    "The fundamental plane is a relationship between properties of elliptical (early type) galaxies.  \n",
    "It can be expressed as\n",
    "\n",
    "$\\log_{10} R_{eff} = a_1 \\log_{10} \\sigma_v + a_2 \\log_{10} <I_e> + c         ~~~~~~~~~~~ $           (1)\n",
    "\n",
    "where $R_{eff}$ is the effective radius, $\\sigma_v$ is the velocity dispersion and $<I_e>$ is the average surface brightness within $R_{eff}$.  $a_1$, $a_2$ and $c$ are constant coefficients.\n",
    "\n",
    "Our goal is to find $a_1$, $a_2$ and $c$.\n",
    "\n",
    "There is an intrinsic distribution in these variables and errors in the measurements of them.\n"
   ]
  },
  {
   "cell_type": "code",
   "execution_count": null,
   "metadata": {},
   "outputs": [],
   "source": [
    "# read in some libraries\n",
    "import numpy as np\n",
    "import matplotlib.pyplot as plt\n",
    "import scipy.optimize as opt\n",
    "import pandas as pa"
   ]
  },
  {
   "cell_type": "markdown",
   "metadata": {},
   "source": [
    "The three measured quantities for a sample of many galaxies form a cloud of points in 3-dimensional parameter space.  \n",
    "\n",
    "The fundamental plane is a flat plane in this space specified by a vector that is normal to it.\n",
    "\n",
    "If the data exists on this plane, apart from measurement errors, the dispersion in the direction perpendicular to the plane will be small.\n",
    "\n",
    "Consider a vector in this parameter space:\n",
    "\n",
    "$b_1 \\log_{10} \\sigma_v + b_2 \\log_{10} <I_e> + b_3\\log_{10} R_{eff} $.\n"
   ]
  },
  {
   "cell_type": "markdown",
   "metadata": {},
   "source": [
    "Read in the data form `fundamental_plane_data.csv`.  The column `sb` is the surface brightness.  \n",
    "These are not logged quantities like in the FP formula.\n",
    "\n",
    "1) Make a 3 x N matrix out of the data.  Call it `D`."
   ]
  },
  {
   "cell_type": "code",
   "execution_count": null,
   "metadata": {},
   "outputs": [],
   "source": [
    "df = pa.read_csv('fundamental_plane_data.csv')\n",
    "df.info()\n",
    ".\n",
    ".\n",
    "\n",
    "print(D.shape)"
   ]
  },
  {
   "cell_type": "markdown",
   "metadata": {},
   "source": [
    "2) Use the plotting function `triangle_plot()` from tutorial 02 to make three scatter plots - $\\log_{10} R_{eff}$ vs $\\log_{10} \\sigma$, $\\log_{10} R_{eff}$ vs $\\log_{10} <I_e>$ and $\\log_{10} \\sigma$ vs $\\log_{10} <I_e>$.  Give them the proper labels in this case."
   ]
  },
  {
   "cell_type": "code",
   "execution_count": null,
   "metadata": {},
   "outputs": [],
   "source": []
  },
  {
   "cell_type": "markdown",
   "metadata": {},
   "source": [
    "3) Using what you learned from tutorial 02, find the covariance matrix and the matrix of the Person correlation coefficients in log space."
   ]
  },
  {
   "cell_type": "code",
   "execution_count": null,
   "metadata": {},
   "outputs": [],
   "source": [
    ".\n",
    ".\n",
    "\n",
    "print('C=',C)\n",
    "\n",
    ".\n",
    ".\n",
    "\n",
    "print('rho=',rho)"
   ]
  },
  {
   "cell_type": "markdown",
   "metadata": {},
   "source": [
    "4) Find the eigen-decomposition of the covariance matrix."
   ]
  },
  {
   "cell_type": "code",
   "execution_count": null,
   "metadata": {},
   "outputs": [],
   "source": []
  },
  {
   "cell_type": "markdown",
   "metadata": {},
   "source": [
    "5) Find the fundamental plane ($a_\\sigma$, $a_I$) using these results.  It is the vector perpendicular to the plane."
   ]
  },
  {
   "cell_type": "code",
   "execution_count": null,
   "metadata": {},
   "outputs": [],
   "source": [
    ".\n",
    ".\n",
    "\n",
    "print('a=',a)"
   ]
  },
  {
   "cell_type": "markdown",
   "metadata": {},
   "source": [
    "6) Find $c$ by requiring that the mean of both sides of equation (1) are the same."
   ]
  },
  {
   "cell_type": "code",
   "execution_count": null,
   "metadata": {},
   "outputs": [],
   "source": []
  },
  {
   "cell_type": "markdown",
   "metadata": {},
   "source": [
    "7) This should make a skatter plot that will show you if you got the parameters right."
   ]
  },
  {
   "cell_type": "code",
   "execution_count": null,
   "metadata": {},
   "outputs": [],
   "source": [
    "plt.scatter(D[0,:], ... ,s=0.1)\n",
    "\n",
    "plt.plot([-1,1],[-1,1],linestyle=':',color='red')\n",
    "plt.xlabel(r'$\\log_{10} R_{eff}$')\n",
    "plt.ylabel(r'$a_1 \\log_{10} \\sigma_v + a_2 \\log_{10} <I_e> + c$')\n",
    "\n",
    "plt.show()"
   ]
  }
 ],
 "metadata": {
  "kernelspec": {
   "display_name": "base",
   "language": "python",
   "name": "python3"
  },
  "language_info": {
   "codemirror_mode": {
    "name": "ipython",
    "version": 3
   },
   "file_extension": ".py",
   "mimetype": "text/x-python",
   "name": "python",
   "nbconvert_exporter": "python",
   "pygments_lexer": "ipython3",
   "version": "3.9.18"
  }
 },
 "nbformat": 4,
 "nbformat_minor": 2
}
