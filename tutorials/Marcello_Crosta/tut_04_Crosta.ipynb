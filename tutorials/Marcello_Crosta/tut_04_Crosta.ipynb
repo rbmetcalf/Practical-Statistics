{
 "cells": [
  {
   "cell_type": "markdown",
   "metadata": {},
   "source": [
    "\n",
    "# Tutorial 4 - Calculating Significance by Monte Carlo\n",
    "\n",
    "In the homework you should have found the correlation coefficients for some data.  \n",
    "The Pearson Correlation Coefficient is\n",
    "\\begin{align}\n",
    "r_{xy} = \\frac{1}{N}\\frac{ \\sum_i (x_i - \\bar{x} ) (y_i - \\bar{y}) }{ \\sqrt{ S^2_x S^2_y} }\n",
    "\\end{align}\n",
    "where\n",
    "\\begin{align}\n",
    "\\bar{x} = \\frac{1}{N}\\sum_i x_i ~~~~ S^2_x = \\frac{1}{(N-1)} \\sum_i ( x_i - \\bar{x} )\n",
    "\\end{align}\n",
    "\n",
    "A non-zero $r_{xy}$ should indicate that there is a correlation between $x$ and $y$.\n",
    "$r_{xy}$ is an estimator of the populations true correlation coefficient\n",
    "\\begin{align}\n",
    "\\rho_{xy} = \\frac{C_{XY}}{\\sqrt{\\sigma^2_x \\sigma_y^2} }\n",
    "\\end{align}\n",
    "\n",
    "But $r_{xy}$ is a function of random variables so we would not expect it to be exactly 0 \n",
    "even if there were no correlations.  We could try to calculate the probability distribution of \n",
    "$r_{xy}$ analytically, but this might be difficult (more on this in lecture).\n",
    "\n",
    "##  Monte Carlo\n",
    "\n",
    "Instead lets find the significance of your measured $r_{xy}$ by Monte Carlo given the hypothesis that \n",
    "$x$ and $y$ are not correlated.\n",
    "\n",
    "\n",
    "1. Create two vectors (X and Y) of random normally distributed numbers with variance 1 and mean zero.  Each vector should be 1000 elements long as was the data in the homework.  Calculate $r_{xy}$ for these.  X and Y \n",
    "are uncorrelated since they where generated independently.\n",
    "\n",
    "2. Repeat step 1 a thousand times to get a distribution of $r_{xy}$.  You should to this in a loop.  There is no reason to save all the X's and Y's.\n",
    "\n",
    "3. Plot a histogram of your  $r_{xy}$ values.  Does it look Gaussian?\n",
    "\n",
    "4. What is the fraction of times $|r_{xy}|$ is larger than 0.025, 0.05, 0.08?  Would you expect to get this value if there were no correlation? Calculate the rxy for the homework set homework_01_2d-datafile.csv?  Would you expect to get this value if there were no correlation?\n",
    "\n",
    "5. Do the exercise above over but this time use the measured $S^2_x$, $S^2_y$, $\\bar{x}$ and $\\bar{y}$ from homework\\_01\\_2d-datafile.csv  to generate the  X and Y variables.   Plot the new histogram of $r_{xy}$ over the old one.   Is there a difference or is the distribution of $r_{xy}$ independent of the averages and variances of the distributions?\n",
    "\n",
    "6. Order your sample of $r_{xy}$'s from smallest to largest.  Take the $i$th value to be an estimate of the $r_{xy}$ where $(N-i)/N$ of the probability distribution is larger than it.  For example the 95\\% upper bound would be at $i/N = 0.95$.  What is the 95\\% upper bound on $r_{xy}$ if there is no correlation between $X$ and $Y$?  We will call this $r_{0.95}$.\n",
    "In lecture we will find that the variance in this estimator is\n",
    "\\begin{align}\n",
    "Var[r_p] = \\frac{2 p (1-p) }{N f(r_p)^2 }\n",
    "\\end{align}\n",
    "for large $N$ where $f(r)$ is the pdf of $r_{xy}$. \n",
    "Assuming that $r_{xy}$ is Gaussian distributed and its variance is the one you measure, what is the variance in your estimate of $r_{0.95}$?\n",
    "\n",
    "7. Extra Credit: If you have time, do 1 through 3 for the Spearman and/or Kendall correlation coefficients.  There are Python functions for calculating them efficiently.  These are \"rank statistics\" that do not rely on any  assumption about the distribution of $X$ and $Y$ (in this case Gaussian) and are thus more widely applicable.  Do they indicate that the data in the home work is correlated?\n"
   ]
  },
  {
   "cell_type": "code",
   "execution_count": 58,
   "metadata": {},
   "outputs": [
    {
     "data": {
      "image/png": "[encoded data removed]",
      "text/plain": [
       "<Figure size 432x288 with 1 Axes>"
      ]
     },
     "metadata": {},
     "output_type": "display_data"
    },
    {
     "name": "stdout",
     "output_type": "stream",
     "text": [
      "The Pearson Correlation Coefficent rxy is: -0.03395341521931209\n"
     ]
    }
   ],
   "source": [
    "#Tutorial # 04\n",
    "## Calculating Significance by Monte Carlo\n",
    "##\n",
    "## More complete directions for this tutorial are in tut4.pdf\n",
    "##\n",
    "\n",
    "#1) Calculate two vectors (X and Y) of random normally distributed numbers \n",
    "#   with variance 1 and mean zero.  Each vector should be 1000 elements long \n",
    "#   as was the data in the homework.  Calculate $r_{xy}$ for these.\n",
    "import numpy as np\n",
    "import matplotlib.pyplot as plt\n",
    "import pandas as pd\n",
    "\n",
    "x = np.random.normal(0, 1, size=1000)\n",
    "y = np.random.normal(0, 1, size=1000)\n",
    "\n",
    "_ = plt.hist(x, bins=50, normed=True, alpha=0.5)\n",
    "_ = plt.hist(y, bins=50, normed=True, alpha=0.5)\n",
    "_ = plt.xlabel('Random Normal numbers')\n",
    "_ = plt.title('X and Y distributions')\n",
    "_ = plt.legend(['X', 'Y'])\n",
    "plt.show()\n",
    "\n",
    "x_mean = np.mean(x)\n",
    "y_mean = np.mean(y)\n",
    "\n",
    "sxy=0\n",
    "sx=0\n",
    "sy=0\n",
    "N=1000.\n",
    "\n",
    "sx = (1/N) * np.sum((x-x_mean)**2)\n",
    "sy = (1/N) * np.sum((y-y_mean)**2)\n",
    "sxy = np.sum((x-x_mean)*(y-y_mean))\n",
    "    \n",
    "\n",
    "    \n",
    "rxy = (1/(N-1)) * (sxy/np.sqrt(sx*sy))\n",
    "print('The Pearson Correlation Coefficent rxy is: ' + str(rxy))"
   ]
  },
  {
   "cell_type": "code",
   "execution_count": 59,
   "metadata": {},
   "outputs": [],
   "source": [
    "#2) Repeat step 1 a thousand times to get a distribution of $r_{xy}$ for a sample \n",
    "#   size equal to that of the homework.\n",
    "\n",
    "rxy = np.zeros_like(x)\n",
    "\n",
    "for j in range(len(rxy)):\n",
    "    x = np.random.normal(0, 1, size=1000)\n",
    "    y = np.random.normal(0, 1, size=1000)\n",
    "\n",
    "    x_mean = np.mean(x)\n",
    "    y_mean = np.mean(y)\n",
    "\n",
    "    sxy=0\n",
    "    sx=0\n",
    "    sy=0\n",
    "    N=1000.\n",
    "\n",
    "    sx = (1/N) * np.sum((x-x_mean)**2)\n",
    "    sy = (1/N) * np.sum((y-y_mean)**2)\n",
    "    sxy = np.sum((x-x_mean)*(y-y_mean))\n",
    "    \n",
    "    rxy[j] = (1/(N-1)) * (sxy/np.sqrt(sx*sy))"
   ]
  },
  {
   "cell_type": "code",
   "execution_count": 60,
   "metadata": {},
   "outputs": [
    {
     "data": {
      "text/plain": [
       "Text(0.5,1,'Pearson Correlation Coefficient')"
      ]
     },
     "execution_count": 60,
     "metadata": {},
     "output_type": "execute_result"
    },
    {
     "data": {
      "image/png": "[encoded data removed]",
      "text/plain": [
       "<Figure size 432x288 with 1 Axes>"
      ]
     },
     "metadata": {},
     "output_type": "display_data"
    }
   ],
   "source": [
    "#3) Plot a histogram of your  $r_{xy}$ values.\n",
    "plt.hist(rxy, normed=True, bins=50)\n",
    "plt.xlabel('rxy')\n",
    "plt.title('Pearson Correlation Coefficient')"
   ]
  },
  {
   "cell_type": "code",
   "execution_count": 61,
   "metadata": {},
   "outputs": [
    {
     "name": "stdout",
     "output_type": "stream",
     "text": [
      "The probability to get |rxy|>0.025 is: 0.411\n",
      "The probability to get |rxy|>0.05 is: 0.123\n",
      "The probability to get |rxy|>0.08 is: 0.009\n",
      "The Pearson Correlation Coefficent rxy for homework data is: 0.9503964231471844\n",
      "The probability to get |rxy|>rxy_homework: 0.0\n",
      "I didn't expect to find rxy>rxy_homework because the homework's data are strongly correlated and our data are random generated.\n"
     ]
    }
   ],
   "source": [
    "#4) What is the fraction of times $|r_{xy}|$ is larger than your measured value \n",
    "#   for homework\\_01\\_2d-datafile.csv ?  Would you expect to find this if there \n",
    "#   were no correlation?\n",
    "\n",
    "f0_025 = np.sum(np.absolute(rxy)>0.025)/N\n",
    "f0_05 = np.sum(np.absolute(rxy)>0.05)/N\n",
    "f0_08 = np.sum(np.absolute(rxy)>0.08)/N\n",
    "print('The probability to get |rxy|>0.025 is: ' + str(f0_025))\n",
    "print('The probability to get |rxy|>0.05 is: ' + str(f0_05))\n",
    "print('The probability to get |rxy|>0.08 is: ' + str(f0_08))\n",
    "\n",
    "df = pd.read_csv('homework_01_2d-datafile.csv')\n",
    "#print(df.head())\n",
    "\n",
    "x_mean = np.mean(df['X'])\n",
    "y_mean = np.mean(df['Y'])\n",
    "\n",
    "sxy=0\n",
    "sx=0\n",
    "sy=0\n",
    "N=1000.\n",
    "\n",
    "sx = (1/N) * np.sum((df['X']-x_mean)**2)\n",
    "sy = (1/N) * np.sum((df['Y']-y_mean)**2)\n",
    "sxy = np.sum((df['X']-x_mean)*(df['Y']-y_mean))\n",
    "    \n",
    "rxy_home = (1/(N-1)) * (sxy/np.sqrt(sx*sy))\n",
    "print('The Pearson Correlation Coefficent rxy for homework data is: ' + str(rxy_home))\n",
    "\n",
    "f_home = np.sum(np.absolute(rxy)>rxy_home)/N\n",
    "print('The probability to get |rxy|>rxy_homework: ' + str(f_home))\n",
    "\n",
    "print(\"I didn't expect to find rxy>rxy_homework because the homework's data are strongly correlated and our data are random generated.\")"
   ]
  },
  {
   "cell_type": "code",
   "execution_count": 62,
   "metadata": {},
   "outputs": [
    {
     "data": {
      "image/png": "[encoded data removed]",
      "text/plain": [
       "<Figure size 432x288 with 1 Axes>"
      ]
     },
     "metadata": {},
     "output_type": "display_data"
    },
    {
     "name": "stdout",
     "output_type": "stream",
     "text": [
      "we don't have differences between the two rxy arrays because they both come from arrays of random numbers.\n"
     ]
    }
   ],
   "source": [
    "#5) Do the exersize over but this time use the measured $S^2_x$, $S^2_y$, $\\bar{x}$ \n",
    "#   and $\\bar{y}$ from homework\\_01\\_2d-datafile.csv  to generate the  X and Y \n",
    "#   variables.  Does this make any difference?\n",
    "\n",
    "rxy_home = np.zeros_like(rxy)\n",
    "\n",
    "for t in range(len(rxy_home)):\n",
    "    x = np.random.normal(np.mean(df['X']), np.std(df['X']), size=1000)\n",
    "    y = np.random.normal(np.mean(df['Y']), np.std(df['Y']), size=1000)\n",
    "\n",
    "    x_mean = np.mean(x)\n",
    "    y_mean = np.mean(y)\n",
    "\n",
    "    sxy=0\n",
    "    sx=0\n",
    "    sy=0\n",
    "    N=1000.\n",
    "\n",
    "    sx = (1/N) * np.sum((x-x_mean)**2)\n",
    "    sy = (1/N) * np.sum((y-y_mean)**2)\n",
    "    sxy = np.sum((x-x_mean)*(y-y_mean))\n",
    "    \n",
    "    rxy_home[t] = (1/(N-1)) * (sxy/np.sqrt(sx*sy))\n",
    "    \n",
    "plt.hist(rxy, normed=True, bins=50, alpha=0.5)\n",
    "plt.hist(rxy_home, normed=True, bins=50, alpha=0.5)\n",
    "plt.xlabel('rxy')\n",
    "plt.legend(['rxy', 'rxy_homework'])\n",
    "plt.title('rxy for random normal numbers')\n",
    "plt.show()\n",
    "\n",
    "print(\"we don't have differences between the two rxy arrays because they both come from arrays of random numbers.\")"
   ]
  },
  {
   "cell_type": "code",
   "execution_count": 63,
   "metadata": {},
   "outputs": [
    {
     "name": "stdout",
     "output_type": "stream",
     "text": [
      "The 95% upper bound (r0.95) on rxy if there is no correlation between X and Y is: 0.052427210879095014\n",
      "The variance Var[r0.95] is: 9.123213696303878e-06\n"
     ]
    }
   ],
   "source": [
    "#6) Order your sample of $r_{xy}$'s from smallest to largest.  Take the $i$th \n",
    "#   value to be an estimate of the $r_{xy}$ where $(N-i)/N$ of the probability \n",
    "#   distribution is larger than it.  For example the 95\\% upper bound would be \n",
    "#   at i/N = 0.95.  What is the 95% upper bound on $r_{xy}$ if there is not \n",
    "#   correlation between $X$ and $Y$?  We will call this $r_{0.95}$.\n",
    "#   In lecture we will find that the variance in this estimator is\n",
    "#\n",
    "#   Var[r_p] = \\frac{ 2 p (1-p) }{N f(r_p)^2 }\n",
    "#\n",
    "#   for large $N$ where $f(r)$ is the pdf of $r_{xy}$. \n",
    "#   Assuming that $r_{xy}$ is Gaussian distributed and its variance is the one \n",
    "#   you measure, what is the variance in your estimate of $r_{0.95}$?\n",
    "\n",
    "rxy = np.sort(rxy)\n",
    "i = int(N * 0.95)\n",
    "r0_95 = rxy[i]\n",
    "print('The 95% upper bound (r0.95) on rxy if there is no correlation between X and Y is: ' + str(r0_95))\n",
    "\n",
    "r_std = np.std(rxy)\n",
    "\n",
    "f=(1/np.sqrt(2*np.pi*r_std*r_std))*np.exp(-(r0_95*r0_95)/(2*r_std*r_std))\n",
    "var_r095 = (2*0.95*(1-0.95))/(N*f*f)\n",
    "\n",
    "print('The variance Var[r0.95] is: ' + str(var_r095))"
   ]
  },
  {
   "cell_type": "code",
   "execution_count": 1,
   "metadata": {},
   "outputs": [],
   "source": [
    "#7) Extra Credit: If you have time, do 1 through 3 for the Spearman and/or Kendall correlation coefficients.  \n",
    "#   There are Python functions for calculating them efficiently.  \n",
    "#   These are \"rank statistics\" that do not rely on any  assumption about the distribution of $X$ and $Y$ \n",
    "#   (in this case Gaussian) and are thus more widely applicable.  \n",
    "#   Do they indicate that the data in the home work is correlated?"
   ]
  }
 ],
 "metadata": {
  "kernelspec": {
   "display_name": "Python 2",
   "language": "python",
   "name": "python2"
  },
  "language_info": {
   "codemirror_mode": {
    "name": "ipython",
    "version": 2
   },
   "file_extension": ".py",
   "mimetype": "text/x-python",
   "name": "python",
   "nbconvert_exporter": "python",
   "pygments_lexer": "ipython2",
   "version": "2.7.12"
  }
 },
 "nbformat": 4,
 "nbformat_minor": 2
}
