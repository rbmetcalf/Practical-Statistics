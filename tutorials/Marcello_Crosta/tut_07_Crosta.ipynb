{
 "cells": [
  {
   "cell_type": "markdown",
   "metadata": {},
   "source": [
    "**Tutorial 7 - Monte Carlo Calculation $\\pi$**\n",
    "\n",
    "Here we will do a little warm up exercise in Monte Carlo calculations.\n"
   ]
  },
  {
   "cell_type": "markdown",
   "metadata": {},
   "source": [
    "1) Imagine a circle circumscribed by a square.  The probability of a random point within the square being inside the circle is equal to the ratio of the area of the circle to the area of the square.  Use a uniform random number generator to calculate the value of $\\pi$.  Use 1,000 and 10,000 points."
   ]
  },
  {
   "cell_type": "code",
   "execution_count": 10,
   "metadata": {},
   "outputs": [
    {
     "name": "stdout",
     "output_type": "stream",
     "text": [
      "Using 1000 random numbers pi=3.064\n",
      "Using 10000 random numbers pi=3.149\n"
     ]
    }
   ],
   "source": [
    "import numpy as np\n",
    "import matplotlib.pyplot as plt\n",
    "\n",
    "ns1 = 1000\n",
    "nc1 = 0\n",
    "\n",
    "for i in range(ns1):\n",
    "    x = np.random.random()\n",
    "    y_rand = np.random.random()\n",
    "    y_circ = np.sqrt(1-x*x)\n",
    "    \n",
    "    if y_rand<y_circ :\n",
    "        nc1 = nc1 + 1\n",
    "        \n",
    "pi1 = nc1/float(ns1)*4\n",
    "\n",
    "ns2 = 10000\n",
    "nc2 = 0\n",
    "\n",
    "for i in range(ns2):\n",
    "    x = np.random.random()\n",
    "    y_rand = np.random.random()\n",
    "    y_circ = np.sqrt(1-x*x)\n",
    "    \n",
    "    if y_rand<y_circ :\n",
    "        nc2 = nc2 + 1\n",
    "        \n",
    "pi2 = nc2/float(ns2)*4\n",
    "\n",
    "print(r'Using 1000 random numbers pi=' + format(pi1,'.3f'))\n",
    "print(r'Using 10000 random numbers pi=' + format(pi2,'.3f'))\n"
   ]
  },
  {
   "cell_type": "markdown",
   "metadata": {},
   "source": [
    "2) Repeat the calculations above in a loop and record the values of $\\pi$.  Make a histogram of your calculated $\\pi$ values.  What is the variance of your estimate of $\\pi$ using 1,000 and 10,000?  How does it scale with the number of points?"
   ]
  },
  {
   "cell_type": "code",
   "execution_count": 35,
   "metadata": {},
   "outputs": [
    {
     "data": {
      "image/png": "[encoded data removed]",
      "text/plain": [
       "<Figure size 432x288 with 1 Axes>"
      ]
     },
     "metadata": {},
     "output_type": "display_data"
    },
    {
     "data": {
      "image/png": "[encoded data removed]",
      "text/plain": [
       "<Figure size 432x288 with 1 Axes>"
      ]
     },
     "metadata": {},
     "output_type": "display_data"
    },
    {
     "name": "stdout",
     "output_type": "stream",
     "text": [
      "Using 1000 random numbers pi=3.1426 with variance=0.0026\n",
      "Using 10000 random numbers pi=3.1413 with variance=0.0003\n"
     ]
    }
   ],
   "source": [
    "pi1 = np.empty(1000)\n",
    "\n",
    "for j in range(1000):\n",
    "    nc1=0\n",
    "    for i in range(ns1):\n",
    "        x = np.random.random()\n",
    "        y_rand = np.random.random()\n",
    "        y_circ = np.sqrt(1-x*x)\n",
    "    \n",
    "        if y_rand<y_circ :\n",
    "            nc1 = nc1 + 1\n",
    "        \n",
    "    pi1[j] = nc1/float(ns1)*4\n",
    "    \n",
    "pi2 = np.empty(1000)\n",
    "\n",
    "for z in range(1000):\n",
    "    nc2 = 0\n",
    "    for i in range(ns2):\n",
    "        x = np.random.random()\n",
    "        y_rand = np.random.random()\n",
    "        y_circ = np.sqrt(1-x*x)\n",
    "    \n",
    "        if y_rand<y_circ :\n",
    "            nc2 = nc2 + 1\n",
    "        \n",
    "    pi2[z] = nc2/float(ns2)*4\n",
    "\n",
    "\n",
    "_ = plt.hist(pi1, normed=True, bins=20, color='orange', edgecolor='blue')\n",
    "_ = plt.title(r'$\\pi$ using 1000 random numbers')\n",
    "_ = plt.xlabel(r'$\\pi$')\n",
    "plt.show()\n",
    "\n",
    "__ =plt.hist(pi2, normed=True, bins=20, color='orange', edgecolor='blue')\n",
    "__ = plt.title(r'$\\pi$ using 10000 random numbers')\n",
    "__ = plt.xlabel(r'$\\pi$')\n",
    "plt.show()\n",
    "\n",
    "\n",
    "print(r'Using 1000 random numbers pi=' + format(np.mean(pi1),'.4f') + ' with variance=' + format(np.var(pi1),'.4f'))\n",
    "print(r'Using 10000 random numbers pi=' + format(np.mean(pi2),'.4f') + ' with variance=' + format(np.var(pi2),'.4f'))"
   ]
  },
  {
   "cell_type": "markdown",
   "metadata": {},
   "source": [
    "3) What was done above in two dimensions can be done in more dimensions.  Calculate the volume of a 5 dimensional ball of unit radius in the same way.  Calculate its variance of your estimate in the same way.  Use enough points to get three significant figures."
   ]
  },
  {
   "cell_type": "code",
   "execution_count": 37,
   "metadata": {},
   "outputs": [
    {
     "data": {
      "image/png": "[encoded data removed]",
      "text/plain": [
       "<Figure size 432x288 with 1 Axes>"
      ]
     },
     "metadata": {},
     "output_type": "display_data"
    },
    {
     "name": "stdout",
     "output_type": "stream",
     "text": [
      "Using 10000 random numbers pi=3.1408 with variance=0.0025\n"
     ]
    }
   ],
   "source": [
    "pi = np.empty(10000)\n",
    "\n",
    "for j in range(10000):\n",
    "    nc1=0\n",
    "    for i in range(5000):\n",
    "        x1 = np.random.random()\n",
    "        x2 = np.random.random()\n",
    "        x3 = np.random.random()\n",
    "        x4 = np.random.random()\n",
    "        x5_rand = np.random.random()\n",
    "        \n",
    "        xs = x1*x1 + x2*x2 + x3*x3 + x4*x4\n",
    "        \n",
    "        if xs<1 :\n",
    "            x5_calc= np.sqrt(1-xs)\n",
    "    \n",
    "            if x5_rand<x5_calc :\n",
    "                nc1 = nc1 + 1\n",
    "    \n",
    "    pi[j] = np.sqrt((nc1/5000.)*(15*2**5/8))\n",
    "    \n",
    "    \n",
    "_ =plt.hist(pi, normed=True, bins=20, color='orange', edgecolor='blue')\n",
    "_ = plt.title(r'$\\pi$ using 10000 random numbers in five dimensions')\n",
    "_ = plt.xlabel(r'$\\pi$')\n",
    "plt.show()\n",
    "\n",
    "\n",
    "print(r'Using 10000 random numbers pi=' + format(np.mean(pi),'.4f') + ' with variance=' + format(np.var(pi),'.4f'))\n"
   ]
  },
  {
   "cell_type": "code",
   "execution_count": 28,
   "metadata": {},
   "outputs": [
    {
     "name": "stdout",
     "output_type": "stream",
     "text": [
      "0.9926403250108599\n"
     ]
    }
   ],
   "source": []
  },
  {
   "cell_type": "code",
   "execution_count": null,
   "metadata": {},
   "outputs": [],
   "source": []
  }
 ],
 "metadata": {
  "kernelspec": {
   "display_name": "Python 2",
   "language": "python",
   "name": "python2"
  },
  "language_info": {
   "codemirror_mode": {
    "name": "ipython",
    "version": 2
   },
   "file_extension": ".py",
   "mimetype": "text/x-python",
   "name": "python",
   "nbconvert_exporter": "python",
   "pygments_lexer": "ipython2",
   "version": "2.7.12"
  }
 },
 "nbformat": 4,
 "nbformat_minor": 2
}
