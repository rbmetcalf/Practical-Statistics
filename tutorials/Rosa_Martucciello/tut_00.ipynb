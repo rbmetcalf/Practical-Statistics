{
 "cells": [
  {
   "cell_type": "code",
   "execution_count": 14,
   "metadata": {},
   "outputs": [
    {
     "name": "stdout",
     "output_type": "stream",
     "text": [
      "3.141592653589793\n",
      "[1, 4, 1, 5, 9, 2, 6, 5, 3, 5]\n",
      "(10,)\n",
      "<class 'numpy.ndarray'>\n",
      "1 5 5\n",
      "4.1 4.5\n"
     ]
    }
   ],
   "source": [
    "#Tutorial number 0:-\n",
    "\n",
    "#import packadge numpy\n",
    "import numpy as np\n",
    "#print the PI and assign it to string varaible PI_str\n",
    "print(np.pi)\n",
    "PI_str=str(np.pi)\n",
    "#create a list called PI_digits of the first 10 decimal digits of PI using string methods.\n",
    "PI_digits=[]\n",
    "for i in range (2,12): \n",
    "          PI_digits.append(int(PI_str[i]))\n",
    "print (PI_digits)\n",
    "    \n",
    "#print the shape, type and  elements number (0, 3, 7) of the array PI_digits\n",
    "PI_digits=np.array(PI_digits)\n",
    "print(PI_digits.shape); print(type(PI_digits)); print(PI_digits[0], PI_digits[3], PI_digits[7])\n",
    "#append to PI_digits the 11th digit \n",
    "np.append(PI_digits, int(PI_str[12]))\n",
    "#print the mean and the median of PI_digits \n",
    "print(np.mean(PI_digits), np.median(PI_digits))\n",
    "\n"
   ]
  },
  {
   "cell_type": "code",
   "execution_count": null,
   "metadata": {},
   "outputs": [],
   "source": []
  }
 ],
 "metadata": {
  "kernelspec": {
   "display_name": "Python 3",
   "language": "python",
   "name": "python3"
  },
  "language_info": {
   "codemirror_mode": {
    "name": "ipython",
    "version": 3
   },
   "file_extension": ".py",
   "mimetype": "text/x-python",
   "name": "python",
   "nbconvert_exporter": "python",
   "pygments_lexer": "ipython3",
   "version": "3.6.4"
  }
 },
 "nbformat": 4,
 "nbformat_minor": 2
}
