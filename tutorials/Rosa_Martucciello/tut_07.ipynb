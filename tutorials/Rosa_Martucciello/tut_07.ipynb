{
 "cells": [
  {
   "cell_type": "markdown",
   "metadata": {},
   "source": [
    "**Tutorial 7 - Monte Carlo Calculation $\\pi$**\n",
    "\n",
    "Here we will do a little warm up exercise in Monte Carlo calculations.\n"
   ]
  },
  {
   "cell_type": "markdown",
   "metadata": {},
   "source": [
    "1) Imagine a circle circumscribed by a square.  The probability of a random point within the square being inside the circle is equal to the ratio of the area of the circle to the area of the square.  Use a uniform random number generator to calculate the value of $\\pi$.  Use 1,000 and 10,000 points."
   ]
  },
  {
   "cell_type": "code",
   "execution_count": 1,
   "metadata": {},
   "outputs": [
    {
     "name": "stdout",
     "output_type": "stream",
     "text": [
      "the value of  π using 1,000 points is 3.172\n",
      "the value of  π using 10,000 points is 3.1332\n"
     ]
    }
   ],
   "source": [
    "import numpy as np\n",
    "import matplotlib.pyplot as plt\n",
    "import random\n",
    "## return the number of points within circle\n",
    "def fun(points):\n",
    "    n=0\n",
    "    for i in range (points):\n",
    "        x=random.uniform(0.0,1.0)\n",
    "        y=random.uniform(0.0,1.0)\n",
    "        if x**2+y**2<1:\n",
    "            n=n+1\n",
    "    return float(n)\n",
    "a=fun(1000)\n",
    "b=fun(10000)\n",
    "pi_1=4*a/1000\n",
    "print('the value of  π using 1,000 points is',str(pi_1))\n",
    "pi_2=4*b/10000\n",
    "print('the value of  π using 10,000 points is',str(pi_2))\n"
   ]
  },
  {
   "cell_type": "markdown",
   "metadata": {},
   "source": [
    "2) Repeat the calculations above in a loop and record the values of $\\pi$.  Make a histogram of your calculated $\\pi$ values.  What is the variance of your estimate of $\\pi$ using 1,000 and 10,000?  How does it scale with the number of points?"
   ]
  },
  {
   "cell_type": "code",
   "execution_count": 4,
   "metadata": {},
   "outputs": [
    {
     "data": {
      "image/png": "[encoded data removed]",
      "text/plain": [
       "<matplotlib.figure.Figure at 0x23f01375240>"
      ]
     },
     "metadata": {},
     "output_type": "display_data"
    },
    {
     "data": {
      "image/png": "[encoded data removed]",
      "text/plain": [
       "<matplotlib.figure.Figure at 0x23f015d8d30>"
      ]
     },
     "metadata": {},
     "output_type": "display_data"
    },
    {
     "name": "stdout",
     "output_type": "stream",
     "text": [
      "the variance of the estimate of π using 1,000 points is 0.0027752633440000026\n",
      "the variance of the estimate of π using 10,000 points is 0.00026561746943359996\n"
     ]
    }
   ],
   "source": [
    "def pi_value(points):\n",
    "    n=0\n",
    "    p=[]\n",
    "    for i in range(points):\n",
    "        ans=fun(points)\n",
    "        p.append(4*ans/float(points))\n",
    "    return p\n",
    "\n",
    "\n",
    "v=pi_value(1000)\n",
    "plt.hist(v,bins=50)\n",
    "plt.title('Histogram of π values using 1,000 points ')\n",
    "plt.show()\n",
    "\n",
    "n=pi_value(10000)\n",
    "plt.hist(n,bins=50)\n",
    "plt.xlim(3.0,3.3)\n",
    "plt.title('Histogram of π values using 10,000 points ')\n",
    "plt.show()\n",
    "\n",
    "var_1=np.var(v)\n",
    "print('the variance of the estimate of π using 1,000 points is', str(var_1))\n",
    "var_2=np.var(n)\n",
    "print('the variance of the estimate of π using 10,000 points is', str(var_2))\n",
    "\n",
    "\n"
   ]
  },
  {
   "cell_type": "markdown",
   "metadata": {},
   "source": [
    "3) What was done above in two dimensions can be done in more dimensions.  Calculate the volume of a 5 dimensional ball of unit radius in the same way.  Calculate its variance of your estimate in the same way.  Use enough points to get three significant figures."
   ]
  },
  {
   "cell_type": "code",
   "execution_count": 12,
   "metadata": {},
   "outputs": [
    {
     "data": {
      "image/png": "[encoded data removed]",
      "text/plain": [
       "<matplotlib.figure.Figure at 0x23f014b98d0>"
      ]
     },
     "metadata": {},
     "output_type": "display_data"
    },
    {
     "name": "stdout",
     "output_type": "stream",
     "text": [
      "the variance of the estimate of π using 30,000 points is 0.00026544653647758877\n"
     ]
    }
   ],
   "source": [
    "import math\n",
    "trials=100\n",
    "def pi_(dim,points):\n",
    "    n=0\n",
    "    p = np.random.uniform(0.0, 1.0, (dim,points))\n",
    "    s=np.sqrt([np.sum(p[:,i]**2) for i in range(points)])\n",
    "    for value in s:\n",
    "        if value<1.0:\n",
    "            n=n+1\n",
    "    return 4.*(float(math.gamma(5/2+1))*float(n)/float(points))**(2/5)\n",
    "\n",
    "def pi_array(points,trials):\n",
    "    val=np.empty(trials)\n",
    "    for i in range(trials):\n",
    "        np.append(val,pi_(5,points))\n",
    "    return val\n",
    "    \n",
    "bb=np.array([pi_(5,30000) for i in range(1000)])\n",
    "\n",
    "plt.hist(bb)\n",
    "plt.show()\n",
    "print('the variance of the estimate of π using 30,000 points is', str(np.var(bb)))\n",
    "\n",
    "\n",
    "\n",
    "\n"
   ]
  },
  {
   "cell_type": "code",
   "execution_count": null,
   "metadata": {},
   "outputs": [],
   "source": []
  },
  {
   "cell_type": "code",
   "execution_count": null,
   "metadata": {},
   "outputs": [],
   "source": []
  }
 ],
 "metadata": {
  "kernelspec": {
   "display_name": "Python 3",
   "language": "python",
   "name": "python3"
  },
  "language_info": {
   "codemirror_mode": {
    "name": "ipython",
    "version": 3
   },
   "file_extension": ".py",
   "mimetype": "text/x-python",
   "name": "python",
   "nbconvert_exporter": "python",
   "pygments_lexer": "ipython3",
   "version": "3.6.4"
  }
 },
 "nbformat": 4,
 "nbformat_minor": 2
}
