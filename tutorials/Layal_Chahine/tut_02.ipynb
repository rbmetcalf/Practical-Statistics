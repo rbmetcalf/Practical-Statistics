{
 "cells": [
  {
   "cell_type": "code",
   "execution_count": 2,
   "metadata": {},
   "outputs": [
    {
     "ename": "IndentationError",
     "evalue": "unexpected indent (<ipython-input-2-26d40ba1f571>, line 2)",
     "output_type": "error",
     "traceback": [
      "\u001b[1;36m  File \u001b[1;32m\"<ipython-input-2-26d40ba1f571>\"\u001b[1;36m, line \u001b[1;32m2\u001b[0m\n\u001b[1;33m    import numpy as np\u001b[0m\n\u001b[1;37m    ^\u001b[0m\n\u001b[1;31mIndentationError\u001b[0m\u001b[1;31m:\u001b[0m unexpected indent\n"
     ]
    }
   ],
   "source": [
    "# simulate the Monty-Hall Problem using numpy random function!!\n",
    "import numpy as np\n",
    "    x=np.random.random_integers(low=1,high=3,size=(5,2))\n",
    "    def monty_hall():\n",
    "        [[selected_door,winning_door]]=np.random.random_integers(low=1,high=3,size=(1,2))\n",
    "        door_options=[1,2,3]\n",
    "        if selected_door==winning_door:\n",
    "            door_options.remove(selected_door)\n",
    "            open_door=np.random.choice(door_options)\n",
    "            switching_door=door_options.remove(open_door)\n",
    "        else:\n",
    "            door_options.remove(selected_door)\n",
    "            door_options.remove(winning_door)\n",
    "            open_door=door_options\n",
    "            switching_door=winning_door\n",
    "        if switching_door==winning_door:\n",
    "            switch=1\n",
    "            no_switch=0\n",
    "        else:\n",
    "            switch=1\n",
    "            no_switch=0\n",
    "        print(switch, no_switch)\n",
    "            "
   ]
  },
  {
   "cell_type": "code",
   "execution_count": null,
   "metadata": {},
   "outputs": [],
   "source": []
  },
  {
   "cell_type": "code",
   "execution_count": null,
   "metadata": {},
   "outputs": [],
   "source": []
  }
 ],
 "metadata": {
  "kernelspec": {
   "display_name": "Python 3",
   "language": "python",
   "name": "python3"
  },
  "language_info": {
   "codemirror_mode": {
    "name": "ipython",
    "version": 3
   },
   "file_extension": ".py",
   "mimetype": "text/x-python",
   "name": "python",
   "nbconvert_exporter": "python",
   "pygments_lexer": "ipython3",
   "version": "3.6.4"
  }
 },
 "nbformat": 4,
 "nbformat_minor": 2
}
