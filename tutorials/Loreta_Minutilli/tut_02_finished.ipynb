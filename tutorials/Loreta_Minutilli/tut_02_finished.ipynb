{
 "cells": [
  {
   "cell_type": "code",
   "execution_count": 113,
   "metadata": {},
   "outputs": [
    {
     "name": "stdout",
     "output_type": "stream",
     "text": [
      "0.6683\n",
      "Chances of winning : 0.6683\n"
     ]
    }
   ],
   "source": [
    "# simulate the Monty-Hall Problem using numpy random function!!\n",
    "from numpy import random\n",
    "\n",
    "trials = 10000\n",
    "winner = 0\n",
    "switch = True\n",
    "for i in range(trials) : \n",
    " doors = [1,2,3]\n",
    " prize = random.randint(1,4) #the prize is behind one of the three doors\n",
    "\n",
    " choice = random.randint(1,4)\n",
    "\n",
    "   \n",
    " while len(doors)>2 : \n",
    "  opened = random.randint(1,4)\n",
    "  if opened == prize or opened == choice :\n",
    "    continue \n",
    "  doors.remove(opened)\n",
    "\n",
    "\n",
    " if switch:\n",
    "    doors.remove(choice)\n",
    "    choice = doors[0]\n",
    "\n",
    " if choice == prize :\n",
    "    winner = winner + 1\n",
    "\n",
    "print(\"Chances of winning : \" + str(float(winner)/float(trials)))\n",
    "    "
   ]
  },
  {
   "cell_type": "code",
   "execution_count": null,
   "metadata": {},
   "outputs": [],
   "source": []
  },
  {
   "cell_type": "code",
   "execution_count": null,
   "metadata": {},
   "outputs": [],
   "source": []
  }
 ],
 "metadata": {
  "kernelspec": {
   "display_name": "Python 2",
   "language": "python",
   "name": "python2"
  },
  "language_info": {
   "codemirror_mode": {
    "name": "ipython",
    "version": 2
   },
   "file_extension": ".py",
   "mimetype": "text/x-python",
   "name": "python",
   "nbconvert_exporter": "python",
   "pygments_lexer": "ipython2",
   "version": "2.7.12"
  }
 },
 "nbformat": 4,
 "nbformat_minor": 2
}
