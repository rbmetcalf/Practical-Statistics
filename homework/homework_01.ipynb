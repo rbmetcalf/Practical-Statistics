{
 "cells": [
  {
   "cell_type": "code",
   "execution_count": 1,
   "metadata": {},
   "outputs": [],
   "source": [
    "# homework # 01\n",
    "\n",
    "# 1) read file homework_01_datafile.csv into a dataframe using pandas\n",
    "\n",
    "\t# plot them as points\n",
    "\n",
    "# 2) find the covariance matrix for the two variables\n",
    "      \n",
    "\t# Are they correlated?\n",
    "\n",
    "# 3) Decompose the covariance matrix using an eigenvalue decompositions\n",
    "\n",
    "\t# What are the principle components of the data?\n",
    "    \n",
    "# What are the variances of each principle component?\n"
   ]
  },
  {
   "cell_type": "code",
   "execution_count": null,
   "metadata": {},
   "outputs": [],
   "source": []
  }
 ],
 "metadata": {
  "kernelspec": {
   "display_name": "Python 2",
   "language": "python",
   "name": "python2"
  },
  "language_info": {
   "codemirror_mode": {
    "name": "ipython",
    "version": 2
   },
   "file_extension": ".py",
   "mimetype": "text/x-python",
   "name": "python",
   "nbconvert_exporter": "python",
   "pygments_lexer": "ipython2",
   "version": "2.7.13"
  }
 },
 "nbformat": 4,
 "nbformat_minor": 2
}
