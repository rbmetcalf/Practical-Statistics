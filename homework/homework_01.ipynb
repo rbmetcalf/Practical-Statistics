{
 "cells": [
  {
   "cell_type": "code",
   "execution_count": null,
   "metadata": {
    "collapsed": true
   },
   "outputs": [],
   "source": [
    "# homework # 01\n",
    "\n",
    "## Here we are going to get a little experience with the covariance matrix \n",
    "## of data and principle components analysis (PCA).  This was introduced in the \n",
    "## lectures.\n",
    "\n",
    "# 1) Read file homework_01_2d-datafile.csv into a dataframe using pandas\n",
    "\n",
    "    # make a scatter plot of them\n",
    "\n",
    "# 2) Find the covariance matrix for the two variables.  There is a python function \n",
    "#    for this, but it would be more instructive if you write your own.\n",
    "      \n",
    "    # Are they correlated? (Remember to normalize the correlation coefficient.)\n",
    "\n",
    "# 3) Decompose the covariance matrix using an eigenvalue decompositions (There are \n",
    "#    python functions for this.)\n",
    "\n",
    "    # What are the principle components of the data? Normalize the vectors to one.\n",
    "    \n",
    "    # What are the variances of each principle component?\n",
    "\n",
    "# 4) Do 1 through 3, but using the data file homework_01_5d-datafile.csv this time.\n",
    "#    In this case the data is 5 dimensional.\n",
    "\n",
    "    # Which variables seem to be correlated with each other and which ones not?"
   ]
  },
  {
   "cell_type": "code",
   "execution_count": null,
   "metadata": {
    "collapsed": true
   },
   "outputs": [],
   "source": []
  }
 ],
 "metadata": {
  "kernelspec": {
   "display_name": "Python 2",
   "language": "python",
   "name": "python2"
  },
  "language_info": {
   "codemirror_mode": {
    "name": "ipython",
    "version": 2
   },
   "file_extension": ".py",
   "mimetype": "text/x-python",
   "name": "python",
   "nbconvert_exporter": "python",
   "pygments_lexer": "ipython2",
   "version": "2.7.14"
  }
 },
 "nbformat": 4,
 "nbformat_minor": 2
}
