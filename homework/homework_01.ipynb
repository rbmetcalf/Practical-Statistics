{
 "cells": [
  {
   "cell_type": "code",
   "execution_count": null,
   "metadata": {
    "collapsed": true
   },
   "outputs": [],
   "source": [
    "# homework # 01\n",
    "\n",
    "## Here we are going to get a little experience with the covariance matrix \n",
    "## of data and principle components analysis.  This was introduced in the \n",
    "## lectures.\n",
    "\n",
    "# 1) Read file homework_01_datafile.csv into a dataframe using pandas\n",
    "\n",
    "    # plot them as points\n",
    "\n",
    "# 2) Find the covariance matrix for the two variables.  There is a python function for this, \n",
    "#    but it would be more instructive if you write your own.\n",
    "      \n",
    "    # Are they correlated? (Remember to normalize the correlation coefficient.)\n",
    "\n",
    "# 3) Decompose the covariance matrix using an eigenvalue decompositions (There are python functions for this.)\n",
    "\n",
    "    # What are the principle components of the data?\n",
    "    \n",
    "    # What are the variances of each principle component?\n",
    "\n",
    "# 4) Do 1 through 3, but using the data file homework_01_1_datafile.csv this time.\n",
    "#    In this case the data is 5 dimensional.\n",
    "\n",
    "    # Which variables seems to be correlated with each other and which ones not?"
   ]
  }
 ],
 "metadata": {
  "kernelspec": {
   "display_name": "Python 2",
   "language": "python",
   "name": "python2"
  },
  "language_info": {
   "codemirror_mode": {
    "name": "ipython",
    "version": 2
   },
   "file_extension": ".py",
   "mimetype": "text/x-python",
   "name": "python",
   "nbconvert_exporter": "python",
   "pygments_lexer": "ipython2",
   "version": "2.7.14"
  }
 },
 "nbformat": 4,
 "nbformat_minor": 2
}
