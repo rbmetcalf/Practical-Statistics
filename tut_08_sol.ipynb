{
 "cells": [
  {
   "cell_type": "markdown",
   "metadata": {},
   "source": [
    "**Tutorial 7 - Markov Chain Monte Carlo**\n",
    "\n",
    "In this tutorial we will learn how to construct a basic Metropolis-Hastings Markov Chain sampler and apply it to supernova data.\n"
   ]
  },
  {
   "cell_type": "code",
   "execution_count": 66,
   "metadata": {
    "collapsed": true
   },
   "outputs": [],
   "source": [
    "# 1) Make a Metropolis-Hastings stepping function.\n",
    "#\n",
    "# The function should take the following inputs \n",
    "# x - the current position in parameter space\n",
    "# loglike - the value of the log of the likelihood \n",
    "#           evaluated at x\n",
    "# loglike_func - a function the returns to log of the \n",
    "#            likelihood given a position in parameters space\n",
    "# proposal_func - a proposal function that takes a position in \n",
    "#                  parameter space and proposes another\n",
    "#\n",
    "# The function should return the updated position, the updated \n",
    "# loglike and a boolean that is True if the proposed step was \n",
    "# accepted and False if it wasn't. \n",
    "# You can assume the proposal function is symmetric.\n",
    "\n",
    "import pandas as pa\n",
    "import numpy as np\n",
    "import matplotlib.pyplot as plt\n",
    "import random\n",
    "\n",
    "\n",
    "def MH_step(x,loglike,loglike_func,proposal_func):\n",
    "    '''\n",
    "    Metropolis-Hastings Monte Carlo Step\n",
    "    '''\n",
    "    y = proposal_func(x)\n",
    "    new_loglike = loglike_func(y)\n",
    "    \n",
    "    if( new_loglike > loglike ):\n",
    "        return y,new_loglike,True\n",
    "    \n",
    "    if( random.random() < np.exp(new_loglike - loglike) ) :\n",
    "        return y,new_loglike,True\n",
    "        \n",
    "    return x,loglike,False\n"
   ]
  },
  {
   "cell_type": "code",
   "execution_count": 67,
   "metadata": {
    "collapsed": true
   },
   "outputs": [],
   "source": [
    "# 2) Complete this code for a Gaussian proposal function class\n",
    "\n",
    "class gaussian_transfer_function :\n",
    "    \n",
    "    ## This part is the constructor and \n",
    "    ## sets the internal information in the object\n",
    "    # that is declared with\n",
    "    # \"func = gaussian_transfer_function(sigma_vector)\"\n",
    "    def __init__(self, sigma):\n",
    "        self.n = len(sigma)\n",
    "        self.s = sigma\n",
    "    ##  This part defines what happens when \n",
    "    ##  you do \"y = func(x)\"\n",
    "    ##  This should return a new point\n",
    "    def __call__(self,x):\n",
    "        return ________________\n"
   ]
  },
  {
   "cell_type": "code",
   "execution_count": 68,
   "metadata": {
    "collapsed": true
   },
   "outputs": [],
   "source": [
    "### This is a class for a Gaussian proposal function\n",
    "from scipy.stats import norm\n",
    "class gaussian_transfer_function :\n",
    "    def __init__(self, sigma):\n",
    "        self.n = len(sigma)\n",
    "        self.s = sigma\n",
    "    def __call__(self,x):\n",
    "        return self.s*norm.rvs(size=self.n) + x\n"
   ]
  },
  {
   "cell_type": "code",
   "execution_count": null,
   "metadata": {
    "collapsed": true
   },
   "outputs": [],
   "source": [
    "# 3) Make a Gaussian likelihood class of the form\n",
    "\n",
    "#class LogGaussianLikelihood :\n",
    "#    def __init__(self,y_data,x_data,y_model,sigma):\n",
    "#    \n",
    "#         store the data, model and errors in the object\n",
    "#         The function y_model(params,x_data) will return the \n",
    "#         predicted value for y to be compared to y_data\n",
    "#\n",
    "#    def __call__(self,params):\n",
    "#         \n",
    "#        Using the stored data and model to calculate \n",
    "#        the log of the Gaussian likelihood and return \n",
    "#        its value.\n",
    "#        "
   ]
  },
  {
   "cell_type": "code",
   "execution_count": 70,
   "metadata": {
    "collapsed": true
   },
   "outputs": [],
   "source": [
    "class LogGaussianLikelihood :\n",
    "    def __init__(self,y_data,x_data,y_model,sigma):       \n",
    "        self.sigma = sigma \n",
    "        self.y_data = y_data\n",
    "        self.x_data = x_data\n",
    "        self.y_model = y_model\n",
    "        \n",
    "    def __call__(self,p):\n",
    "        y = self.y_model(p,self.x_data)\n",
    "        x =  (self.y_data - y)/self.sigma\n",
    "        \n",
    "        return -0.5*np.sum(x**2)\n"
   ]
  },
  {
   "cell_type": "markdown",
   "metadata": {},
   "source": [
    "4) Write a function that returns the distance modulus with \n",
    "signature def mu_model(p,z). \n",
    "\n",
    "parameters p are \n",
    "\n",
    "p[0] is the absolute magnitude normalization \n",
    "\n",
    "p[1] is omega_matter.  \n",
    "\n",
    "Use the library function \n",
    "astropy.cosmology.FlatLambdaCDM.luminosity_distance(z).value \n",
    "to calculate the luminosity distance.\n"
   ]
  },
  {
   "cell_type": "code",
   "execution_count": 71,
   "metadata": {
    "collapsed": true
   },
   "outputs": [],
   "source": [
    "#from astropy.cosmology import FRW\n",
    "import astropy.cosmology as cosmo\n",
    "def mu_model(p,z):\n",
    "    if(p[1] < 0 or p[1] > 1):\n",
    "        return -1.0e100\n",
    "\n",
    "    #if(p[2] < 0 or p[2] > 1):\n",
    "    #    return -1.0e100\n",
    "\n",
    "    #cos = cosmo.LambdaCDM(70,p[1],p[2])\n",
    "    cos = cosmo.FlatLambdaCDM(70,p[1])\n",
    "    #return p[0] + 5*np.log10(cos.luminosity_distance(z).value)  \n",
    "    return p[0] + 5*np.log10(cos.luminosity_distance(z).value)"
   ]
  },
  {
   "cell_type": "code",
   "execution_count": 72,
   "metadata": {},
   "outputs": [
    {
     "data": {
      "image/png": "[encoded data removed]",
      "text/plain": [
       "<matplotlib.figure.Figure at 0x1131854d0>"
      ]
     },
     "metadata": {},
     "output_type": "display_data"
    }
   ],
   "source": [
    "# Read in the supernova data\n",
    "#\n",
    "data = pa.read_csv(\"SCPUnion2.1_mu_vs_z.txt\",sep='\\t',comment='#')\n",
    "\n",
    "z = data['redshift']\n",
    "mu = data['dist_mod']\n",
    "mu_err = data['dist_mod_error']\n",
    "\n",
    "plt.errorbar(z,mu,yerr=mu_err,fmt='|')\n",
    "plt.xlabel('Z')\n",
    "plt.ylabel('distance modulus')\n",
    "plt.show()"
   ]
  },
  {
   "cell_type": "code",
   "execution_count": null,
   "metadata": {
    "collapsed": true
   },
   "outputs": [],
   "source": [
    "# 5) \n",
    "## Make an instance of LogGaussianLikelihood with the data.\n",
    "## Call it loglike_func\n",
    "\n",
    "## Make an instance of gaussian_transfer_function\n",
    "\n",
    "## Set up the initial point p[] and its log likelihood \n",
    "## using  loglike_func(p)\n",
    "\n",
    "## Make an MCMC loop 1000 steps or more long and make a scatter plot of \n",
    "## the chain.  Record the acceptance fraction.\n"
   ]
  },
  {
   "cell_type": "code",
   "execution_count": 94,
   "metadata": {},
   "outputs": [
    {
     "name": "stdout",
     "output_type": "stream",
     "text": [
      "acceptance rate : 26.13  %\n"
     ]
    },
    {
     "data": {
      "image/png": "[encoded data removed]",
      "text/plain": [
       "<matplotlib.figure.Figure at 0x1133b88d0>"
      ]
     },
     "metadata": {},
     "output_type": "display_data"
    }
   ],
   "source": [
    "\n",
    "loglike_func = LogGaussianLikelihood(mu,z,mu_model,mu_err)\n",
    "#trany = gaussian_transfer_function(np.array([0.1,0.1,0.1]))\n",
    "trany = gaussian_transfer_function(np.array([0.1,0.1]))\n",
    "\n",
    "\n",
    "## initial value\n",
    "#p = np.array([25.0,1.0,0.0])\n",
    "p = np.array([25.0,1.0])\n",
    "loglike_val = loglike_func(p)\n",
    "\n",
    "### MCMC loop\n",
    "Nmcmc =100\n",
    "X = np.zeros(Nmcmc)\n",
    "Y = np.zeros(Nmcmc)\n",
    "#Z = np.zeros(Nmcmc)\n",
    "\n",
    "nstep = 0\n",
    "for i in range(0,Nmcmc) :\n",
    "    #print(x,loglike_val)\n",
    "    p,loglike_val,step = MH_step(p,loglike_val,loglike_func,trany)\n",
    "    X[i] = p[0]\n",
    "    Y[i] = p[1]\n",
    "    #Z[i] = p[2]\n",
    "    #print p\n",
    "    if(step):\n",
    "        nstep = nstep + 1\n",
    "### MCMC loop\n",
    "Nmcmc =10000\n",
    "X = np.zeros(Nmcmc)\n",
    "Y = np.zeros(Nmcmc)\n",
    "#Z = np.zeros(Nmcmc)\n",
    "\n",
    "#trany = gaussian_transfer_function(np.array([0.1,0.1,0.1]))\n",
    "trany = gaussian_transfer_function(np.array([0.02,0.03]))\n",
    "\n",
    "nstep = 0\n",
    "for i in range(0,Nmcmc) :\n",
    "    #print(x,loglike_val)\n",
    "    p,loglike_val,step = MH_step(p,loglike_val,loglike_func,trany)\n",
    "    X[i] = p[0]\n",
    "    Y[i] = p[1]\n",
    "    #Z[i] = p[2]\n",
    "    #print p\n",
    "    if(step):\n",
    "        nstep = nstep + 1\n",
    "\n",
    "print 'acceptance rate :',100.*nstep/Nmcmc,' %'\n",
    "\n",
    "#plt.scatter(Y,Z,alpha=0.1,s=2.0)\n",
    "#plt.xlabel(r'$\\Omega_m$')\n",
    "#plt.ylabel(r'$\\Omega_\\Lambda$')\n",
    "#plt.plot([1.0,0],[0.0,1.0],linestyle=':')\n",
    "#plt.xlim(np.min(Y),np.max(Y))\n",
    "#plt.ylim(np.min(Z),np.max(Z))\n",
    "#plt.show()\n",
    "\n",
    "plt.scatter(Y,X,alpha=0.1)\n",
    "plt.xlabel(r'$\\Omega_m$')\n",
    "plt.ylabel('M')\n",
    "plt.show()\n"
   ]
  },
  {
   "cell_type": "markdown",
   "metadata": {},
   "source": [
    "6) Make historgrams of the two parameters."
   ]
  },
  {
   "cell_type": "code",
   "execution_count": 95,
   "metadata": {},
   "outputs": [
    {
     "data": {
      "image/png": "[encoded data removed]",
      "text/plain": [
       "<matplotlib.figure.Figure at 0x1129fbe90>"
      ]
     },
     "metadata": {},
     "output_type": "display_data"
    },
    {
     "data": {
      "image/png": "[encoded data removed]",
      "text/plain": [
       "<matplotlib.figure.Figure at 0x113f00590>"
      ]
     },
     "metadata": {},
     "output_type": "display_data"
    }
   ],
   "source": [
    "## 6)\n",
    "plt.hist(Y,bins=25)\n",
    "plt.xlabel(r'$\\Omega_m$')\n",
    "plt.show()\n",
    "\n",
    "plt.hist(X,bins=25)\n",
    "plt.xlabel(r'$M_o$')\n",
    "plt.show()"
   ]
  },
  {
   "cell_type": "markdown",
   "metadata": {},
   "source": [
    "7) Use numpy.histogram2d() to make a 2 dimensional of the chain."
   ]
  },
  {
   "cell_type": "code",
   "execution_count": null,
   "metadata": {
    "collapsed": true
   },
   "outputs": [],
   "source": []
  },
  {
   "cell_type": "code",
   "execution_count": 87,
   "metadata": {
    "collapsed": true
   },
   "outputs": [],
   "source": [
    "## 8) Use this function to estimate the correlation length \n",
    "## of your chain. Plot the autocorrelation function for \n",
    "## lag zero to a few hundred.\n",
    "def corrfunction(x,y):\n",
    "    '''\n",
    "    This function calculates the correlation coefficient \n",
    "    as a function of lag between \n",
    "    '''\n",
    "    xc = x - np.mean(x)\n",
    "    yc = y - np.mean(y)\n",
    "    \n",
    "    N = len(x)\n",
    "    out = np.empty(N-2)\n",
    "    stdx = np.std(xc)\n",
    "    stdy = np.std(yc)\n",
    "\n",
    "    for i in range(N-2) :\n",
    "        xt = xc[0:N-i]\n",
    "        yt = yc[i:N]\n",
    "        if(stdx == 0 or stdy == 0):  ## this can happen for last elements\n",
    "            out[i] = 0\n",
    "        else :\n",
    "            out[i] = np.mean(xt*yt)/stdx/stdy\n",
    "\n",
    "    return out\n"
   ]
  },
  {
   "cell_type": "code",
   "execution_count": 97,
   "metadata": {},
   "outputs": [
    {
     "data": {
      "image/png": "[encoded data removed]",
      "text/plain": [
       "<matplotlib.figure.Figure at 0x1136d6190>"
      ]
     },
     "metadata": {},
     "output_type": "display_data"
    }
   ],
   "source": [
    "c = corrfunction(Y,Y)\n",
    "\n",
    "plt.plot(c)\n",
    "plt.xlim(0,100)\n",
    "plt.ylim(-1,1)\n",
    "plt.plot([0,200],[0,0],linestyle=':')\n",
    "plt.show()"
   ]
  },
  {
   "cell_type": "markdown",
   "metadata": {},
   "source": [
    "8) Calculate the mean, variance and covariance of the parameters."
   ]
  },
  {
   "cell_type": "code",
   "execution_count": 98,
   "metadata": {},
   "outputs": [
    {
     "name": "stdout",
     "output_type": "stream",
     "text": [
      "Omega_m =  0.279011556237  +/-  0.019686095067\n",
      "M_0 =  25.0003900526  +/-  0.0108714228727\n"
     ]
    }
   ],
   "source": [
    "print 'Omega_m = ',np.mean(Y),' +/- ',np.std(Y)\n",
    "print 'M_0 = ',np.mean(X),' +/- ',np.std(X)"
   ]
  },
  {
   "cell_type": "code",
   "execution_count": null,
   "metadata": {
    "collapsed": true
   },
   "outputs": [],
   "source": []
  }
 ],
 "metadata": {
  "kernelspec": {
   "display_name": "Python 2",
   "language": "python",
   "name": "python2"
  },
  "language_info": {
   "codemirror_mode": {
    "name": "ipython",
    "version": 2
   },
   "file_extension": ".py",
   "mimetype": "text/x-python",
   "name": "python",
   "nbconvert_exporter": "python",
   "pygments_lexer": "ipython2",
   "version": "2.7.14"
  }
 },
 "nbformat": 4,
 "nbformat_minor": 2
}
