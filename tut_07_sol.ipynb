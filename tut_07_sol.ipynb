{
 "cells": [
  {
   "cell_type": "markdown",
   "metadata": {},
   "source": [
    "**Tutorial 7 - Monte Carlo Calculation $\\pi$**\n",
    "\n",
    "Here we will do a little warm up exercise in Monte Carlo calculations.\n"
   ]
  },
  {
   "cell_type": "markdown",
   "metadata": {},
   "source": [
    "1) Imagine a circle circumscribed by a square.  The probability of a random point within the square being inside the circle is equal to the ratio of the area of the circle to the area of the square.  Use a uniform random number generator to calculate the value of $\\pi$.  Use 1,000 and 10,000 points."
   ]
  },
  {
   "cell_type": "code",
   "execution_count": null,
   "metadata": {},
   "outputs": [],
   "source": [
    "import numpy as np\n",
    "import matplotlib.pylab as plt\n",
    "from matplotlib.colors import LogNorm\n",
    "\n",
    "n_points = 1000, 10000\n",
    "points_x, points_y = {}, {}\n",
    "point_dist = {}; pi_derived = {}\n",
    "for i in range(2):\n",
    "    points_x[i] = np.random.uniform(0.0, 1.0, n_points[i])\n",
    "    points_y[i] = np.random.uniform(0.0, 1.0, n_points[i])\n",
    "\n",
    "    point_dist[i] = np.sqrt(points_x[i]**2 + points_y[i]**2)\n",
    "    j = 0\n",
    "    for d in point_dist[i]:\n",
    "        if d < 1.0:\n",
    "            j += 1\n",
    "        else:\n",
    "            None\n",
    "    pi_derived[i] = 4. * (float(j)/float(n_points[i]))\n",
    "\n",
    "print 'Estimated value of Pi: %s' %pi_derived"
   ]
  },
  {
   "cell_type": "markdown",
   "metadata": {},
   "source": [
    "2) Repeat the calculations above in a loop and record the values of $\\pi$.  Make a histogram of your calculated $\\pi$ values.  What is the variance of your estimate of $\\pi$ using 1,000 and 10,000?  How does it scale with the number of points?"
   ]
  },
  {
   "cell_type": "code",
   "execution_count": null,
   "metadata": {},
   "outputs": [],
   "source": [
    "def mc_pi(d, n_points):\n",
    "    points = np.random.uniform(0.0, 1.0, (d, n_points))\n",
    "    point_dist = np.sqrt([np.sum(x) for x in zip(*points**2)])\n",
    "    j = 0\n",
    "    for d in point_dist:\n",
    "        if d < 1.0:\n",
    "            j += 1\n",
    "        else:\n",
    "            None\n",
    "    return 4. * (float(j)/float(n_points))\n",
    "\n",
    "Pi_array = np.array([mc_pi(2, 10000) for i in range(1000)])\n",
    "plt.figure()\n",
    "plt.hist(Pi_array, bins=30)\n",
    "plt.show()\n",
    "\n",
    "Pi_var = np.var(Pi_array)\n",
    "print 'The variance of the estimated value of Pi is %s' %Pi_var"
   ]
  },
  {
   "cell_type": "markdown",
   "metadata": {},
   "source": [
    "3) What was done above in two dimensions can be done in more dimensions.  Calculate the volume of a 5 dimensional ball of unit radius in the same way.  Calculate its variance of your estimate in the same way.  Use enough points to get three significant figures."
   ]
  },
  {
   "cell_type": "code",
   "execution_count": 5,
   "metadata": {},
   "outputs": [
    {
     "name": "stdout",
     "output_type": "stream",
     "text": [
      "2.0\n"
     ]
    }
   ],
   "source": [
    "import math\n",
    "n= 1.\n",
    "volume = math.pi**(n/2.)/math.gamma(n/2. + 1.)\n",
    "print volume"
   ]
  },
  {
   "cell_type": "code",
   "execution_count": null,
   "metadata": {},
   "outputs": [],
   "source": []
  }
 ],
 "metadata": {
  "kernelspec": {
   "display_name": "Python 2",
   "language": "python",
   "name": "python2"
  },
  "language_info": {
   "codemirror_mode": {
    "name": "ipython",
    "version": 2
   },
   "file_extension": ".py",
   "mimetype": "text/x-python",
   "name": "python",
   "nbconvert_exporter": "python",
   "pygments_lexer": "ipython2",
   "version": "2.7.13"
  }
 },
 "nbformat": 4,
 "nbformat_minor": 2
}
